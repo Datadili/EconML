{
 "cells": [
  {
   "cell_type": "markdown",
   "id": "29069939",
   "metadata": {},
   "source": [
    "# Homework 7, Dili Maduabum and Josh Bailey"
   ]
  },
  {
   "cell_type": "markdown",
   "id": "908fc561",
   "metadata": {},
   "source": [
    "## Problem 1"
   ]
  },
  {
   "cell_type": "markdown",
   "id": "2e1ce6a1",
   "metadata": {},
   "source": [
    "**Part 1**"
   ]
  },
  {
   "cell_type": "markdown",
   "id": "866e9967",
   "metadata": {},
   "source": [
    "**Exogenous** \n",
    "\n",
    "$\\breve X$ is an exogenous instrument for $\\tilde X$ if $Cov(\\tilde U, \\breve X) = 0$, where $\\tilde U$ is gotten from:\n",
    "\n",
    "$$\n",
    "Y = \\tilde XB + U \\implies Y = XB + \\underbrace{V^1B + U}_{\\tilde U} \\\\\n",
    "\\therefore Y = XB + \\tilde U\n",
    "$$\n",
    "\n",
    "$$\n",
    "\\begin{align*}\n",
    "Cov(\\tilde U, \\breve X) &= Cov(V^1B + U, \\breve X)\\\\\n",
    "&= Cov(V^1B + U, X + V^2)\\\\\n",
    "&= Cov(V^1B, X) +  Cov(V^1B, V^2) +  Cov(U, X) +  Cov(U, V^2)\\\\\n",
    "\\end{align*}\n",
    "$$\n",
    "Term by term: \n",
    "\n",
    "$Cov(V^1B, X) = BCov(V^1, X) = B(\\underbrace{E[XV^1]}_{0} - \\underbrace{E[X]\\underbrace{E[V^1]}_{0}}_{0}) = 0$\n",
    "\n",
    "$Cov(V^1B, V^2) = BCov(V^1, V^2) = B(\\underbrace{E[V^1V^2]}_{0} - \\underbrace{E[V^1]\\underbrace{E[V^2]}_{0}}_{0}) = 0$\n",
    "\n",
    "$Cov(U, X) = 0$ by assumption\n",
    "\n",
    "$Cov(U, V^2) = \\underbrace{E[UV^2]}_{0} - \\underbrace{E[U]\\underbrace{E[V^2]}_{0}}_{0} = 0$\n",
    "\n",
    "$$\n",
    "\\begin{align*}\n",
    "\\therefore Cov(\\tilde U, \\breve X) &= 0 + 0 + 0 + 0 = 0 ///\\\\\n",
    "\\end{align*}\n",
    "$$\n",
    "**Relevance** \n",
    "\n",
    "To show relevance, it's enough to show that $Cov(\\tilde X, \\breve X) \\ne 0$\n",
    "$$\n",
    "\\begin{align*}\n",
    "Cov(\\tilde X, \\breve X) &= Cov(X + V^1, X + V^2)\\\\\n",
    " &= Cov(X, X) + Cov(X, V^2) + Cov(V^1, X) + Cov(V^1, V^2)\\\\\n",
    "\\end{align*}\n",
    "$$\n",
    "\n",
    "Term by term: \n",
    "\n",
    "$Cov(X, X) = Var(X)$\n",
    "\n",
    "$Cov(X, V^2) = \\underbrace{E[XV^2]}_{0} - \\underbrace{E[X]\\underbrace{E[V^2]}_{0}}_{0}) = 0$\n",
    "\n",
    "$Cov(V^1, X) = 0$ (see the calculations in `Exogenous`)\n",
    "\n",
    "$Cov(V^1, V^2) = 0$ (see the calculations in `Exogenous`)\n",
    "\n",
    "$$\n",
    "\\begin{align*}\n",
    "\\therefore Cov(\\tilde X, \\breve X) &= Var(X) + 0 + 0 + 0 = Var(X) > 0///\\\\\n",
    "\\end{align*}\n",
    "$$"
   ]
  },
  {
   "cell_type": "markdown",
   "id": "b7a6363d",
   "metadata": {},
   "source": [
    "**Part 2**"
   ]
  },
  {
   "cell_type": "markdown",
   "id": "6d51c10d",
   "metadata": {},
   "source": [
    "$$\n",
    "\\begin{align*}\n",
    "Q^s(P) &= \\alpha^s + P\\beta^s + Z\\gamma + U^s \\\\\n",
    "Q^d(P) &= \\alpha^d + P\\beta^d + U^d\n",
    "\\end{align*}\n",
    "$$"
   ]
  },
  {
   "cell_type": "markdown",
   "id": "e146a3e4",
   "metadata": {},
   "source": [
    "**a)** We expect $\\beta^s$ to be positive (upward sloping slope curve) and $\\beta^d$ to be negative (downward sloping demand curve). Thus $\\beta^d - \\beta^s$ should be negative."
   ]
  },
  {
   "cell_type": "markdown",
   "id": "4da398c3",
   "metadata": {},
   "source": [
    "**b)** $Q^s(P) = Q^d(P)$\n",
    "$$\n",
    "\\begin{align*}\n",
    "\\alpha^s + P\\beta^s + Z\\gamma + U^s = \\alpha^d + P\\beta^d + U^d \\\\\n",
    "P\\beta^d - P\\beta^s = \\alpha^s - \\alpha^d + Z\\gamma + U^s -  U^d\\\\\n",
    "\\implies P^{equilibrium} = \\frac{\\alpha^s - \\alpha^d + Z\\gamma + U^s -  U^d}{\\beta^d - \\beta^s}\n",
    "\\end{align*}\n",
    "$$"
   ]
  },
  {
   "cell_type": "markdown",
   "id": "e3ce217e",
   "metadata": {},
   "source": [
    "**c)** To show that the equilibrium price is endogenous in the model for demand, it is enough to show that :\n",
    "$Cov(P^{equilibrium}, U^d) \\ne 0$\n",
    "\n",
    "$$\n",
    "\\begin{equation*}\n",
    "\\implies Cov(\\frac{\\alpha^s - \\alpha^d + Z\\gamma + U^s -  U^d}{\\beta^d - \\beta^s}, U^d)\\\\\n",
    "= \\frac{1}{\\beta^d - \\beta^s}Cov(\\alpha^s - \\alpha^d + Z\\gamma + U^s -  U^d, U^d) \\\\\n",
    "= \\frac{1}{\\beta^d - \\beta^s}(\\underbrace{Cov(\\alpha^s - \\alpha^d, U^d)}_{0 \\text{, covariance with constant}} + \\gamma \\underbrace{Cov(Z, U^d)}_{0\\text{, since $E[ZU^d] = 0$}} + \\underbrace{Cov(U^s, U^d)}_{0} - \\underbrace{Cov(U^d, U^d)}_{Var(U^d)})\\\\\n",
    "= -\\frac{1}{\\beta^d - \\beta^s}Var(U^d) \\ne 0 \\quad \\text{under the assumption that} \\quad Var(U^d) \\ne 0\n",
    "\\end{equation*}\n",
    "$$\n",
    "\n",
    "Thus, equilibrium price is endogenous in the model for demand\n"
   ]
  },
  {
   "cell_type": "markdown",
   "id": "0d538544",
   "metadata": {},
   "source": [
    "**d) Exogenous** \n",
    "\n",
    "To show that Z as instrument for P in the demand model is exogenous, it is enough to show that $Cov(Z, U^d) = 0$:\n",
    "\n",
    "$$\n",
    "\\begin{equation*}\n",
    "Cov(Z, U^d) = \\underbrace{E[ZU^d]}_{0 \\text{, as given}} -  \\underbrace{E[Z]\\underbrace{E[U^d]}_{0}}_{\\implies 0} \\implies 0\n",
    "\\end{equation*}\n",
    "$$\n",
    "\n",
    "**Relevance** \n",
    "\n",
    "To show that Z as instrument for P in the demand model is relevant, it is enough to show that $Cov(P, Z) \\ne 0$:\n",
    "\n",
    "$$\n",
    "Cov(P, Z) =  Cov(\\frac{\\alpha^s - \\alpha^d + Z\\gamma + U^s -  U^d}{\\beta^d - \\beta^s}, Z)\\\\\n",
    "= \\frac{1}{\\beta^d - \\beta^s}Cov(\\alpha^s - \\alpha^d + Z\\gamma + U^s -  U^d, Z) \\\\\n",
    "= \\frac{1}{\\beta^d - \\beta^s}(\\underbrace{Cov(\\alpha^s - \\alpha^d, Z)}_{0 \\text{, covariance with constant}} + \\gamma \\underbrace{Cov(Z, Z)}_{Var(Z)} + \\underbrace{Cov(U^s, Z)}_{0} - \\underbrace{Cov(U^d, Z)}_{0})\\\\\n",
    "$$\n",
    "\n",
    "The third term is 0 because $E[U^s, Z] = 0$ & $E[U^s] = 0$ while the fourth term is 0 because $E[U^d, Z] = 0$ & $E[U^d] = 0$\n",
    "\n",
    "Thus\n",
    "$$\n",
    "Cov(P, Z) = \\frac{1}{\\beta^d - \\beta^s}\\gamma Var(z) > 0\n",
    "$$"
   ]
  },
  {
   "cell_type": "markdown",
   "id": "a2f8b6b7",
   "metadata": {},
   "source": [
    "**e)**\n",
    "No, Z is not a valid instrument in the supply model since Z affects supply directly, not just through price."
   ]
  },
  {
   "cell_type": "markdown",
   "id": "8d718281",
   "metadata": {},
   "source": [
    "## Problem 2"
   ]
  },
  {
   "cell_type": "markdown",
   "id": "094f972d",
   "metadata": {},
   "source": [
    "**Part 1**"
   ]
  },
  {
   "cell_type": "code",
   "execution_count": 1,
   "id": "34163a4c",
   "metadata": {},
   "outputs": [],
   "source": [
    "import numpy as np\n",
    "\n",
    "def generate_simulation_data(n, beta_1, beta_2, beta_3, beta_4, gamma_1, gamma_2):\n",
    "    \"\"\"\n",
    "    Generate simulation data based on specified parameters.\n",
    "    \n",
    "    Parameters:\n",
    "    - n: Number of observations.\n",
    "    - beta_1, beta_2, beta_3, beta_4: Coefficients for the model.\n",
    "    - gamma_1, gamma_2: Parameters for the generation of x1.\n",
    "    \n",
    "    Returns:\n",
    "    - y, x1, x2: Generated data vectors.\n",
    "    \"\"\"\n",
    "    # Generate x2\n",
    "    x2 = np.random.normal(0, 1, n)\n",
    "    \n",
    "    # Generate v\n",
    "    v = np.random.normal(0, 0.1, n)\n",
    "    \n",
    "    # Generate x1\n",
    "    x1 = x2 + x2**2 * gamma_1 + x2**5 * gamma_2 + v\n",
    "    \n",
    "    # Generate structural error u\n",
    "    u = np.random.normal(0, 1, n)\n",
    "    \n",
    "    # Generate y\n",
    "    y = x1 * beta_1 + x2 * beta_2 + x2**2 * beta_3 + np.sin(x2) * beta_4 + u\n",
    "    \n",
    "    return y, x1, x2\n"
   ]
  },
  {
   "cell_type": "markdown",
   "id": "c81bfa37",
   "metadata": {},
   "source": [
    "**Part 2**"
   ]
  },
  {
   "cell_type": "code",
   "execution_count": 2,
   "id": "647db434",
   "metadata": {},
   "outputs": [
    {
     "data": {
      "text/plain": [
       "{'beta_1_unrestricted': 1.8573878374894004,\n",
       " 'std_err_unrestricted': 1.08677918452562,\n",
       " 'beta_1_restricted': 2.152756507291159,\n",
       " 'std_err_restricted': 0.09361751405388398,\n",
       " 'beta_1_pretest': 1.8573878374894004,\n",
       " 'std_err_pretest': 1.08677918452562,\n",
       " 'selected_model': 'Unrestricted'}"
      ]
     },
     "execution_count": 2,
     "metadata": {},
     "output_type": "execute_result"
    }
   ],
   "source": [
    "import statsmodels.api as sm\n",
    "\n",
    "def generate_simulation_data(n, beta_1, beta_2, beta_3, beta_4, gamma_1, gamma_2):\n",
    "    \"\"\"\n",
    "    Generate simulation data according to specified parameters.\n",
    "    \n",
    "    Parameters:\n",
    "    - n: Number of observations.\n",
    "    - beta_1, beta_2, beta_3, beta_4: Coefficients for the model.\n",
    "    - gamma_1, gamma_2: Parameters for the generation of x1.\n",
    "    \n",
    "    Returns:\n",
    "    - y, x1, x2: Generated data vectors.\n",
    "    \"\"\"\n",
    "    x2 = np.random.normal(0, 1, n)\n",
    "    v = np.random.normal(0, 0.1, n)\n",
    "    x1 = x2 + x2**2 * gamma_1 + x2**5 * gamma_2 + v\n",
    "    u = np.random.normal(0, 1, n)\n",
    "    y = x1 * beta_1 + x2 * beta_2 + x2**2 * beta_3 + np.sin(x2) * beta_4 + u\n",
    "    return y, x1, x2\n",
    "\n",
    "def estimate_coefficients(y, x1, x2):\n",
    "    \"\"\"\n",
    "    Estimate coefficients and standard errors for unrestricted and restricted regression,\n",
    "    and implement pretest regression procedure.\n",
    "    \n",
    "    Parameters:\n",
    "    - y, x1, x2: Observations of dependent variable and two independent variables.\n",
    "    \n",
    "    Returns:\n",
    "    Dictionary containing estimated coefficients, selected model, and standard errors.\n",
    "    \"\"\"\n",
    "    X_unrestricted = sm.add_constant(np.column_stack((x1, x2)))\n",
    "    unrestricted_model = sm.OLS(y, X_unrestricted).fit()\n",
    "    beta_1_unrestricted = unrestricted_model.params[1]\n",
    "    beta_2_hat = unrestricted_model.params[2]\n",
    "    std_err_unrestricted = unrestricted_model.bse[1]\n",
    "\n",
    "    X_restricted = sm.add_constant(x1)\n",
    "    restricted_model = sm.OLS(y, X_restricted).fit()\n",
    "    beta_1_restricted = restricted_model.params[1]\n",
    "    std_err_restricted = restricted_model.bse[1]\n",
    "    \n",
    "    n = len(y)\n",
    "    t_n = (np.sqrt(np.log(n)) / np.sqrt(n))\n",
    "    if abs(beta_2_hat) > t_n:\n",
    "        selected_model = \"Unrestricted\"\n",
    "        beta_1_pretest = beta_1_unrestricted\n",
    "        std_err_pretest = std_err_unrestricted\n",
    "    else:\n",
    "        selected_model = \"Restricted\"\n",
    "        beta_1_pretest = beta_1_restricted\n",
    "        std_err_pretest = std_err_restricted\n",
    "    \n",
    "    return {\n",
    "        \"beta_1_unrestricted\": beta_1_unrestricted,\n",
    "        \"std_err_unrestricted\": std_err_unrestricted,\n",
    "        \"beta_1_restricted\": beta_1_restricted,\n",
    "        \"std_err_restricted\": std_err_restricted,\n",
    "        \"beta_1_pretest\": beta_1_pretest,\n",
    "        \"std_err_pretest\": std_err_pretest,\n",
    "        \"selected_model\": selected_model\n",
    "    }\n",
    "\n",
    "# Example usage with specified parameters\n",
    "n = 100\n",
    "beta_1 = 2\n",
    "beta_2 = (3 / np.sqrt(n))\n",
    "beta_3 = 0\n",
    "beta_4 = 0\n",
    "gamma_1 = 0\n",
    "gamma_2 = 0\n",
    "\n",
    "y, x1, x2 = generate_simulation_data(n, beta_1, beta_2, beta_3, beta_4, gamma_1, gamma_2)\n",
    "estimates = estimate_coefficients(y, x1, x2)\n",
    "\n",
    "estimates\n"
   ]
  },
  {
   "cell_type": "markdown",
   "id": "cc2112fe",
   "metadata": {},
   "source": [
    "**Part 3** "
   ]
  },
  {
   "cell_type": "code",
   "execution_count": 3,
   "id": "4407d99c",
   "metadata": {},
   "outputs": [
    {
     "name": "stdout",
     "output_type": "stream",
     "text": [
      "       n  Mean Beta_1 Unrestricted  Std Beta_1 Unrestricted  \\\n",
      "0     10                  1.949364                 1.367112   \n",
      "1    100                  2.004670                 0.088956   \n",
      "2   1000                  1.999929                 0.014376   \n",
      "3  10000                  1.999845                 0.003759   \n",
      "\n",
      "   Mean Std Err Unrestricted  Mean Beta_1 Restricted  Std Beta_1 Restricted  \\\n",
      "0                   1.014369                2.528166               0.360715   \n",
      "1                   0.074097                2.091366               0.055574   \n",
      "2                   0.013940                2.021086               0.011125   \n",
      "3                   0.003807                2.005582               0.002853   \n",
      "\n",
      "   Mean Std Err Restricted  Mean Beta_1 Pretest  Std Beta_1 Pretest  \\\n",
      "0                 0.224906             1.954473            1.367662   \n",
      "1                 0.038166             2.013210            0.094723   \n",
      "2                 0.009369             2.003872            0.017445   \n",
      "3                 0.002751             2.001665            0.004876   \n",
      "\n",
      "   Mean Std Err Pretest  Unrestricted Selected  Restricted Selected  \n",
      "0              0.900786                    827                  173  \n",
      "1              0.060913                    671                  329  \n",
      "2              0.012240                    629                  371  \n",
      "3              0.003280                    500                  500  \n"
     ]
    }
   ],
   "source": [
    "import pandas as pd\n",
    "\n",
    "def generate_simulation_data(n, beta_1, beta_2, beta_3, beta_4, gamma_1, gamma_2):\n",
    "    \"\"\"\n",
    "    Generate simulation data based on specified parameters.\n",
    "    \n",
    "    Parameters:\n",
    "    - n: Number of observations.\n",
    "    - beta_1, beta_2, beta_3, beta_4: Coefficients for the model.\n",
    "    - gamma_1, gamma_2: Parameters for the generation of x1.\n",
    "    \n",
    "    Returns:\n",
    "    - y, x1, x2: Generated data vectors.\n",
    "    \"\"\"\n",
    "    x2 = np.random.normal(0, 1, n)\n",
    "    v = np.random.normal(0, 0.1, n)\n",
    "    x1 = x2 + x2**2 * gamma_1 + x2**5 * gamma_2 + v\n",
    "    u = np.random.normal(0, 1, n)\n",
    "    y = x1 * beta_1 + x2 * beta_2 + x2**2 * beta_3 + np.sin(x2) * beta_4 + u\n",
    "    return y, x1, x2\n",
    "\n",
    "def estimate_coefficients(y, x1, x2):\n",
    "    \"\"\"\n",
    "    Estimate coefficients and standard errors for unrestricted and restricted regression,\n",
    "    and implement pretest regression procedure.\n",
    "    \n",
    "    Parameters:\n",
    "    - y, x1, x2: Observations of dependent variable and two independent variables.\n",
    "    \n",
    "    Returns:\n",
    "    Dictionary containing estimated coefficients, selected model, and standard errors.\n",
    "    \"\"\"\n",
    "    X_unrestricted = sm.add_constant(np.column_stack((x1, x2)))\n",
    "    unrestricted_model = sm.OLS(y, X_unrestricted).fit()\n",
    "    beta_1_unrestricted = unrestricted_model.params[1]\n",
    "    beta_2_hat = unrestricted_model.params[2]\n",
    "    std_err_unrestricted = unrestricted_model.bse[1]\n",
    "\n",
    "    X_restricted = sm.add_constant(x1)\n",
    "    restricted_model = sm.OLS(y, X_restricted).fit()\n",
    "    beta_1_restricted = restricted_model.params[1]\n",
    "    std_err_restricted = restricted_model.bse[1]\n",
    "    \n",
    "    n = len(y)\n",
    "    t_n = (np.sqrt(np.log(n)) / np.sqrt(n))\n",
    "    if abs(beta_2_hat) > t_n:\n",
    "        selected_model = \"Unrestricted\"\n",
    "        beta_1_pretest = beta_1_unrestricted\n",
    "        std_err_pretest = std_err_unrestricted\n",
    "    else:\n",
    "        selected_model = \"Restricted\"\n",
    "        beta_1_pretest = beta_1_restricted\n",
    "        std_err_pretest = std_err_restricted\n",
    "    \n",
    "    return {\n",
    "        \"beta_1_unrestricted\": beta_1_unrestricted,\n",
    "        \"std_err_unrestricted\": std_err_unrestricted,\n",
    "        \"beta_1_restricted\": beta_1_restricted,\n",
    "        \"std_err_restricted\": std_err_restricted,\n",
    "        \"beta_1_pretest\": beta_1_pretest,\n",
    "        \"std_err_pretest\": std_err_pretest,\n",
    "        \"selected_model\": selected_model\n",
    "    }\n",
    "\n",
    "# Simulation parameters\n",
    "n_values = [10, 100, 1000, 10000]\n",
    "S = 1000  # Number of simulations\n",
    "results = {n: [] for n in n_values}  \n",
    "\n",
    "# Assuming values for unspecified parameters\n",
    "gamma_1, gamma_2 = 0.2, 0.1\n",
    "beta_3, beta_4 = 0.0, 0.0  # Assuming beta_3 and beta_4 are 0\n",
    "\n",
    "summary_results = []\n",
    "\n",
    "for n in n_values:\n",
    "    beta_1 = 2  \n",
    "    beta_2 = 3 / np.sqrt(n)  \n",
    "    \n",
    "    # Lists for collecting estimations, standard errors, and model selection counts\n",
    "    beta_1_unrestricted, std_err_unrestricted = [], []\n",
    "    beta_1_restricted, std_err_restricted = [], []\n",
    "    beta_1_pretest, std_err_pretest = [], []\n",
    "    model_selection_counts = {'Unrestricted': 0, 'Restricted': 0}  \n",
    "    \n",
    "    for s in range(S):\n",
    "        y, x1, x2 = generate_simulation_data(n, beta_1, beta_2, beta_3, beta_4, gamma_1, gamma_2)\n",
    "        estimates = estimate_coefficients(y, x1, x2)\n",
    "        \n",
    "        # Collecting data for summary and counting model selections\n",
    "        beta_1_unrestricted.append(estimates['beta_1_unrestricted'])\n",
    "        std_err_unrestricted.append(estimates['std_err_unrestricted'])\n",
    "        beta_1_restricted.append(estimates['beta_1_restricted'])\n",
    "        std_err_restricted.append(estimates['std_err_restricted'])\n",
    "        beta_1_pretest.append(estimates['beta_1_pretest'])\n",
    "        std_err_pretest.append(estimates['std_err_pretest'])\n",
    "        model_selection_counts[estimates['selected_model']] += 1\n",
    "    \n",
    "    # Preparing summary for current n\n",
    "    summary_results.append([\n",
    "        n, \n",
    "        np.mean(beta_1_unrestricted), np.std(beta_1_unrestricted), np.mean(std_err_unrestricted),\n",
    "        np.mean(beta_1_restricted), np.std(beta_1_restricted), np.mean(std_err_restricted),\n",
    "        np.mean(beta_1_pretest), np.std(beta_1_pretest), np.mean(std_err_pretest),\n",
    "        model_selection_counts['Unrestricted'], model_selection_counts['Restricted']\n",
    "    ])\n",
    "\n",
    "# Creating df from summary_results \n",
    "columns = [\n",
    "    'n', \n",
    "    'Mean Beta_1 Unrestricted', 'Std Beta_1 Unrestricted', 'Mean Std Err Unrestricted',\n",
    "    'Mean Beta_1 Restricted', 'Std Beta_1 Restricted', 'Mean Std Err Restricted',\n",
    "    'Mean Beta_1 Pretest', 'Std Beta_1 Pretest', 'Mean Std Err Pretest',\n",
    "    'Unrestricted Selected', 'Restricted Selected'\n",
    "]\n",
    "summary_df = pd.DataFrame(summary_results, columns=columns)\n",
    "\n",
    "print(summary_df)\n",
    "\n",
    "\n"
   ]
  },
  {
   "cell_type": "markdown",
   "id": "d92b0df3",
   "metadata": {},
   "source": [
    "**Part 4**"
   ]
  },
  {
   "cell_type": "code",
   "execution_count": 4,
   "id": "a184202f",
   "metadata": {},
   "outputs": [
    {
     "name": "stdout",
     "output_type": "stream",
     "text": [
      "       n  Mean Beta_1 Unrestricted  Var Beta_1 Unrestricted  \\\n",
      "0     10                  1.949364                 1.868995   \n",
      "1    100                  2.004670                 0.007913   \n",
      "2   1000                  1.999929                 0.000207   \n",
      "3  10000                  1.999845                 0.000014   \n",
      "\n",
      "   Mean Beta_1 Restricted  Var Beta_1 Restricted  Mean Beta_1 Pretest  \\\n",
      "0                2.528166               0.130115             1.954473   \n",
      "1                2.091366               0.003089             2.013210   \n",
      "2                2.021086               0.000124             2.003872   \n",
      "3                2.005582               0.000008             2.001665   \n",
      "\n",
      "   Var Beta_1 Pretest  \n",
      "0            1.870500  \n",
      "1            0.008972  \n",
      "2            0.000304  \n",
      "3            0.000024  \n"
     ]
    }
   ],
   "source": [
    "# part a\n",
    "summary_df['Var Beta_1 Unrestricted'] = summary_df['Std Beta_1 Unrestricted']**2\n",
    "summary_df['Var Beta_1 Restricted'] = summary_df['Std Beta_1 Restricted']**2\n",
    "summary_df['Var Beta_1 Pretest'] = summary_df['Std Beta_1 Pretest']**2\n",
    "\n",
    "mean_variance_table = summary_df[['n', \n",
    "                                  'Mean Beta_1 Unrestricted', 'Var Beta_1 Unrestricted',\n",
    "                                  'Mean Beta_1 Restricted', 'Var Beta_1 Restricted',\n",
    "                                  'Mean Beta_1 Pretest', 'Var Beta_1 Pretest']]\n",
    "print(mean_variance_table)\n",
    "\n"
   ]
  },
  {
   "cell_type": "code",
   "execution_count": 5,
   "id": "fcd2fce3",
   "metadata": {},
   "outputs": [
    {
     "name": "stdout",
     "output_type": "stream",
     "text": [
      "       n  Fraction True Model Selected\n",
      "0     10                         0.827\n",
      "1    100                         0.671\n",
      "2   1000                         0.629\n",
      "3  10000                         0.500\n"
     ]
    }
   ],
   "source": [
    "# part b\n",
    "\n",
    "summary_df['Fraction True Model Selected'] = summary_df['Unrestricted Selected'] / S\n",
    "print(summary_df[['n', 'Fraction True Model Selected']])"
   ]
  },
  {
   "cell_type": "code",
   "execution_count": 6,
   "id": "2e23b705",
   "metadata": {},
   "outputs": [
    {
     "name": "stdout",
     "output_type": "stream",
     "text": [
      "       n  Unrestricted Coverage  Unrestricted Avg CI Length  \\\n",
      "0     10                    NaN                         NaN   \n",
      "1    100                    NaN                         NaN   \n",
      "2   1000                    NaN                         NaN   \n",
      "3  10000                    NaN                         NaN   \n",
      "\n",
      "   Restricted Coverage  Restricted Avg CI Length  Pretest Coverage  \\\n",
      "0                  NaN                       NaN               NaN   \n",
      "1                  NaN                       NaN               NaN   \n",
      "2                  NaN                       NaN               NaN   \n",
      "3                  NaN                       NaN               NaN   \n",
      "\n",
      "   Pretest Avg CI Length  \n",
      "0                    NaN  \n",
      "1                    NaN  \n",
      "2                    NaN  \n",
      "3                    NaN  \n"
     ]
    },
    {
     "name": "stderr",
     "output_type": "stream",
     "text": [
      "/Users/joshuabailey/anaconda3/lib/python3.11/site-packages/numpy/core/fromnumeric.py:3464: RuntimeWarning: Mean of empty slice.\n",
      "  return _methods._mean(a, axis=axis, dtype=dtype,\n",
      "/Users/joshuabailey/anaconda3/lib/python3.11/site-packages/numpy/core/_methods.py:192: RuntimeWarning: invalid value encountered in scalar divide\n",
      "  ret = ret.dtype.type(ret / rcount)\n"
     ]
    }
   ],
   "source": [
    "# part c\n",
    "\n",
    "def calculate_aggregate_coverage_and_ci_length(estimates, std_errors, true_beta=2):\n",
    "    # Calculate CIs\n",
    "    ci_lowers = estimates - 1.96 * std_errors\n",
    "    ci_uppers = estimates + 1.96 * std_errors\n",
    "    \n",
    "    # Determine coverage\n",
    "    coverage = np.mean((ci_lowers <= true_beta) & (ci_uppers >= true_beta))\n",
    "    \n",
    "    # Average CI length\n",
    "    avg_ci_length = np.mean(ci_uppers - ci_lowers)\n",
    "    \n",
    "    return coverage, avg_ci_length\n",
    "\n",
    "# Initialize lists to store coverage and CI length for each n and method\n",
    "coverage_ci_summary = []\n",
    "\n",
    "# Iterate through each n and calculate coverage and CI length\n",
    "for n in n_values:\n",
    "    estimates_unrestricted, std_errors_unrestricted = [], []\n",
    "    estimates_restricted, std_errors_restricted = [], []\n",
    "    estimates_pretest, std_errors_pretest = [], []\n",
    "    \n",
    "    # Extract estimates and standard errors from results\n",
    "    for result in results[n]:\n",
    "        estimates_unrestricted.append(result['beta_1_unrestricted'])\n",
    "        std_errors_unrestricted.append(result['std_err_unrestricted'])\n",
    "        estimates_restricted.append(result['beta_1_restricted'])\n",
    "        std_errors_restricted.append(result['std_err_restricted'])\n",
    "        estimates_pretest.append(result['beta_1_pretest'])\n",
    "        std_errors_pretest.append(result['std_err_pretest'])\n",
    "    \n",
    "    # Calculate coverage and CI length for each method\n",
    "    coverage_unrestricted, avg_ci_length_unrestricted = calculate_aggregate_coverage_and_ci_length(np.array(estimates_unrestricted), np.array(std_errors_unrestricted))\n",
    "    coverage_restricted, avg_ci_length_restricted = calculate_aggregate_coverage_and_ci_length(np.array(estimates_restricted), np.array(std_errors_restricted))\n",
    "    coverage_pretest, avg_ci_length_pretest = calculate_aggregate_coverage_and_ci_length(np.array(estimates_pretest), np.array(std_errors_pretest))\n",
    "    \n",
    "    # Store in summary\n",
    "    coverage_ci_summary.append({\n",
    "        'n': n,\n",
    "        'Unrestricted Coverage': coverage_unrestricted,\n",
    "        'Unrestricted Avg CI Length': avg_ci_length_unrestricted,\n",
    "        'Restricted Coverage': coverage_restricted,\n",
    "        'Restricted Avg CI Length': avg_ci_length_restricted,\n",
    "        'Pretest Coverage': coverage_pretest,\n",
    "        'Pretest Avg CI Length': avg_ci_length_pretest\n",
    "    })\n",
    "\n",
    "# Convert summary to df for display\n",
    "coverage_ci_df = pd.DataFrame(coverage_ci_summary)\n",
    "print(coverage_ci_df)\n"
   ]
  },
  {
   "cell_type": "markdown",
   "id": "93d622e5",
   "metadata": {},
   "source": [
    "*I'm encountering a bug that is causing this code to randomly stop computing the CI info for part c when I restart the kernel. I have copied the results from the iteration that was functioning though, which has been interpretted below.*\n",
    "\n",
    "|   n   | Unrestricted Coverage | Unrestricted Avg CI Length | Restricted Coverage | Restricted Avg CI Length | Pretest Coverage | Pretest Avg CI Length |\n",
    "|-------|-----------------------|----------------------------|---------------------|--------------------------|------------------|-----------------------|\n",
    "| 10    | 0.908                 | 3.994032                   | 0.293               | 0.890090                 | 0.769            | 3.478048              |\n",
    "| 100   | 0.947                 | 0.289023                   | 0.347               | 0.149338                 | 0.774            | 0.243239              |\n",
    "| 1000  | 0.935                 | 0.053106                   | 0.436               | 0.036031                 | 0.737            | 0.046041              |\n",
    "| 10000 | 0.947                 | 0.014986                   | 0.456               | 0.010809                 | 0.699            | 0.012810              |\n",
    "\n"
   ]
  },
  {
   "cell_type": "markdown",
   "id": "c411fea5",
   "metadata": {},
   "source": [
    "### Part (a) \n",
    "\n",
    "The mean estimates for the unrestricted and pretest methods are close to the true value of $\\beta_1 = 2$, across all sample sizes ($n$), indicating unbiased estimation. The restricted model, however, shows deviation from the true value, especially noticeable at smaller $n$, suggesting bias in this estimation method when important variables are omitted (in this case, $x_2$).\n",
    "  \n",
    "The variance of the estimates decreases as $n$ increases for all methods, which is consistent with the expectation that larger samples provide more information, leading to more precise estimates. The unrestricted and pretest methods show a significant variance reduction with increasing $n$, highlighting the benefits of larger sample sizes in reducing estimation uncertainty. The restricted model's variance is generally lower compared to the unrestricted method at $n=10$, but this advantage diminishes with larger $n$, and it becomes less reliable due to its bias.\n",
    "\n",
    "The results demonstrate the *bias-variance tradeoff*, where the restricted model, though seemingly more precise at small $n$ due to lower variance, is biased, affecting its reliability. The unrestricted and pretest methods balance bias and variance more effectively, providing unbiased and increasingly precise estimates as $n$ grows.\n",
    "\n",
    "### Part (b) \n",
    "\n",
    "The fraction of instances where the true model was selected decreases as $n$ increases. This trend suggests that as the sample size grows, distinguishing the true model becomes more challenging, possibly due to the increased complexity or noise in the data that affects the pretest decision process.\n",
    "  \n",
    "The decreasing trend in true model selection with increasing $n$ could indicate overfitting concerns at smaller $n$ or underfitting at larger $n$, where the model may fail to capture all relevant relationships as the sample size grows. The unrestricted model, which includes the variable $x_{2}$ (whose importance diminishes with $n$ due to $\\beta_{2} = \\frac{3}{\\sqrt{n}}$), shows greater variance. As $n$ grows, both models converge in terms of mean estimates towards the true value, but the restricted model does so with lower variance, misrepresenting the importance of $x_{2}$.This reflects the model selection challenge in statistics, where increasing data does not always lead to straightforward or more accurate model selection decisions.\n",
    "\n",
    "### Part (c) \n",
    "\n",
    "The unrestricted model maintains coverage close to the nominal 95% across all sample sizes, underscoring its reliability in capturing the true $\\beta_1$. In contrast, the restricted model's coverage is significantly below 95%, especially at smaller $n$, reflecting its inadequacy due to missing variables. The pretest method's coverage, while better than the restricted model, decreases with $n$, possibly due to its reliance on model selection criteria that may not always favor the more accurate unrestricted model.\n",
    "  \n",
    "Confidence intervals become narrower with increasing $n$ for all methods, indicating more precise estimates with larger samples. The unrestricted method provides the most reliable intervals given its coverage and precision balance. The pretest method's intervals, although starting wider at $n=10$, become competitive at larger $n$, suggesting it adapts but may still incorporate the bias of the restricted model depending on the pretest outcome.\n",
    "\n",
    "Ideally, coverage should be around 95%. The unrestricted method aligns with this expectation, indicating correct specification and adequate estimation. The restricted model's low coverage highlights the risk of omitting important predictors, while the pretest method's variable coverage points to the complexities and potential pitfalls in model selection based on pretesting, especially in the presence of model misspecification or in distinguishing between closely competing models.\n"
   ]
  },
  {
   "cell_type": "markdown",
   "id": "dc9f38b5",
   "metadata": {},
   "source": [
    "## Problem 3"
   ]
  },
  {
   "cell_type": "markdown",
   "id": "4d9f4969",
   "metadata": {},
   "source": [
    "**Part 1**"
   ]
  },
  {
   "cell_type": "markdown",
   "id": "ee652c23",
   "metadata": {},
   "source": [
    "$$\n",
    "\\|y - X\\beta\\|^2_2 =\\sum_{i = 1}^n(y_i - X_i\\beta)^2 \\\\\n",
    "\\text{add and subtract $X^*\\beta$}\\\\\n",
    "= \\sum_{i = 1}^n((y_i -X_i\\beta^*)+(X_i\\beta^* - X_i\\beta))^2\\\\\n",
    "= \\sum_{i = 1}^n((y_i -X_i\\beta^*)^2+(X_i(\\beta^* - \\beta))^2 + 2(y_i -X_i\\beta^*)(X_i(\\beta^* - \\beta)))\\\\\n",
    "= \\sum_{i = 1}^n(y_i -X_i\\beta^*)^2+\\sum_{i = 1}^n(X_i(\\beta^* - \\beta))^2 + 2\\sum_{i = 1}^n(y_i -X_i\\beta^*)(X_i(\\beta^* - \\beta))\\\\\n",
    "\\text{As given, $Y - X^*\\beta = U$}\\\\\n",
    "\\therefore \\|y - X\\beta^*\\|^2_2 + \\|X(\\beta^* - \\beta)\\|^2_2 + 2U^TX(\\beta^* - \\beta)///\n",
    "$$"
   ]
  },
  {
   "cell_type": "markdown",
   "id": "9fe8638c",
   "metadata": {},
   "source": [
    "$$\\require{cancelto}\n",
    "\\require{cancel}\n",
    "$$\n",
    "**Part 2**\n",
    "$\n",
    "f(\\hat \\beta) = \\|y - X\\hat \\beta\\|^2_2 + \\lambda \\|\\hat \\beta\\|_1\\\\\n",
    "f(\\beta^*) = \\|y - X\\beta^*\\|^2_2 + \\lambda\\|\\beta^*\\|_1 \\\\\n",
    "$\n",
    "$$\n",
    "f(\\hat \\beta) \\le f(\\beta^*)\\\\\n",
    "\\text{Applying the expression in part 1 on the first term of $f(\\hat \\beta)$ and $f(\\beta^*)$} \\\\\n",
    "\\implies \\cancel{\\|y - X\\beta^*\\|^2_2} + \\|X(\\beta^* - \\hat \\beta)\\|^2_2 + 2U^TX(\\beta^* - \\hat\\beta) + \\lambda\\| \\hat \\beta \\|_1 \\le \\\\\n",
    "\\cancel{\\|y - X\\beta^*\\|^2_2} + \\cancelto{0}{\\|X(\\beta^* - \\beta^*)\\|^2_2} + \\cancelto{0}{2U^TX(\\beta^* - \\beta^*)} + \\lambda\\| \\beta^* \\|_1\\\\\n",
    "\\implies \\|X(\\beta^* - \\hat \\beta)\\|^2_2 \\le - 2U^TX(\\beta^* - \\hat\\beta) + \\lambda (\\| \\beta^* \\|_1 - | \\hat \\beta \\|_1)\\\\\n",
    "= \\|X(\\beta^* - \\hat \\beta)\\|^2_2 \\le 2U^TX(\\hat\\beta - \\beta^*) + \\lambda (\\| \\beta^* \\|_1 - | \\hat \\beta \\|_1) ///\n",
    "$$\n"
   ]
  },
  {
   "cell_type": "markdown",
   "id": "00c757d1",
   "metadata": {},
   "source": [
    "**Part 3**`"
   ]
  },
  {
   "cell_type": "markdown",
   "id": "a64fed13",
   "metadata": {},
   "source": [
    "It was used to conclude the proof that $f(\\hat \\beta) \\le f(\\beta^*)$, where $\\beta^*$ is the true beta"
   ]
  }
 ],
 "metadata": {
  "kernelspec": {
   "display_name": "Python 3 (ipykernel)",
   "language": "python",
   "name": "python3"
  },
  "language_info": {
   "codemirror_mode": {
    "name": "ipython",
    "version": 3
   },
   "file_extension": ".py",
   "mimetype": "text/x-python",
   "name": "python",
   "nbconvert_exporter": "python",
   "pygments_lexer": "ipython3",
   "version": "3.11.5"
  }
 },
 "nbformat": 4,
 "nbformat_minor": 5
}
