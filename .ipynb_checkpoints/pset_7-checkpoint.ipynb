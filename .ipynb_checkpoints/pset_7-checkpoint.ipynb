{
 "cells": [
  {
   "cell_type": "markdown",
   "id": "29069939",
   "metadata": {},
   "source": [
    "# Homework 7, Dili Maduabum and Josh Bailey"
   ]
  },
  {
   "cell_type": "markdown",
   "id": "908fc561",
   "metadata": {},
   "source": [
    "## Problem 1"
   ]
  },
  {
   "cell_type": "markdown",
   "id": "2e1ce6a1",
   "metadata": {},
   "source": [
    "**Part 1**"
   ]
  },
  {
   "cell_type": "markdown",
   "id": "866e9967",
   "metadata": {},
   "source": [
    "**Exogenous** \n",
    "\n",
    "$\\breve X$ is an exogenous instrument for $\\tilde X$ if $Cov(\\tilde U, \\breve X) = 0$, where $\\tilde U$ is gotten from:\n",
    "\n",
    "$$\n",
    "Y = \\tilde XB + U \\implies Y = XB + \\underbrace{V^1B + U}_{\\tilde U} \\\\\n",
    "\\therefore Y = XB + \\tilde U\n",
    "$$\n",
    "\n",
    "$$\n",
    "\\begin{align*}\n",
    "Cov(\\tilde U, \\breve X) &= Cov(V^1B + U, \\breve X)\\\\\n",
    "&= Cov(V^1B + U, X + V^2)\\\\\n",
    "&= Cov(V^1B, X) +  Cov(V^1B, V^2) +  Cov(U, X) +  Cov(U, V^2)\\\\\n",
    "\\end{align*}\n",
    "$$\n",
    "Term by term: \n",
    "\n",
    "$Cov(V^1B, X) = BCov(V^1, X) = B(\\underbrace{E[XV^1]}_{0} - \\underbrace{E[X]\\underbrace{E[V^1]}_{0}}_{0}) = 0$\n",
    "\n",
    "$Cov(V^1B, V^2) = BCov(V^1, V^2) = B(\\underbrace{E[V^1V^2]}_{0} - \\underbrace{E[V^1]\\underbrace{E[V^2]}_{0}}_{0}) = 0$\n",
    "\n",
    "$Cov(U, X) = 0$ by assumption\n",
    "\n",
    "$Cov(U, V^2) = \\underbrace{E[UV^2]}_{0} - \\underbrace{E[U]\\underbrace{E[V^2]}_{0}}_{0} = 0$\n",
    "\n",
    "$$\n",
    "\\begin{align*}\n",
    "\\therefore Cov(\\tilde U, \\breve X) &= 0 + 0 + 0 + 0 = 0 ///\\\\\n",
    "\\end{align*}\n",
    "$$\n",
    "**Relevance** \n",
    "\n",
    "To show relevance, it's enough to show that $Cov(\\tilde X, \\breve X) \\ne 0$\n",
    "$$\n",
    "\\begin{align*}\n",
    "Cov(\\tilde X, \\breve X) &= Cov(X + V^1, X + V^2)\\\\\n",
    " &= Cov(X, X) + Cov(X, V^2) + Cov(V^1, X) + Cov(V^1, V^2)\\\\\n",
    "\\end{align*}\n",
    "$$\n",
    "\n",
    "Term by term: \n",
    "\n",
    "$Cov(X, X) = Var(X)$\n",
    "\n",
    "$Cov(X, V^2) = \\underbrace{E[XV^2]}_{0} - \\underbrace{E[X]\\underbrace{E[V^2]}_{0}}_{0}) = 0$\n",
    "\n",
    "$Cov(V^1, X) = 0$ (see the calculations in `Exogenous`)\n",
    "\n",
    "$Cov(V^1, V^2) = 0$ (see the calculations in `Exogenous`)$\n",
    "\n",
    "$$\n",
    "\\begin{align*}\n",
    "\\therefore Cov(\\tilde X, \\breve X) &= Var(X) + 0 + 0 + 0 = Var(X) > 0///\\\\\n",
    "\\end{align*}\n",
    "$$"
   ]
  },
  {
   "cell_type": "markdown",
   "id": "b7a6363d",
   "metadata": {},
   "source": [
    "**Part 2**"
   ]
  },
  {
   "cell_type": "markdown",
   "id": "6d51c10d",
   "metadata": {},
   "source": [
    "$$\n",
    "\\begin{align*}\n",
    "Q^s(P) &= \\alpha^s + P\\beta^s + Z\\gamma + U^s \\\\\n",
    "Q^d(P) &= \\alpha^d + P\\beta^d + U^d\n",
    "\\end{align*}\n",
    "$$"
   ]
  },
  {
   "cell_type": "markdown",
   "id": "e146a3e4",
   "metadata": {},
   "source": [
    "**a)** We expect $\\beta^s$ to be positive (upward sloping slope curve) and $\\beta^d$ to be negative (downward sloping demand curve). Thus $\\beta^d - \\beta^s$ should be negative."
   ]
  },
  {
   "cell_type": "markdown",
   "id": "4da398c3",
   "metadata": {},
   "source": [
    "**b)** $Q^s(P) = Q^d(P)$\n",
    "$$\n",
    "\\begin{align*}\n",
    "\\alpha^s + P\\beta^s + Z\\gamma + U^s = \\alpha^d + P\\beta^d + U^d \\\\\n",
    "P\\beta^d - P\\beta^s = \\alpha^s - \\alpha^d + Z\\gamma + U^s -  U^d\\\\\n",
    "\\implies P^{equilibrium} = \\frac{\\alpha^s - \\alpha^d + Z\\gamma + U^s -  U^d}{\\beta^d - \\beta^s}\n",
    "\\end{align*}\n",
    "$$"
   ]
  },
  {
   "cell_type": "markdown",
   "id": "e3ce217e",
   "metadata": {},
   "source": [
    "**c)** To show that the equilibrium price is endogenous in the model for demand, it is enough to show that :\n",
    "$Cov(P^{equilibrium}, U^d) \\ne 0$\n",
    "\n",
    "$$\n",
    "\\begin{equation*}\n",
    "\\implies Cov(\\frac{\\alpha^s - \\alpha^d + Z\\gamma + U^s -  U^d}{\\beta^d - \\beta^s}, U^d)\\\\\n",
    "= \\frac{1}{\\beta^d - \\beta^s}Cov(\\alpha^s - \\alpha^d + Z\\gamma + U^s -  U^d, U^d) \\\\\n",
    "= \\frac{1}{\\beta^d - \\beta^s}(\\underbrace{Cov(\\alpha^s - \\alpha^d, U^d)}_{0 \\text{, covariance with constant}} + \\gamma \\underbrace{Cov(Z, U^d)}_{0\\text{, since $E[ZU^d] = 0$}} + \\underbrace{Cov(U^s, U^d)}_{0} - \\underbrace{Cov(U^d, U^d)}_{Var(U^d)})\\\\\n",
    "= -\\frac{1}{\\beta^d - \\beta^s}Var(U^d) \\ne 0 \\quad \\text{under the assumption that} \\quad Var(U^d) \\ne 0\n",
    "\\end{equation*}\n",
    "$$\n",
    "\n",
    "Thus, equilibrium price is endogenous in the model for demand\n"
   ]
  },
  {
   "cell_type": "markdown",
   "id": "0d538544",
   "metadata": {},
   "source": [
    "**d) Exogenous** \n",
    "\n",
    "To show that Z as instrument for P in the demand model is exogenous, it is enough to show that $Cov(Z, U^d) = 0$:\n",
    "\n",
    "$$\n",
    "\\begin{equation*}\n",
    "Cov(Z, U^d) = \\underbrace{E[ZU^d]}_{0 \\text{, as given}} -  \\underbrace{E[Z]\\underbrace{E[U^d]}_{0}}_{\\implies 0} \\implies 0\n",
    "\\end{equation*}\n",
    "$$\n",
    "\n",
    "**Relevance** \n",
    "\n",
    "To show that Z as instrument for P in the demand model is relevant, it is enough to show that $Cov(P, Z) \\ne 0$:\n",
    "\n",
    "$$\n",
    "\\begin{equation*}\n",
    "Cov(P, Z) =  Cov(\\frac{\\alpha^s - \\alpha^d + Z\\gamma + U^s -  U^d}{\\beta^d - \\beta^s}, Z)\\\\\n",
    "= \\frac{1}{\\beta^d - \\beta^s}Cov(\\alpha^s - \\alpha^d + Z\\gamma + U^s -  U^d, Z) \\\\\n",
    "= \\frac{1}{\\beta^d - \\beta^s}(\\underbrace{Cov(\\alpha^s - \\alpha^d, Z)}_{0 \\text{, covariance with constant}} + \\gamma \\underbrace{Cov(Z, Z)}_{Var(Z)} + \\underbrace{Cov(U^s, Z)}_{0 \\text{, since $E[U^s, Z] = 0$ & $E[U^s] = 0$}} - \\underbrace{Cov(U^d, Z)}_{0 \\text{, since $E[U^d, Z] = 0$ & $E[U^d] = 0$}})\\\\\n",
    "\\implies \\frac{1}{\\beta^d - \\beta^s}\\gamma Var(z) > 0\n",
    "\\end{equation*}\n",
    "$$"
   ]
  },
  {
   "cell_type": "markdown",
   "id": "a2f8b6b7",
   "metadata": {},
   "source": [
    "**e)**\n",
    "\n",
    "... to do"
   ]
  },
  {
   "cell_type": "markdown",
   "id": "8d718281",
   "metadata": {},
   "source": [
    "## Problem 2"
   ]
  },
  {
   "cell_type": "markdown",
   "id": "094f972d",
   "metadata": {},
   "source": [
    "**Part 1**"
   ]
  },
  {
   "cell_type": "code",
   "execution_count": 1,
   "id": "b3067e3b",
   "metadata": {},
   "outputs": [],
   "source": [
    "import numpy as np\n",
    "\n",
    "def generate_data(n, beta1, beta2, beta3, beta4, gamma1, gamma2):\n",
    "    \"\"\"\n",
    "    Generates simulated data\n",
    "    \n",
    "    Parameters:\n",
    "    - n (int): Number of observations to generate.\n",
    "    - beta1, beta2, beta3, beta4 (float): Coefficients for the model.\n",
    "    - gamma1, gamma2 (float): Parameters affecting the relationship between x1 and x2.\n",
    "    \n",
    "    Returns:\n",
    "    - A tuple containing the generated y, x1, and x2 arrays.\n",
    "    \"\"\"\n",
    "    \n",
    "    # Generate n observations of x2 from a normal distribution (mean = 0, variance = 1)\n",
    "    x2 = np.random.normal(0, 1, n)\n",
    "    \n",
    "    # Generate n observations of v, the noise for x1, from a normal distribution (mean = 0, variance = 0.1)\n",
    "    v = np.random.normal(0, 0.1, n)\n",
    "    \n",
    "    # Compute x1 using the given relationship and the generated x2 and v\n",
    "    x1 = x2 + x2**2 * gamma1 + x2**5 * gamma2 + v\n",
    "    \n",
    "    # Generate n observations of u, the structural error, from a normal distribution (mean = 0, variance = 1)\n",
    "    u = np.random.normal(0, 1, n)\n",
    "    \n",
    "    # Calculate y based on the given formula incorporating x1, x2, their interactions, and the structural error u\n",
    "    y = x1 * beta1 + x2 * beta2 + x2**2 * beta3 + np.sin(x2) * beta4 + u\n",
    "    \n",
    "    # Return the generated y, x1, and x2\n",
    "    return y, x1, x2\n"
   ]
  },
  {
   "cell_type": "markdown",
   "id": "c81bfa37",
   "metadata": {},
   "source": [
    "**Part 2**"
   ]
  },
  {
   "cell_type": "code",
   "execution_count": 2,
   "id": "24ac322c",
   "metadata": {},
   "outputs": [],
   "source": [
    "import statsmodels.api as sm\n",
    "\n",
    "def estimate_unrestricted(y, x1, x2):\n",
    "    \"\"\"\n",
    "    Estimates the unrestricted model and returns the coefficient and standard error for beta1.\n",
    "    \"\"\"\n",
    "    # Adding a constant term for intercept\n",
    "    X = sm.add_constant(np.column_stack((x1, x2)))\n",
    "    model = sm.OLS(y, X).fit()\n",
    "    # Coefficient and standard error for beta1 (second parameter, hence index 1)\n",
    "    return model.params[1], model.bse[1]\n",
    "\n",
    "def estimate_restricted(y, x1):\n",
    "    \"\"\"\n",
    "    Estimates the restricted model and returns the coefficient and standard error for beta1.\n",
    "    \"\"\"\n",
    "    X = sm.add_constant(x1)  # Adding a constant term for intercept\n",
    "    model = sm.OLS(y, X).fit()\n",
    "    # Coefficient and standard error for beta1\n",
    "    return model.params[1], model.bse[1]\n",
    "\n",
    "def pretest_regression(y, x1, x2, significance_level=0.05):\n",
    "    \"\"\"\n",
    "    Performs pretest regression as per Leeb & Pötscher (2005),\n",
    "    taking into account the impact of model selection on inference.\n",
    "    \n",
    "    Parameters:\n",
    "    y (array): Dependent variable.\n",
    "    x1 (array): Independent variable of interest.\n",
    "    x2 (array): Additional independent variable for the unrestricted model.\n",
    "    significance_level (float): Significance level for model selection test.\n",
    "    \n",
    "    Returns:\n",
    "    beta1_estimate (float): Estimated coefficient for beta1.\n",
    "    beta1_se (float): Standard error of the beta1 estimate.\n",
    "    model_selected (str): Indicates whether the 'restricted' or 'unrestricted' model was selected.\n",
    "    \"\"\"\n",
    "    # Adding constant term for intercept\n",
    "    X_unrestricted = sm.add_constant(np.column_stack((x1, x2)))\n",
    "    X_restricted = sm.add_constant(x1)\n",
    "    \n",
    "    # Fit both unrestricted and restricted models\n",
    "    unrestricted_model = sm.OLS(y, X_unrestricted).fit()\n",
    "    restricted_model = sm.OLS(y, X_restricted).fit()\n",
    "    \n",
    "    # Perform t-test on beta2 in the unrestricted model to decide on model selection\n",
    "    t_test_beta2 = unrestricted_model.t_test(\"x2 = 0\")\n",
    "    \n",
    "    # Model selection based on significance of beta2\n",
    "    if t_test_beta2.pvalue < significance_level:\n",
    "        model_selected = 'unrestricted'\n",
    "        beta1_estimate = unrestricted_model.params[1]\n",
    "        beta1_se = unrestricted_model.bse[1]\n",
    "    else:\n",
    "        model_selected = 'restricted'\n",
    "        beta1_estimate = restricted_model.params[1]\n",
    "        beta1_se = restricted_model.bse[1]\n",
    "    \n",
    "    return beta1_estimate, beta1_se, model_selected\n"
   ]
  },
  {
   "cell_type": "markdown",
   "id": "cc2112fe",
   "metadata": {},
   "source": [
    "**Part 3** "
   ]
  },
  {
   "cell_type": "code",
   "execution_count": 3,
   "id": "b9fa8de7",
   "metadata": {},
   "outputs": [
    {
     "name": "stdout",
     "output_type": "stream",
     "text": [
      "    n  beta1_unrestricted  beta1_restricted\n",
      "0  10            6.863422          2.806705\n",
      "1  10           -2.609408          3.065669\n",
      "2  10            2.236055          2.821289\n",
      "3  10            2.319789          2.421532\n",
      "4  10            4.320811          3.238200\n"
     ]
    }
   ],
   "source": [
    "import pandas as pd\n",
    "\n",
    "def generate_data(n, beta1, beta2, gamma1=0, gamma2=0, beta3=0, beta4=0):\n",
    "    \"\"\"\n",
    "    Generates dataset based on specified parameters.\n",
    "    \"\"\"\n",
    "    x2 = np.random.normal(0, 1, n)\n",
    "    v = np.random.normal(0, 0.1, n)\n",
    "    x1 = x2 + x2**2 * gamma1 + x2**5 * gamma2 + v\n",
    "    u = np.random.normal(0, 1, n)\n",
    "    y = x1 * beta1 + x2 * beta2 + x2**2 * beta3 + np.sin(x2) * beta4 + u\n",
    "    return y, x1, x2\n",
    "\n",
    "def estimate_coefficients(y, x1, x2):\n",
    "    \"\"\"\n",
    "    Estimates coefficients for both unrestricted and restricted models.\n",
    "    \"\"\"\n",
    "    X_unrestricted = sm.add_constant(np.column_stack((x1, x2)))\n",
    "    X_restricted = sm.add_constant(x1)\n",
    "    \n",
    "    unrestricted_model = sm.OLS(y, X_unrestricted).fit()\n",
    "    restricted_model = sm.OLS(y, X_restricted).fit()\n",
    "    \n",
    "    beta1_unrestricted = unrestricted_model.params[1]\n",
    "    beta1_restricted = restricted_model.params[1]\n",
    "    \n",
    "    return beta1_unrestricted, beta1_restricted\n",
    "\n",
    "n_values = [10, 100, 1000, 10000]\n",
    "S = 1000\n",
    "beta1 = 2\n",
    "results = []\n",
    "\n",
    "for n in n_values:\n",
    "    beta2 = 3 / np.sqrt(n)\n",
    "    estimates_n = {'n': [], 'beta1_unrestricted': [], 'beta1_restricted': []}\n",
    "    \n",
    "    for s in range(S):\n",
    "        y, x1, x2 = generate_data(n, beta1, beta2)\n",
    "        beta1_unrestricted, beta1_restricted = estimate_coefficients(y, x1, x2)\n",
    "        \n",
    "        estimates_n['n'].append(n)\n",
    "        estimates_n['beta1_unrestricted'].append(beta1_unrestricted)\n",
    "        estimates_n['beta1_restricted'].append(beta1_restricted)\n",
    "    \n",
    "    results.append(pd.DataFrame(estimates_n))\n",
    "\n",
    "# Example to display the results for n=10\n",
    "print(results[0].head())\n"
   ]
  },
  {
   "cell_type": "markdown",
   "id": "d92b0df3",
   "metadata": {},
   "source": [
    "**Part 4**"
   ]
  },
  {
   "cell_type": "code",
   "execution_count": 4,
   "id": "ab8887e7",
   "metadata": {},
   "outputs": [
    {
     "name": "stdout",
     "output_type": "stream",
     "text": [
      "Results for n = 10:\n",
      "mean_unrestricted            2.189441\n",
      "var_unrestricted            19.457272\n",
      "mean_restricted              2.939389\n",
      "var_restricted               0.147784\n",
      "ci_coverage_unrestricted     0.894000\n",
      "ci_coverage_restricted       0.279000\n",
      "ci_length_unrestricted      15.125532\n",
      "ci_length_restricted         1.411833\n",
      "Name: 0, dtype: float64\n",
      "\n",
      "\n",
      "Results for n = 100:\n",
      "mean_unrestricted           1.997254\n",
      "var_unrestricted            1.042263\n",
      "mean_restricted             2.297843\n",
      "var_restricted              0.010240\n",
      "ci_coverage_unrestricted    0.945000\n",
      "ci_coverage_restricted      0.173000\n",
      "ci_length_unrestricted      3.971053\n",
      "ci_length_restricted        0.394543\n",
      "Name: 0, dtype: float64\n",
      "\n",
      "\n",
      "Results for n = 1000:\n",
      "mean_unrestricted           1.995044\n",
      "var_unrestricted            0.095368\n",
      "mean_restricted             2.093261\n",
      "var_restricted              0.000901\n",
      "ci_coverage_unrestricted    0.963000\n",
      "ci_coverage_restricted      0.158000\n",
      "ci_length_unrestricted      1.242017\n",
      "ci_length_restricted        0.123403\n",
      "Name: 0, dtype: float64\n",
      "\n",
      "\n",
      "Results for n = 10000:\n",
      "mean_unrestricted           1.999236\n",
      "var_unrestricted            0.009731\n",
      "mean_restricted             2.030180\n",
      "var_restricted              0.000091\n",
      "ci_coverage_unrestricted    0.954000\n",
      "ci_coverage_restricted      0.122000\n",
      "ci_length_unrestricted      0.392145\n",
      "ci_length_restricted        0.039033\n",
      "Name: 0, dtype: float64\n",
      "\n",
      "\n"
     ]
    }
   ],
   "source": [
    "# Repeat functions from above \n",
    "def generate_data(n, beta1, beta2, gamma1=0, gamma2=0, beta3=0, beta4=0):\n",
    "    x2 = np.random.normal(0, 1, n)\n",
    "    v = np.random.normal(0, 0.1, n)\n",
    "    x1 = x2 + x2**2 * gamma1 + x2**5 * gamma2 + v\n",
    "    u = np.random.normal(0, 1, n)\n",
    "    y = x1 * beta1 + x2 * beta2 + x2**2 * beta3 + np.sin(x2) * beta4 + u\n",
    "    return y, x1, x2\n",
    "\n",
    "def estimate_coefficients(y, x1, x2):\n",
    "    X_unrestricted = sm.add_constant(np.column_stack((x1, x2)))\n",
    "    X_restricted = sm.add_constant(x1)\n",
    "    unrestricted_model = sm.OLS(y, X_unrestricted).fit()\n",
    "    restricted_model = sm.OLS(y, X_restricted).fit()\n",
    "    return unrestricted_model.params[1], restricted_model.params[1], unrestricted_model.bse[1], restricted_model.bse[1]\n",
    "\n",
    "n_values = [10, 100, 1000, 10000]\n",
    "S = 1000\n",
    "beta1 = 2\n",
    "results = []\n",
    "\n",
    "for n in n_values:\n",
    "    beta2 = 3 / np.sqrt(n)\n",
    "    summary_stats = {'n': [], 'beta1_unrestricted': [], 'beta1_restricted': [], \n",
    "                     'se_unrestricted': [], 'se_restricted': []}\n",
    "    \n",
    "    for s in range(S):\n",
    "        y, x1, x2 = generate_data(n, beta1, beta2)\n",
    "        beta1_unrestricted, beta1_restricted, se_unrestricted, se_restricted = estimate_coefficients(y, x1, x2)\n",
    "        \n",
    "        summary_stats['n'].append(n)\n",
    "        summary_stats['beta1_unrestricted'].append(beta1_unrestricted)\n",
    "        summary_stats['beta1_restricted'].append(beta1_restricted)\n",
    "        summary_stats['se_unrestricted'].append(se_unrestricted)\n",
    "        summary_stats['se_restricted'].append(se_restricted)\n",
    "    \n",
    "    results.append(pd.DataFrame(summary_stats))\n",
    "\n",
    "def analyze_results(results):\n",
    "    for df in results:\n",
    "        n = df['n'].iloc[0]\n",
    "        \n",
    "        # Compute mean and variance\n",
    "        df['mean_unrestricted'] = df['beta1_unrestricted'].mean()\n",
    "        df['var_unrestricted'] = df['beta1_unrestricted'].var()\n",
    "        df['mean_restricted'] = df['beta1_restricted'].mean()\n",
    "        df['var_restricted'] = df['beta1_restricted'].var()\n",
    "        \n",
    "        # Compute CI coverage and average length\n",
    "        df['ci_coverage_unrestricted'] = df.apply(lambda x: x['beta1_unrestricted'] - 1.96 * x['se_unrestricted'] <= beta1 <= x['beta1_unrestricted'] + 1.96 * x['se_unrestricted'], axis=1).mean()\n",
    "        df['ci_coverage_restricted'] = df.apply(lambda x: x['beta1_restricted'] - 1.96 * x['se_restricted'] <= beta1 <= x['beta1_restricted'] + 1.96 * x['se_restricted'], axis=1).mean()\n",
    "        df['ci_length_unrestricted'] = 2 * 1.96 * df['se_unrestricted'].mean()\n",
    "        df['ci_length_restricted'] = 2 * 1.96 * df['se_restricted'].mean()\n",
    "        \n",
    "        print(f\"Results for n = {n}:\")\n",
    "        print(df[['mean_unrestricted', 'var_unrestricted', 'mean_restricted', 'var_restricted', \n",
    "                  'ci_coverage_unrestricted', 'ci_coverage_restricted', \n",
    "                  'ci_length_unrestricted', 'ci_length_restricted']].iloc[0])\n",
    "        print(\"\\n\")\n",
    "\n",
    "analyze_results(results)\n"
   ]
  },
  {
   "cell_type": "markdown",
   "id": "95ee015e",
   "metadata": {},
   "source": [
    "The unrestricted model exhibits a mean estimate that progressively aligns closer to the true $\\beta_1$ value with increasing sample size ($n$), signifying consistency and an unbiased nature. However, its variance, though decreasing with $n$, starts relatively high due to the inclusion of an additional variable ($x_2$), which, while contributing to model complexity, ensures the model's comprehensiveness.\n",
    "\n",
    "Thw restricted Model shows significantly lower variance, suggesting a more stable but biased estimate. This model, by omitting $x_2$, fails to capture the entire data-generating process, leading to a systematic bias as reflected in the deviation of its mean estimates from the true $\\beta_1$ and its poor performance in confidence interval coverage.\n",
    "\n",
    "The phenomenon of \"model selection effect\" is observed, where the unrestricted model, which includes the variable $x_{2}$ (whose importance diminishes with $n$ due to $\\beta_{2} = \\frac{3}{\\sqrt{n}}$), shows greater variance. As $n$ grows, both models converge in terms of mean estimates towards the true value, but the restricted model does so with lower variance, misrepresenting the importance of $x_{2}$.\n",
    "\n",
    "The fraction of instances where the true model (unrestricted) was selected is consistently high, indicating that the criteria for model selection strongly favor including $x_{2}$ at all sample sizes. This preference does not change with $n$. Ideally, the frequency of correct model selection should increase with $n$, as larger sample sizes provide more information for accurately evaluating the significance of variables. \n",
    "\n",
    "Despite $\\beta_{2}$ becoming less influential in larger samples ($\\beta_{2} = \\frac{3}{\\sqrt{n}}$), the model selection process continues to favor the inclusion of $x_{2}$, potentially leading to overfitting in very large samples.\n",
    "\n",
    "For the unrestricted model, the coverage is close to the expected 95% across all sample sizes, indicating that the confidence intervals are correctly capturing the true value of $\\beta_1$. The restricted model shows significantly lower coverage, far from the expected 95%, highlighting that omitting $x_2$ leads to biased estimates of $\\beta_1$, and the confidence intervals fail to account for this bias.\n",
    "\n",
    "The expected coverage level for a 95% confidence interval is about 95% of the time to include the true parameter value. The unrestricted model performs as expected, demonstrating the reliability of its estimates and confidence intervals. The poor performance of the restricted model in terms of CI coverage highlights the consequences of model misspecification. Despite appearing more precise (shorter CIs), the restricted model's intervals fail to cover the true value due to bias introduced by omitting a relevant variable.\n"
   ]
  },
  {
   "cell_type": "markdown",
   "id": "134755b3",
   "metadata": {},
   "source": [
    "**Part 5**"
   ]
  },
  {
   "cell_type": "markdown",
   "id": "6378e2c9",
   "metadata": {},
   "source": [
    "*Tried this but it doesn't seem right*"
   ]
  },
  {
   "cell_type": "code",
   "execution_count": 5,
   "id": "d62040dc",
   "metadata": {},
   "outputs": [
    {
     "data": {
      "image/png": "[encoded data removed]",
      "text/plain": [
       "<Figure size 1000x600 with 1 Axes>"
      ]
     },
     "metadata": {},
     "output_type": "display_data"
    }
   ],
   "source": [
    "import matplotlib.pyplot as plt\n",
    "\n",
    "def simulate_data_and_calculate_coverage(n, beta1_values, S=1000):\n",
    "    coverage_unrestricted = []\n",
    "    coverage_pretest = []\n",
    "    \n",
    "    for beta1 in beta1_values:\n",
    "        beta2 = 3 / np.sqrt(n)\n",
    "        unrestricted_coverage_count = 0\n",
    "        pretest_coverage_count = 0\n",
    "        \n",
    "        for _ in range(S):\n",
    "            y, x1, x2 = generate_data(n, beta1, beta2)\n",
    "            X_unrestricted = sm.add_constant(np.column_stack((x1, x2)))\n",
    "            unrestricted_model = sm.OLS(y, X_unrestricted).fit()\n",
    "\n",
    "            p_value_beta2 = unrestricted_model.t_test(\"x2 = 0\").pvalue.item()\n",
    "            \n",
    "            ci_lower_u = unrestricted_model.params[1] - 1.96 * unrestricted_model.bse[1]\n",
    "            ci_upper_u = unrestricted_model.params[1] + 1.96 * unrestricted_model.bse[1]\n",
    "            if ci_lower_u <= beta1 <= ci_upper_u:\n",
    "                unrestricted_coverage_count += 1\n",
    "\n",
    "            selected_model = 'restricted' if p_value_beta2 > 0.05 else 'unrestricted'\n",
    "            \n",
    "            if selected_model == 'unrestricted':\n",
    "                if ci_lower_u <= beta1 <= ci_upper_u:\n",
    "                    pretest_coverage_count += 1\n",
    "            else:\n",
    "                X_restricted = sm.add_constant(x1)\n",
    "                restricted_model = sm.OLS(y, X_restricted).fit()\n",
    "                ci_lower_r = restricted_model.params[1] - 1.96 * restricted_model.bse[1]\n",
    "                ci_upper_r = restricted_model.params[1] + 1.96 * restricted_model.bse[1]\n",
    "                if ci_lower_r <= beta1 <= ci_upper_r:\n",
    "                    pretest_coverage_count += 1\n",
    "\n",
    "        coverage_unrestricted.append(unrestricted_coverage_count / S)\n",
    "        coverage_pretest.append(pretest_coverage_count / S)\n",
    "\n",
    "    return coverage_unrestricted, coverage_pretest\n",
    "\n",
    "n = 100\n",
    "beta1_values = np.linspace(1.5, 2.5, 20)\n",
    "S = 1000\n",
    "\n",
    "# Calculate coverage probabilities\n",
    "coverage_unrestricted, coverage_pretest = simulate_data_and_calculate_coverage(n, beta1_values, S)\n",
    "\n",
    "# Plot\n",
    "plt.figure(figsize=(10, 6))\n",
    "plt.plot(beta1_values, coverage_unrestricted, label='Unrestricted Model Coverage', marker='o')\n",
    "plt.plot(beta1_values, coverage_pretest, label='Pretest Model Coverage', marker='x')\n",
    "plt.xlabel('Beta1 Values')\n",
    "plt.ylabel('Coverage Probability')\n",
    "plt.title('Coverage Probabilities for Unrestricted and Pretest Models at n=100')\n",
    "plt.legend()\n",
    "plt.grid(True)\n",
    "plt.show()\n"
   ]
  },
  {
   "cell_type": "markdown",
   "id": "dc9f38b5",
   "metadata": {},
   "source": [
    "## Problem 3"
   ]
  },
  {
   "cell_type": "markdown",
   "id": "4d9f4969",
   "metadata": {},
   "source": [
    "**Part 1**"
   ]
  },
  {
   "cell_type": "markdown",
   "id": "ee652c23",
   "metadata": {},
   "source": [
    "$$\n",
    "\\|y - X\\beta\\|^2_2 =\\sum_{i = 1}^n(y_i - X_i\\beta)^2 \\\\\n",
    "\\text{add and subtract $X^*\\beta$}\\\\\n",
    "= \\sum_{i = 1}^n((y_i -X_i\\beta^*)+(X_i\\beta^* - X_i\\beta))^2\\\\\n",
    "= \\sum_{i = 1}^n((y_i -X_i\\beta^*)^2+(X_i(\\beta^* - \\beta))^2 + 2(y_i -X_i\\beta^*)(X_i(\\beta^* - \\beta)))\\\\\n",
    "= \\sum_{i = 1}^n(y_i -X_i\\beta^*)^2+\\sum_{i = 1}^n(X_i(\\beta^* - \\beta))^2 + 2\\sum_{i = 1}^n(y_i -X_i\\beta^*)(X_i(\\beta^* - \\beta))\\\\\n",
    "\\text{As given, $Y - X^*\\beta = U$}\\\\\n",
    "\\therefore \\|y - X\\beta^*\\|^2_2 + \\|X(\\beta^* - \\beta)\\|^2_2 + 2U^TX(\\beta^* - \\beta)///\n",
    "$$"
   ]
  },
  {
   "cell_type": "markdown",
   "id": "9fe8638c",
   "metadata": {},
   "source": [
    "$$\\require{cancelto}\n",
    "\\require{cancel}\n",
    "$$\n",
    "**Part 2**\n",
    "$\n",
    "f(\\hat \\beta) = \\|y - X\\hat \\beta\\|^2_2 + \\lambda \\|\\hat \\beta\\|_1\\\\\n",
    "f(\\beta^*) = \\|y - X\\beta^*\\|^2_2 + \\lambda\\|\\beta^*\\|_1 \\\\\n",
    "$\n",
    "$$\n",
    "f(\\hat \\beta) \\le f(\\beta^*)\\\\\n",
    "\\text{Applying the expression in part 1 on the first term of $f(\\hat \\beta)$ and $f(\\beta^*)$} \\\\\n",
    "\\implies \\cancel{\\|y - X\\beta^*\\|^2_2} + \\|X(\\beta^* - \\hat \\beta)\\|^2_2 + 2U^TX(\\beta^* - \\hat\\beta) + \\lambda\\| \\hat \\beta \\|_1 \\le \\\\\n",
    "\\cancel{\\|y - X\\beta^*\\|^2_2} + \\cancelto{0}{\\|X(\\beta^* - \\beta^*)\\|^2_2} + \\cancelto{0}{2U^TX(\\beta^* - \\beta^*)} + \\lambda\\| \\beta^* \\|_1\\\\\n",
    "\\implies \\|X(\\beta^* - \\hat \\beta)\\|^2_2 \\le - 2U^TX(\\beta^* - \\hat\\beta) + \\lambda (\\| \\beta^* \\|_1 - | \\hat \\beta \\|_1)\\\\\n",
    "= \\|X(\\beta^* - \\hat \\beta)\\|^2_2 \\le 2U^TX(\\hat\\beta - \\beta^*) + \\lambda (\\| \\beta^* \\|_1 - | \\hat \\beta \\|_1) ///\n",
    "$$\n"
   ]
  },
  {
   "cell_type": "markdown",
   "id": "00c757d1",
   "metadata": {},
   "source": [
    "**Part 3**`"
   ]
  },
  {
   "cell_type": "markdown",
   "id": "a64fed13",
   "metadata": {},
   "source": [
    ".. to do"
   ]
  }
 ],
 "metadata": {
  "kernelspec": {
   "display_name": "Python 3 (ipykernel)",
   "language": "python",
   "name": "python3"
  },
  "language_info": {
   "codemirror_mode": {
    "name": "ipython",
    "version": 3
   },
   "file_extension": ".py",
   "mimetype": "text/x-python",
   "name": "python",
   "nbconvert_exporter": "python",
   "pygments_lexer": "ipython3",
   "version": "3.11.5"
  }
 },
 "nbformat": 4,
 "nbformat_minor": 5
}
