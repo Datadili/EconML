{
 "cells": [
  {
   "cell_type": "markdown",
   "id": "85863c01",
   "metadata": {},
   "source": [
    "## Problem 1"
   ]
  },
  {
   "cell_type": "markdown",
   "id": "c1c7ee4c",
   "metadata": {},
   "source": [
    "**Part 1**"
   ]
  },
  {
   "cell_type": "code",
   "execution_count": null,
   "id": "91052de2",
   "metadata": {},
   "outputs": [],
   "source": []
  },
  {
   "cell_type": "markdown",
   "id": "7f52e9db",
   "metadata": {},
   "source": [
    "**Part 2**"
   ]
  },
  {
   "cell_type": "markdown",
   "id": "d016b1c3",
   "metadata": {},
   "source": [
    "$$\n",
    "\\begin{align*}\n",
    "Q^s(P) &= \\alpha^s + P\\beta^s + Z\\gamma + U^s \\\\\n",
    "Q^d(P) &= \\alpha^d + P\\beta^d + U^d\n",
    "\\end{align*}\n",
    "$$"
   ]
  },
  {
   "cell_type": "markdown",
   "id": "ad99f8b3",
   "metadata": {},
   "source": [
    "**a)** We expect $\\beta^s$ to be positive (upward sloping slope curve) and $\\beta^d$ to be negative (downward sloping demand curve). Thus $\\beta^d - \\beta^s$ should be negative."
   ]
  },
  {
   "cell_type": "markdown",
   "id": "6a9f5cf0",
   "metadata": {},
   "source": [
    "**b)** $Q^s(P) = Q^d(P)$\n",
    "$$\n",
    "\\begin{align*}\n",
    "\\alpha^s + P\\beta^s + Z\\gamma + U^s = \\alpha^d + P\\beta^d + U^d \\\\\n",
    "P\\beta^d - P\\beta^s = \\alpha^s - \\alpha^d + Z\\gamma + U^s -  U^d\\\\\n",
    "\\implies P^{equilibrium} = \\frac{\\alpha^s - \\alpha^d + Z\\gamma + U^s -  U^d}{\\beta^d - \\beta^s}\n",
    "\\end{align*}\n",
    "$$"
   ]
  },
  {
   "cell_type": "markdown",
   "id": "aa20c128",
   "metadata": {},
   "source": [
    "**c)** To show that the equilibrium price is endogenous in the model for demand, it is enough to show that :\n",
    "$Cov(P^{equilibrium}, U^d) \\ne 0$\n"
   ]
  },
  {
   "cell_type": "markdown",
   "id": "30d05a29",
   "metadata": {},
   "source": [
    "## Problem 2"
   ]
  },
  {
   "cell_type": "markdown",
   "id": "23e1f1b2",
   "metadata": {},
   "source": [
    "**Part 1**"
   ]
  },
  {
   "cell_type": "code",
   "execution_count": 4,
   "id": "b3067e3b",
   "metadata": {},
   "outputs": [],
   "source": [
    "import numpy as np\n",
    "def simulation(n, B1, B2, B3=0, B4=0, gamma1=0, gamma2=0):\n",
    "    \n",
    "    #making x2 which is an array of size n with mean 0 and 1\n",
    "    x2 = np.random.normal(0, 1, size = n)\n",
    "    \n",
    "    #noise parameter (the “exogenous part of x1”), independent of x2\n",
    "    v = np.random.normal(0, 0.1, size = n)\n",
    "    \n",
    "    #regressor we care about\n",
    "    x1 = x2 + x2**2*gamma1 + x2**5*gamma2 + v\n",
    "    \n",
    "    #structural error\n",
    "    u = np.random.normal(0,1)\n",
    "    \n",
    "    y = x1*B1 + x2*B2 + x2**2*B3 + np.sin(x2)*B4 + u\n",
    "    \n",
    "    return y, x1, x2"
   ]
  },
  {
   "cell_type": "markdown",
   "id": "9d77df85",
   "metadata": {},
   "source": [
    "**Part 2**"
   ]
  },
  {
   "cell_type": "code",
   "execution_count": 21,
   "id": "d284f5f2",
   "metadata": {},
   "outputs": [],
   "source": [
    "import statsmodels.api as sm\n",
    "def unrestricted(y, x1, x2):\n",
    "    x = np.vstack((x1, x2)).T # add \n",
    "    # Fit the linear regression model\n",
    "    model = sm.OLS(y, x) #y on x1, x2\n",
    "    results = model.fit()\n",
    "    coefficients = results.params\n",
    "    standard_errors = results.bse\n",
    "    B1 = coefficients[0]\n",
    "    se = standard_errors[0]\n",
    "    return B1, se\n",
    "\n",
    "def restricted(y, x1):\n",
    "    # Fit the linear regression model\n",
    "    model = sm.OLS(y, x1) #y on x1\n",
    "    results = model.fit()\n",
    "    coefficients = results.params\n",
    "    standard_errors = results.bse\n",
    "    B1 = coefficients[0]\n",
    "    se = standard_errors[0]\n",
    "    return B1, se\n",
    "\n",
    "def pretest(y, x1, x2):\n",
    "    #Model stuff...\n",
    "    return B1, se\n"
   ]
  },
  {
   "cell_type": "markdown",
   "id": "7db8dbc0",
   "metadata": {},
   "source": [
    "**Part 3**"
   ]
  },
  {
   "cell_type": "code",
   "execution_count": 20,
   "id": "36ea6c07",
   "metadata": {},
   "outputs": [
    {
     "data": {
      "text/plain": [
       "(2.738856127269196, 0.5070904678210727)"
      ]
     },
     "execution_count": 20,
     "metadata": {},
     "output_type": "execute_result"
    }
   ],
   "source": [
    "import math\n",
    "no_of_obs = [10]#, 100, 1000, 10000]\n",
    "sim = np.linspace(1, 2, 2) #1000, 1000) # 1 to 1000\n",
    "\n",
    "unrestrict_model = []\n",
    "restrict_model = []\n",
    "#pretest_model = [] #to do, should make pre_test\n",
    "\n",
    "for n in no_of_obs:\n",
    "    for s in sim:\n",
    "        y, x1, x2 = simulation(n, B1 = 2, B2 = 3/math.sqrt(n), B3=0, B4=0, gamma1=0, gamma2=0)\n",
    "        unrestrict_model.append(unrestricted(y, x1, x2))\n",
    "        restrict_model.append(restricted(y, x1))\n",
    "        #pretest_model.append(pretest(y, x1, x2))\n",
    "\n",
    "#example: this returns the B1 and standard error of s = 1 (first iteration)\n",
    "restrict_model[1]"
   ]
  },
  {
   "cell_type": "markdown",
   "id": "a2294f80",
   "metadata": {},
   "source": [
    "## Problem 3"
   ]
  },
  {
   "cell_type": "markdown",
   "id": "813d63fb",
   "metadata": {},
   "source": [
    "$$\\require(cancel)$$\n",
    "$$\n",
    "\\begin{align}\n",
    "f(\\hat \\beta) &= \\|y - X\\hat \\beta\\|^2_2 + \\lambda \\|\\hat \\beta\\|_1\\\\\n",
    "f(\\beta) &= \\|y - X\\beta\\|^2_2 + \\lambda\\|\\beta\\|_1 \\\\\n",
    "\\end{align}\n",
    "$$\n",
    "$$\n",
    "\\begin{align}\n",
    "\\|X(B^* - B)\\|^2 &= 2U^*(B^* - B) + \\cancelto{0}{(\\|B^*\\| - \\|B\\|)}, \\quad \\text{(assuming some terms cancel out or adjust to $0$)}\n",
    "\\end{align}\n",
    "$$"
   ]
  },
  {
   "cell_type": "markdown",
   "id": "c3eb3e3e",
   "metadata": {},
   "source": [
    "&= 2\\langle y - XB, XB^* - XB\\rangle + \\|XB^* - XB\\|^2 \\\\\n",
    "&= \\sum_i^2(y - XB)^2 + 2 \\sum_i^2(\\cancel{X(B - B)}) + \\sum_i^2(XB^* - XB)^2 \\text{Since $f(\\hat \\beta) \\le f(\\beta^*)$}\\\\"
   ]
  },
  {
   "cell_type": "code",
   "execution_count": null,
   "id": "b3719e67",
   "metadata": {},
   "outputs": [],
   "source": []
  }
 ],
 "metadata": {
  "kernelspec": {
   "display_name": "Python 3 (ipykernel)",
   "language": "python",
   "name": "python3"
  },
  "language_info": {
   "codemirror_mode": {
    "name": "ipython",
    "version": 3
   },
   "file_extension": ".py",
   "mimetype": "text/x-python",
   "name": "python",
   "nbconvert_exporter": "python",
   "pygments_lexer": "ipython3",
   "version": "3.10.9"
  }
 },
 "nbformat": 4,
 "nbformat_minor": 5
}
