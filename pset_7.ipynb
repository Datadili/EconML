{
 "cells": [
  {
   "cell_type": "markdown",
   "id": "29069939",
   "metadata": {},
   "source": [
    "# Homework 7, Dili Maduabum and Josh Bailey"
   ]
  },
  {
   "cell_type": "markdown",
   "id": "908fc561",
   "metadata": {},
   "source": [
    "## Problem 1"
   ]
  },
  {
   "cell_type": "markdown",
   "id": "2e1ce6a1",
   "metadata": {},
   "source": [
    "**Part 1**"
   ]
  },
  {
   "cell_type": "markdown",
   "id": "866e9967",
   "metadata": {},
   "source": [
    "**Exogenous** \n",
    "\n",
    "$\\breve X$ is an exogenous instrument for $\\tilde X$ if $Cov(\\tilde U, \\breve X) = 0$, where $\\tilde U$ is gotten from:\n",
    "\n",
    "$$\n",
    "Y = \\tilde XB + U \\implies Y = XB + \\underbrace{V^1B + U}_{\\tilde U} \\\\\n",
    "\\therefore Y = XB + \\tilde U\n",
    "$$\n",
    "\n",
    "$$\n",
    "\\begin{align*}\n",
    "Cov(\\tilde U, \\breve X) &= Cov(V^1B + U, \\breve X)\\\\\n",
    "&= Cov(V^1B + U, X + V^2)\\\\\n",
    "&= Cov(V^1B, X) +  Cov(V^1B, V^2) +  Cov(U, X) +  Cov(U, V^2)\\\\\n",
    "\\end{align*}\n",
    "$$\n",
    "Term by term: \n",
    "\n",
    "$Cov(V^1B, X) = BCov(V^1, X) = B(\\underbrace{E[XV^1]}_{0} - \\underbrace{E[X]\\underbrace{E[V^1]}_{0}}_{0}) = 0$\n",
    "\n",
    "$Cov(V^1B, V^2) = BCov(V^1, V^2) = B(\\underbrace{E[V^1V^2]}_{0} - \\underbrace{E[V^1]\\underbrace{E[V^2]}_{0}}_{0}) = 0$\n",
    "\n",
    "$Cov(U, X) = 0$ by assumption\n",
    "\n",
    "$Cov(U, V^2) = \\underbrace{E[UV^2]}_{0} - \\underbrace{E[U]\\underbrace{E[V^2]}_{0}}_{0} = 0$\n",
    "\n",
    "$$\n",
    "\\begin{align*}\n",
    "\\therefore Cov(\\tilde U, \\breve X) &= 0 + 0 + 0 + 0 = 0 ///\\\\\n",
    "\\end{align*}\n",
    "$$\n",
    "**Relevance** \n",
    "\n",
    "To show relevance, it's enough to show that $Cov(\\tilde X, \\breve X) \\ne 0$\n",
    "$$\n",
    "\\begin{align*}\n",
    "Cov(\\tilde X, \\breve X) &= Cov(X + V^1, X + V^2)\\\\\n",
    " &= Cov(X, X) + Cov(X, V^2) + Cov(V^1, X) + Cov(V^1, V^2)\\\\\n",
    "\\end{align*}\n",
    "$$\n",
    "\n",
    "Term by term: \n",
    "\n",
    "$Cov(X, X) = Var(X)$\n",
    "\n",
    "$Cov(X, V^2) = \\underbrace{E[XV^2]}_{0} - \\underbrace{E[X]\\underbrace{E[V^2]}_{0}}_{0}) = 0$\n",
    "\n",
    "$Cov(V^1, X) = 0$ (see the calculations in `Exogenous`)\n",
    "\n",
    "$Cov(V^1, V^2) = 0$ (see the calculations in `Exogenous`)$\n",
    "\n",
    "$$\n",
    "\\begin{align*}\n",
    "\\therefore Cov(\\tilde X, \\breve X) &= Var(X) + 0 + 0 + 0 = Var(X) > 0///\\\\\n",
    "\\end{align*}\n",
    "$$"
   ]
  },
  {
   "cell_type": "markdown",
   "id": "b7a6363d",
   "metadata": {},
   "source": [
    "**Part 2**"
   ]
  },
  {
   "cell_type": "markdown",
   "id": "6d51c10d",
   "metadata": {},
   "source": [
    "$$\n",
    "\\begin{align*}\n",
    "Q^s(P) &= \\alpha^s + P\\beta^s + Z\\gamma + U^s \\\\\n",
    "Q^d(P) &= \\alpha^d + P\\beta^d + U^d\n",
    "\\end{align*}\n",
    "$$"
   ]
  },
  {
   "cell_type": "markdown",
   "id": "e146a3e4",
   "metadata": {},
   "source": [
    "**a)** We expect $\\beta^s$ to be positive (upward sloping slope curve) and $\\beta^d$ to be negative (downward sloping demand curve). Thus $\\beta^d - \\beta^s$ should be negative."
   ]
  },
  {
   "cell_type": "markdown",
   "id": "4da398c3",
   "metadata": {},
   "source": [
    "**b)** $Q^s(P) = Q^d(P)$\n",
    "$$\n",
    "\\begin{align*}\n",
    "\\alpha^s + P\\beta^s + Z\\gamma + U^s = \\alpha^d + P\\beta^d + U^d \\\\\n",
    "P\\beta^d - P\\beta^s = \\alpha^s - \\alpha^d + Z\\gamma + U^s -  U^d\\\\\n",
    "\\implies P^{equilibrium} = \\frac{\\alpha^s - \\alpha^d + Z\\gamma + U^s -  U^d}{\\beta^d - \\beta^s}\n",
    "\\end{align*}\n",
    "$$"
   ]
  },
  {
   "cell_type": "markdown",
   "id": "e3ce217e",
   "metadata": {},
   "source": [
    "**c)** To show that the equilibrium price is endogenous in the model for demand, it is enough to show that :\n",
    "$Cov(P^{equilibrium}, U^d) \\ne 0$\n",
    "\n",
    "$$\n",
    "\\begin{equation*}\n",
    "\\implies Cov(\\frac{\\alpha^s - \\alpha^d + Z\\gamma + U^s -  U^d}{\\beta^d - \\beta^s}, U^d)\\\\\n",
    "= \\frac{1}{\\beta^d - \\beta^s}Cov(\\alpha^s - \\alpha^d + Z\\gamma + U^s -  U^d, U^d) \\\\\n",
    "= \\frac{1}{\\beta^d - \\beta^s}(\\underbrace{Cov(\\alpha^s - \\alpha^d, U^d)}_{0 \\text{, covariance with constant}} + \\gamma \\underbrace{Cov(Z, U^d)}_{0\\text{, since $E[ZU^d] = 0$}} + \\underbrace{Cov(U^s, U^d)}_{0} - \\underbrace{Cov(U^d, U^d)}_{Var(U^d)})\\\\\n",
    "= -\\frac{1}{\\beta^d - \\beta^s}Var(U^d) \\ne 0 \\quad \\text{under the assumption that} \\quad Var(U^d) \\ne 0\n",
    "\\end{equation*}\n",
    "$$\n",
    "\n",
    "Thus, equilibrium price is endogenous in the model for demand\n"
   ]
  },
  {
   "cell_type": "markdown",
   "id": "0d538544",
   "metadata": {},
   "source": [
    "**d) Exogenous** \n",
    "\n",
    "To show that Z as instrument for P in the demand model is exogenous, it is enough to show that $Cov(Z, U^d) = 0$:\n",
    "\n",
    "$$\n",
    "\\begin{equation*}\n",
    "Cov(Z, U^d) = \\underbrace{E[ZU^d]}_{0 \\text{, as given}} -  \\underbrace{E[Z]\\underbrace{E[U^d]}_{0}}_{\\implies 0} \\implies 0\n",
    "\\end{equation*}\n",
    "$$\n",
    "\n",
    "**Relevance** \n",
    "\n",
    "To show that Z as instrument for P in the demand model is relevant, it is enough to show that $Cov(P, Z) \\ne 0$:\n",
    "\n",
    "$$\n",
    "\\begin{equation*}\n",
    "Cov(P, Z) =  Cov(\\frac{\\alpha^s - \\alpha^d + Z\\gamma + U^s -  U^d}{\\beta^d - \\beta^s}, Z)\\\\\n",
    "= \\frac{1}{\\beta^d - \\beta^s}Cov(\\alpha^s - \\alpha^d + Z\\gamma + U^s -  U^d, Z) \\\\\n",
    "= \\frac{1}{\\beta^d - \\beta^s}(\\underbrace{Cov(\\alpha^s - \\alpha^d, Z)}_{0 \\text{, covariance with constant}} + \\gamma \\underbrace{Cov(Z, Z)}_{Var(Z)} + \\underbrace{Cov(U^s, Z)}_{0 \\text{, since $E[U^s, Z] = 0$ & $E[U^s] = 0$}} - \\underbrace{Cov(U^d, Z)}_{0 \\text{, since $E[U^d, Z] = 0$ & $E[U^d] = 0$}})\\\\\n",
    "\\implies \\frac{1}{\\beta^d - \\beta^s}\\gamma Var(z) > 0\n",
    "\\end{equation*}\n",
    "$$"
   ]
  },
  {
   "cell_type": "markdown",
   "id": "a2f8b6b7",
   "metadata": {},
   "source": [
    "**e)**\n",
    "\n",
    "... to do"
   ]
  },
  {
   "cell_type": "markdown",
   "id": "8d718281",
   "metadata": {},
   "source": [
    "## Problem 2"
   ]
  },
  {
   "cell_type": "markdown",
   "id": "094f972d",
   "metadata": {},
   "source": [
    "**Part 1**"
   ]
  },
  {
   "cell_type": "code",
   "execution_count": 4,
   "id": "b3067e3b",
   "metadata": {},
   "outputs": [],
   "source": [
    "import numpy as np\n",
    "def simulation(n, B1, B2, B3=0, B4=0, gamma1=0, gamma2=0):\n",
    "    \n",
    "    #making x2 which is an array of size n with mean 0 and 1\n",
    "    x2 = np.random.normal(0, 1, size = n)\n",
    "    \n",
    "    #noise parameter (the “exogenous part of x1”), independent of x2\n",
    "    v = np.random.normal(0, 0.1, size = n)\n",
    "    \n",
    "    #regressor we care about\n",
    "    x1 = x2 + x2**2*gamma1 + x2**5*gamma2 + v\n",
    "    \n",
    "    #structural error\n",
    "    u = np.random.normal(0,1)\n",
    "    \n",
    "    y = x1*B1 + x2*B2 + x2**2*B3 + np.sin(x2)*B4 + u\n",
    "    \n",
    "    return y, x1, x2"
   ]
  },
  {
   "cell_type": "markdown",
   "id": "c81bfa37",
   "metadata": {},
   "source": [
    "**Part 2** (incomplete)"
   ]
  },
  {
   "cell_type": "code",
   "execution_count": 21,
   "id": "d284f5f2",
   "metadata": {},
   "outputs": [],
   "source": [
    "import statsmodels.api as sm\n",
    "def unrestricted(y, x1, x2):\n",
    "    x = np.vstack((x1, x2)).T # add \n",
    "    # Fit the linear regression model\n",
    "    model = sm.OLS(y, x) #y on x1, x2\n",
    "    results = model.fit()\n",
    "    coefficients = results.params\n",
    "    standard_errors = results.bse\n",
    "    B1 = coefficients[0]\n",
    "    se = standard_errors[0]\n",
    "    return B1, se\n",
    "\n",
    "def restricted(y, x1):\n",
    "    # Fit the linear regression model\n",
    "    model = sm.OLS(y, x1) #y on x1\n",
    "    results = model.fit()\n",
    "    coefficients = results.params\n",
    "    standard_errors = results.bse\n",
    "    B1 = coefficients[0]\n",
    "    se = standard_errors[0]\n",
    "    return B1, se\n",
    "\n",
    "#incomplete\n",
    "def pretest(y, x1, x2):\n",
    "    #Model stuff...\n",
    "    return B1, se\n"
   ]
  },
  {
   "cell_type": "markdown",
   "id": "cc2112fe",
   "metadata": {},
   "source": [
    "**Part 3** (incomplete)"
   ]
  },
  {
   "cell_type": "code",
   "execution_count": 65,
   "id": "7aafca3f",
   "metadata": {},
   "outputs": [],
   "source": [
    "import math\n",
    "no_of_obs = [10, 100, 1000, 10000]\n",
    "S = np.linspace(1, 1000, 1000) # 1 to 1000 (S)\n",
    "\n",
    "unrestrict_model = []\n",
    "restrict_model = []\n",
    "#pretest_model = [] #to do, should make pretest\n",
    "\n",
    "#incomplete\n",
    "for n in no_of_obs:\n",
    "    for s in S:\n",
    "        y, x1, x2 = simulation(n, B1 = 2, B2 = 3/math.sqrt(n), B3=0, B4=0, gamma1=0, gamma2=0)\n",
    "        unrestrict_model.append(list(unrestricted(y, x1, x2)))\n",
    "        restrict_model.append(list(restricted(y, x1)))\n",
    "        #pretest_model.append(pretest(y, x1, x2))"
   ]
  },
  {
   "cell_type": "markdown",
   "id": "d92b0df3",
   "metadata": {},
   "source": [
    "**Part 4**"
   ]
  },
  {
   "cell_type": "code",
   "execution_count": null,
   "id": "34d85654",
   "metadata": {},
   "outputs": [],
   "source": []
  },
  {
   "cell_type": "markdown",
   "id": "134755b3",
   "metadata": {},
   "source": [
    "**Part 5**"
   ]
  },
  {
   "cell_type": "code",
   "execution_count": null,
   "id": "3b253917",
   "metadata": {},
   "outputs": [],
   "source": []
  },
  {
   "cell_type": "markdown",
   "id": "dc9f38b5",
   "metadata": {},
   "source": [
    "## Problem 3"
   ]
  },
  {
   "cell_type": "markdown",
   "id": "4d9f4969",
   "metadata": {},
   "source": [
    "**Part 1**"
   ]
  },
  {
   "cell_type": "markdown",
   "id": "ee652c23",
   "metadata": {},
   "source": [
    "$$\n",
    "\\|y - X\\beta\\|^2_2 =\\sum_{i = 1}^n(y_i - X_i\\beta)^2 \\\\\n",
    "\\text{add and subtract $X^*\\beta$}\\\\\n",
    "= \\sum_{i = 1}^n((y_i -X_i\\beta^*)+(X_i\\beta^* - X_i\\beta))^2\\\\\n",
    "= \\sum_{i = 1}^n((y_i -X_i\\beta^*)^2+(X_i(\\beta^* - \\beta))^2 + 2(y_i -X_i\\beta^*)(X_i(\\beta^* - \\beta)))\\\\\n",
    "= \\sum_{i = 1}^n(y_i -X_i\\beta^*)^2+\\sum_{i = 1}^n(X_i(\\beta^* - \\beta))^2 + 2\\sum_{i = 1}^n(y_i -X_i\\beta^*)(X_i(\\beta^* - \\beta))\\\\\n",
    "\\text{As given, $Y - X^*\\beta = U$}\\\\\n",
    "\\therefore \\|y - X\\beta^*\\|^2_2 + \\|X(\\beta^* - \\beta)\\|^2_2 + 2U^TX(\\beta^* - \\beta)///\n",
    "$$"
   ]
  },
  {
   "cell_type": "markdown",
   "id": "9fe8638c",
   "metadata": {},
   "source": [
    "$$\\require{cancelto}\n",
    "\\require{cancel}\n",
    "$$\n",
    "**Part 2**\n",
    "$\n",
    "f(\\hat \\beta) = \\|y - X\\hat \\beta\\|^2_2 + \\lambda \\|\\hat \\beta\\|_1\\\\\n",
    "f(\\beta^*) = \\|y - X\\beta^*\\|^2_2 + \\lambda\\|\\beta^*\\|_1 \\\\\n",
    "$\n",
    "$$\n",
    "f(\\hat \\beta) \\le f(\\beta^*)\\\\\n",
    "\\text{Applying the expression in part 1 on the first term of $f(\\hat \\beta)$ and $f(\\beta^*)$} \\\\\n",
    "\\implies \\cancel{\\|y - X\\beta^*\\|^2_2} + \\|X(\\beta^* - \\hat \\beta)\\|^2_2 + 2U^TX(\\beta^* - \\hat\\beta) + \\lambda\\| \\hat \\beta \\|_1 \\le \\\\\n",
    "\\cancel{\\|y - X\\beta^*\\|^2_2} + \\cancelto{0}{\\|X(\\beta^* - \\beta^*)\\|^2_2} + \\cancelto{0}{2U^TX(\\beta^* - \\beta^*)} + \\lambda\\| \\beta^* \\|_1\\\\\n",
    "\\implies \\|X(\\beta^* - \\hat \\beta)\\|^2_2 \\le - 2U^TX(\\beta^* - \\hat\\beta) + \\lambda (\\| \\beta^* \\|_1 - | \\hat \\beta \\|_1)\\\\\n",
    "= \\|X(\\beta^* - \\hat \\beta)\\|^2_2 \\le 2U^TX(\\hat\\beta - \\beta^*) + \\lambda (\\| \\beta^* \\|_1 - | \\hat \\beta \\|_1) ///\n",
    "$$\n"
   ]
  },
  {
   "cell_type": "markdown",
   "id": "00c757d1",
   "metadata": {},
   "source": [
    "**Part 3**`"
   ]
  },
  {
   "cell_type": "markdown",
   "id": "a64fed13",
   "metadata": {},
   "source": [
    ".. to do"
   ]
  }
 ],
 "metadata": {
  "kernelspec": {
   "display_name": "Python 3 (ipykernel)",
   "language": "python",
   "name": "python3"
  },
  "language_info": {
   "codemirror_mode": {
    "name": "ipython",
    "version": 3
   },
   "file_extension": ".py",
   "mimetype": "text/x-python",
   "name": "python",
   "nbconvert_exporter": "python",
   "pygments_lexer": "ipython3",
   "version": "3.10.9"
  }
 },
 "nbformat": 4,
 "nbformat_minor": 5
}
