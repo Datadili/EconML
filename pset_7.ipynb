{
 "cells": [
  {
   "cell_type": "markdown",
   "id": "2583008b",
   "metadata": {},
   "source": [
    "## Problem 1"
   ]
  },
  {
   "cell_type": "markdown",
   "id": "9c6c2026",
   "metadata": {},
   "source": [
    "**Part 1**"
   ]
  },
  {
   "cell_type": "markdown",
   "id": "c633923a",
   "metadata": {},
   "source": []
  },
  {
   "cell_type": "markdown",
   "id": "15ded8fb",
   "metadata": {},
   "source": [
    "**Part 2**"
   ]
  },
  {
   "cell_type": "markdown",
   "id": "6ffb91fd",
   "metadata": {},
   "source": [
    "$$\n",
    "\\begin{align*}\n",
    "Q^s(P) &= \\alpha^s + P\\beta^s + Z\\gamma + U^s \\\\\n",
    "Q^d(P) &= \\alpha^d + P\\beta^d + U^d\n",
    "\\end{align*}\n",
    "$$"
   ]
  },
  {
   "cell_type": "markdown",
   "id": "14a6a4a9",
   "metadata": {},
   "source": [
    "**a)** We expect $\\beta^s$ to be positive (upward sloping slope curve) and $\\beta^d$ to be negative (downward sloping demand curve). Thus $\\beta^d - \\beta^s$ should be negative."
   ]
  },
  {
   "cell_type": "markdown",
   "id": "ca01bd05",
   "metadata": {},
   "source": [
    "**b)** $Q^s(P) = Q^d(P)$\n",
    "$$\n",
    "\\begin{align*}\n",
    "\\alpha^s + P\\beta^s + Z\\gamma + U^s = \\alpha^d + P\\beta^d + U^d \\\\\n",
    "P\\beta^d - P\\beta^s = \\alpha^s - \\alpha^d + Z\\gamma + U^s -  U^d\\\\\n",
    "\\implies P^{equilibrium} = \\frac{\\alpha^s - \\alpha^d + Z\\gamma + U^s -  U^d}{\\beta^d - \\beta^s}\n",
    "\\end{align*}\n",
    "$$"
   ]
  },
  {
   "cell_type": "markdown",
   "id": "7481b089",
   "metadata": {},
   "source": [
    "**c)** To show that the equilibrium price is endogenous in the model for demand, it is enough to show that :\n",
    "$Cov(P^{equilibrium}, U^d) \\ne 0$\n",
    "\n",
    "$$\n",
    "\\begin{equation*}\n",
    "\\implies Cov(\\frac{\\alpha^s - \\alpha^d + Z\\gamma + U^s -  U^d}{\\beta^d - \\beta^s}, U^d)\\\\\n",
    "= \\frac{1}{\\beta^d - \\beta^s}Cov(\\alpha^s - \\alpha^d + Z\\gamma + U^s -  U^d, U^d) \\\\\n",
    "= \\frac{1}{\\beta^d - \\beta^s}(\\underbrace{Cov(\\alpha^s - \\alpha^d, U^d)}_{0 \\text{, covariance with constant}} + \\gamma \\underbrace{Cov(Z, U^d)}_{0\\text{, since $E[ZU^d] = 0$}} + \\underbrace{Cov(U^s, U^d)}_{0} - \\underbrace{Cov(U^d, U^d)}_{Var(U^d)})\\\\\n",
    "= -\\frac{1}{\\beta^d - \\beta^s}Var(U^d) \\ne 0 \\quad \\text{under the assumption that} \\quad Var(U^d) \\ne 0\n",
    "\\end{equation*}\n",
    "$$\n",
    "\n",
    "Thus, equilibrium price is endogenous in the model for demand\n"
   ]
  },
  {
   "cell_type": "markdown",
   "id": "549751db",
   "metadata": {},
   "source": [
    "**d) Exogenous** \n",
    "\n",
    "To show that Z as instrument for P in the demand model is exogenous, it is enough to show that $Cov(Z, U^d) = 0$:\n",
    "\n",
    "$$\n",
    "\\begin{equation*}\n",
    "Cov(Z, U^d) = \\underbrace{E[ZU^d]}_{0 \\text{, as given}} -  \\underbrace{E[Z]\\underbrace{E[U^d]}_{0}}_{\\implies 0} \\implies 0\n",
    "\\end{equation*}\n",
    "$$\n",
    "\n",
    "**Relevance** \n",
    "\n",
    "... to do"
   ]
  },
  {
   "cell_type": "markdown",
   "id": "1d2fc207",
   "metadata": {},
   "source": [
    "**e)**\n",
    "\n",
    "... to do"
   ]
  },
  {
   "cell_type": "markdown",
   "id": "12133faa",
   "metadata": {},
   "source": [
    "## Problem 2"
   ]
  },
  {
   "cell_type": "markdown",
   "id": "7d4b127a",
   "metadata": {},
   "source": [
    "**Part 1**"
   ]
  },
  {
   "cell_type": "code",
   "execution_count": 4,
   "id": "b3067e3b",
   "metadata": {},
   "outputs": [],
   "source": [
    "import numpy as np\n",
    "def simulation(n, B1, B2, B3=0, B4=0, gamma1=0, gamma2=0):\n",
    "    \n",
    "    #making x2 which is an array of size n with mean 0 and 1\n",
    "    x2 = np.random.normal(0, 1, size = n)\n",
    "    \n",
    "    #noise parameter (the “exogenous part of x1”), independent of x2\n",
    "    v = np.random.normal(0, 0.1, size = n)\n",
    "    \n",
    "    #regressor we care about\n",
    "    x1 = x2 + x2**2*gamma1 + x2**5*gamma2 + v\n",
    "    \n",
    "    #structural error\n",
    "    u = np.random.normal(0,1)\n",
    "    \n",
    "    y = x1*B1 + x2*B2 + x2**2*B3 + np.sin(x2)*B4 + u\n",
    "    \n",
    "    return y, x1, x2"
   ]
  },
  {
   "cell_type": "markdown",
   "id": "507681bd",
   "metadata": {},
   "source": [
    "**Part 2**"
   ]
  },
  {
   "cell_type": "code",
   "execution_count": 21,
   "id": "d284f5f2",
   "metadata": {},
   "outputs": [],
   "source": [
    "import statsmodels.api as sm\n",
    "def unrestricted(y, x1, x2):\n",
    "    x = np.vstack((x1, x2)).T # add \n",
    "    # Fit the linear regression model\n",
    "    model = sm.OLS(y, x) #y on x1, x2\n",
    "    results = model.fit()\n",
    "    coefficients = results.params\n",
    "    standard_errors = results.bse\n",
    "    B1 = coefficients[0]\n",
    "    se = standard_errors[0]\n",
    "    return B1, se\n",
    "\n",
    "def restricted(y, x1):\n",
    "    # Fit the linear regression model\n",
    "    model = sm.OLS(y, x1) #y on x1\n",
    "    results = model.fit()\n",
    "    coefficients = results.params\n",
    "    standard_errors = results.bse\n",
    "    B1 = coefficients[0]\n",
    "    se = standard_errors[0]\n",
    "    return B1, se\n",
    "\n",
    "def pretest(y, x1, x2):\n",
    "    #Model stuff...\n",
    "    return B1, se\n"
   ]
  },
  {
   "cell_type": "markdown",
   "id": "01d44c08",
   "metadata": {},
   "source": [
    "**Part 3**"
   ]
  },
  {
   "cell_type": "code",
   "execution_count": 54,
   "id": "c6a38ea8",
   "metadata": {},
   "outputs": [
    {
     "data": {
      "text/plain": [
       "[[2.679405244609162, 0.6355811129490607],\n",
       " [2.3125603445612604, 0.3484900593352459]]"
      ]
     },
     "execution_count": 54,
     "metadata": {},
     "output_type": "execute_result"
    }
   ],
   "source": [
    "import math\n",
    "no_of_obs = [10]#, 100, 1000, 10000]\n",
    "sim = np.linspace(1, 2, 2) #1000, 1000) # 1 to 1000\n",
    "\n",
    "unrestrict_model = []\n",
    "restrict_model = []\n",
    "#pretest_model = [] #to do, should make pre_test\n",
    "\n",
    "for n in no_of_obs:\n",
    "    for s in sim:\n",
    "        y, x1, x2 = simulation(n, B1 = 2, B2 = 3/math.sqrt(n), B3=0, B4=0, gamma1=0, gamma2=0)\n",
    "        unrestrict_model.append(list(unrestricted(y, x1, x2)))\n",
    "        restrict_model.append(list(restricted(y, x1)))\n",
    "        #pretest_model.append(pretest(y, x1, x2))\n",
    "\n",
    "#example: this returns the B1 and standard error of s = 1 (first iteration)\n",
    "restrict_model"
   ]
  },
  {
   "cell_type": "code",
   "execution_count": 28,
   "id": "fdaa5b15",
   "metadata": {},
   "outputs": [
    {
     "data": {
      "text/plain": [
       "[6.233738117047137, 2.2311979461777094]"
      ]
     },
     "execution_count": 28,
     "metadata": {},
     "output_type": "execute_result"
    }
   ],
   "source": [
    " y, x1, x2 = simulation(n, B1 = 2, B2 = 3/math.sqrt(n), B3=0, B4=0, gamma1=0, gamma2=0)\n",
    "list(unrestricted(y, x1, x2))"
   ]
  },
  {
   "cell_type": "markdown",
   "id": "7aebb78d",
   "metadata": {},
   "source": [
    "## Problem 3"
   ]
  },
  {
   "cell_type": "markdown",
   "id": "a93ae43f",
   "metadata": {},
   "source": [
    "**Part 1**"
   ]
  },
  {
   "cell_type": "markdown",
   "id": "06c8dd38",
   "metadata": {},
   "source": [
    "$$\n",
    "\\|y - X\\beta\\|^2_2 =\\sum_{i = 1}^n(y_i - X_i\\beta)^2 \\\\\n",
    "= \\sum_{i = 1}^n((y_i -X_i\\beta^*)+(X_i\\beta^* - X_i\\beta))^2\\\\\n",
    "= \\sum_{i = 1}^n((y_i -X_i\\beta^*)^2+(X_i(\\beta^* - \\beta))^2 + 2(y_i -X_i\\beta^*)(X_i(\\beta^* - \\beta)))\\\\\n",
    "= \\sum_{i = 1}^n(y_i -X_i\\beta^*)^2+\\sum_{i = 1}^n(X_i(\\beta^* - \\beta))^2 + 2\\sum_{i = 1}^n(y_i -X_i\\beta^*)(X_i(\\beta^* - \\beta))\\\\\n",
    "= \\|y - X\\beta^*\\|^2_2 + \\|X(\\beta^* - \\beta)\\|^2_2 + 2U^TX(\\beta^* - \\beta)///\n",
    "$$"
   ]
  },
  {
   "cell_type": "markdown",
   "id": "8bdeffda",
   "metadata": {},
   "source": [
    "$$\\require{cancelto}\n",
    "\\require{cancel}\n",
    "$$\n",
    "**Part 2**\n",
    "$\n",
    "f(\\hat \\beta) = \\|y - X\\hat \\beta\\|^2_2 + \\lambda \\|\\hat \\beta\\|_1\\\\\n",
    "f(\\beta^*) = \\|y - X\\beta^*\\|^2_2 + \\lambda\\|\\beta^*\\|_1 \\\\\n",
    "$\n",
    "$$\n",
    "f(\\hat \\beta) \\le f(\\beta^*)\\\\\n",
    "\\text{Applying the expression in part 1 on the first term of $f(\\hat \\beta)$ and $f(\\beta^*)$} \\\\\n",
    "\\implies \\cancel{\\|y - X\\beta^*\\|^2_2} + \\|X(\\beta^* - \\hat \\beta)\\|^2_2 + 2U^TX(\\beta^* - \\hat\\beta) + \\lambda\\| \\hat \\beta \\|_1 \\le \\\\\n",
    "\\cancel{\\|y - X\\beta^*\\|^2_2} + \\cancelto{0}{\\|X(\\beta^* - \\beta^*)\\|^2_2} + \\cancelto{0}{2U^TX(\\beta^* - \\beta^*)} + \\lambda\\| \\beta^* \\|_1\\\\\n",
    "\\implies \\|X(\\beta^* - \\hat \\beta)\\|^2_2 \\le - 2U^TX(\\beta^* - \\hat\\beta) + \\lambda (\\| \\beta^* \\|_1 - | \\hat \\beta \\|_1)\\\\\n",
    "= \\|X(\\beta^* - \\hat \\beta)\\|^2_2 \\le 2U^TX(\\hat\\beta - \\beta^*) + \\lambda (\\| \\beta^* \\|_1 - | \\hat \\beta \\|_1) ///\n",
    "$$\n"
   ]
  },
  {
   "cell_type": "markdown",
   "id": "66e2545c",
   "metadata": {},
   "source": [
    "**Part 3**`"
   ]
  },
  {
   "cell_type": "code",
   "execution_count": null,
   "id": "d9a3f68a",
   "metadata": {},
   "outputs": [],
   "source": []
  }
 ],
 "metadata": {
  "kernelspec": {
   "display_name": "Python 3 (ipykernel)",
   "language": "python",
   "name": "python3"
  },
  "language_info": {
   "codemirror_mode": {
    "name": "ipython",
    "version": 3
   },
   "file_extension": ".py",
   "mimetype": "text/x-python",
   "name": "python",
   "nbconvert_exporter": "python",
   "pygments_lexer": "ipython3",
   "version": "3.10.9"
  }
 },
 "nbformat": 4,
 "nbformat_minor": 5
}
