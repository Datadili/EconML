{
 "cells": [
  {
   "cell_type": "markdown",
   "id": "3949b79e-fc73-4639-b62c-4e23d4b25a04",
   "metadata": {},
   "source": [
    "# econ566 - pset06 - Dili Maduabum, Joshua Bailey"
   ]
  },
  {
   "cell_type": "markdown",
   "id": "74e7af3a-2b1d-46c7-a7a5-9347ebaa936c",
   "metadata": {},
   "source": [
    "## problem 1"
   ]
  }
 ],
 "metadata": {
  "kernelspec": {
   "display_name": "Python 3 (ipykernel)",
   "language": "python",
   "name": "python3"
  },
  "language_info": {
   "codemirror_mode": {
    "name": "ipython",
    "version": 3
   },
   "file_extension": ".py",
   "mimetype": "text/x-python",
   "name": "python",
   "nbconvert_exporter": "python",
   "pygments_lexer": "ipython3",
   "version": "3.11.5"
  }
 },
 "nbformat": 4,
 "nbformat_minor": 5
}
