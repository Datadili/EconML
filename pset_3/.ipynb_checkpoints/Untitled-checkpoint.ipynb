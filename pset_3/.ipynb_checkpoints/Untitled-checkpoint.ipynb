{
 "cells": [
  {
   "cell_type": "markdown",
   "id": "b75e1907",
   "metadata": {},
   "source": [
    "## PROBLEM 1"
   ]
  },
  {
   "cell_type": "markdown",
   "id": "41ea0f6d",
   "metadata": {},
   "source": [
    "### PART 1"
   ]
  },
  {
   "cell_type": "code",
   "execution_count": null,
   "id": "d739aa82",
   "metadata": {},
   "outputs": [],
   "source": []
  },
  {
   "cell_type": "markdown",
   "id": "6f82b14c",
   "metadata": {},
   "source": [
    "### PART 2"
   ]
  },
  {
   "cell_type": "code",
   "execution_count": 12,
   "id": "f241f3d1",
   "metadata": {},
   "outputs": [],
   "source": []
  },
  {
   "cell_type": "markdown",
   "id": "079ddb84",
   "metadata": {},
   "source": [
    "### PART 3"
   ]
  },
  {
   "cell_type": "code",
   "execution_count": null,
   "id": "e20cbcb2",
   "metadata": {},
   "outputs": [],
   "source": []
  },
  {
   "cell_type": "markdown",
   "id": "7142a714",
   "metadata": {},
   "source": [
    "## Problem 2\n",
    "\n",
    "### PART 1"
   ]
  },
  {
   "cell_type": "markdown",
   "id": "4fdb115a",
   "metadata": {},
   "source": [
    "$$\n",
    "\\begin{equation}\n",
    "g_{x, y}(\\beta) = y - \\sum^p_{j =1} x_i\\beta_j, \\text{ $\\forall \\lambda \\in [0,1]$, $\\beta^1, \\beta^2 \\in \\mathbb{R}^p$}\n",
    "\\end{equation}\n",
    "$$\n",
    "is convex if:\n",
    "\n",
    "$g_{x, y}(\\lambda\\beta^1 + (1 - \\lambda)\\beta^2) \\le \\lambda g_{x, y}(\\beta^1) + (1-\\lambda)g_{x, y}(\\beta^2)$ \n",
    "\n",
    "Proof:\n",
    "\n",
    "$g_{x, y}(\\lambda\\beta^1 + (1 - \\lambda)\\beta^2)$ \n",
    "\n",
    "$= y - \\sum^p_{j =1} x_i(\\lambda\\beta^1 + (1 - \\lambda)\\beta^2)_j$\n",
    "\n",
    "$= y - \\lambda\\sum^p_{j =1} x_i\\beta_j^1 - (1 - \\lambda)\\sum^p_{j =1}x_i\\beta_j^2$\n",
    "\n",
    "$= y - \\lambda\\sum^p_{j =1} x_i\\beta_j^1 - \\sum^p_{j =1}x_i\\beta_j^2 + \\lambda \\sum^p_{j =1}x_i\\beta_j^2$\n",
    "\n",
    "$\\pm \\lambda y$\n",
    "\n",
    "$= y + \\pmb{\\lambda y} - \\lambda \\sum^p_{j =1}x_i\\beta_j^1 - \\sum^p_{j =1}x_i\\beta_j^2 - \\pmb{\\lambda y} + \\lambda \\sum^p_{j =1}x_i\\beta_j^2$\n",
    "\n",
    "Collect like terms..\n",
    "\n",
    "$= \\lambda (y - \\sum^p_{j =1}x_i\\beta_j^1) + (1-\\lambda)y - (1-\\lambda)\\sum^p_{j =1}x_i\\beta_j^2$\n",
    "\n",
    "$= \\lambda (y - \\sum^p_{j =1}x_i\\beta_j^1) + (1-\\lambda)(y - \\sum^p_{j =1}x_i\\beta_j^2)$\n",
    "\n",
    "$= \\lambda g_{x, y}(\\beta^1) + (1-\\lambda)g_{x, y}(\\beta^2)$\n",
    "\n",
    "which is convex by definition, since they are equal, by linearity\n"
   ]
  },
  {
   "cell_type": "markdown",
   "id": "af830472",
   "metadata": {},
   "source": [
    "$$\\require{cancel}$$\n",
    "### PART 2"
   ]
  },
  {
   "cell_type": "markdown",
   "id": "9b6c6a0d",
   "metadata": {},
   "source": [
    "$h(z) = z^2$ is convex if:\n",
    "\n",
    "$h(\\lambda x + (1 - \\lambda)y) \\le \\lambda h(x) + (1-\\lambda)h(y)$\n",
    "\n",
    "Proof:\n",
    "\n",
    "$h(\\lambda x + (1 - \\lambda)y)$\n",
    "\n",
    "$= (\\lambda x + (1 - \\lambda)y)^2$\n",
    "\n",
    "$= (\\lambda x)^2 + ((1 - \\lambda)y)^2 + 2(\\lambda x)((1 - \\lambda)y)$\n",
    "\n",
    "$= (\\lambda x)^2 + ((1 - \\lambda)y)^2 + (2xy)\\lambda(1 - \\lambda)$\n",
    "\n",
    "$\\le \\lambda^2 x^2 + (1 - \\lambda)^2y^2 + (x^2+ y^2)\\lambda(1-\\lambda)$, by youngs inequality\n",
    "\n",
    "$\\le \\lambda^2 x^2 + (1 - \\lambda)^2y^2 + x^2\\lambda(1-\\lambda) + y^2\\lambda(1-\\lambda)$\n",
    "\n",
    "$\\le (\\lambda^2 + \\lambda(1-\\lambda))x^2 + ((1 - \\lambda)^2 + \\lambda(1-\\lambda))y^2$\n",
    "\n",
    "$\\le (\\cancel{\\lambda^2}+\\lambda \\cancel{-\\lambda^2})x^2 + (1 - 2\\lambda \\cancel{+ \\lambda^2} + \\lambda \\cancel{-\\lambda^2})y^2$\n",
    "\n",
    "$\\le \\lambda x^2 + (1-\\lambda)y^2$\n",
    "\n",
    "$\\le \\lambda h(x) + (1-\\lambda)h(y)$///"
   ]
  },
  {
   "cell_type": "markdown",
   "id": "35e6f14e",
   "metadata": {},
   "source": [
    "### PART 3"
   ]
  },
  {
   "cell_type": "markdown",
   "id": "341c3510",
   "metadata": {},
   "source": [
    "$q_{x,y}(\\beta) = h(g_{x,y}(\\beta))$ is convex if\n",
    "\n",
    "$h(\\lambda g_{x,y}(a) + (1-\\lambda)g_{x,y}(b)) \\le \\lambda h(g_{x,y}(a)) + (1-\\lambda)h(g_{x,y}(b)) \\text{     $\\forall a,b \\in \\mathbb{R}^p$}$\n",
    "\n",
    "Proof:\n",
    "\n",
    "$h(\\lambda g_{x,y}(a) + (1-\\lambda)g_{x,y}(b))$\n",
    "\n",
    "$= (\\lambda g_{x,y}(a) + (1-\\lambda)g_{x,y}(b))^2$\n",
    "\n",
    "$= (\\lambda (y - \\sum^p_{j =1}x_ia_j) + (1-\\lambda)(y - \\sum^p_{j =1}x_ib_j))^2$\n",
    "\n",
    "$= (\\cancel{\\lambda y} - \\lambda \\sum^p_{j =1}x_ia_j + y - \\sum^p_{j =1}x_ib_j \\cancel{-\\lambda y} + \\lambda \\sum^p_{j =1}x_ib_j))^2$\n",
    "\n",
    "$= (- \\lambda \\sum^p_{j =1}x_ia_j + y - \\sum^p_{j =1}x_ib_j  + \\lambda \\sum^p_{j =1}x_ib_j))^2$\n",
    "\n",
    "$= (( y - \\lambda \\sum^p_{j =1}x_ia_j)- (\\sum^p_{j =1}x_ib_j - \\lambda \\sum^p_{j =1}x_ib_j))^2$\n",
    "\n",
    "$= (y - \\lambda \\sum^p_{j =1}x_ia_j)^2 -2(y - \\lambda \\sum^p_{j =1}x_ia_j)(\\sum^p_{j =1}x_ib_j - \\lambda \\sum^p_{j =1}x_ib_j)$\n",
    "$+ (\\sum^p_{j =1}x_ib_j - \\lambda \\sum^p_{j =1}x_ib_j)^2$\n",
    "\n",
    "\n",
    "$= (y^2 -\\lambda 2y\\sum^p_{j =1}x_ia_j + \\lambda^2 (\\sum^p_{j =1}x_ia_j)^2) - 2y\\sum^p_{j =1}x_ib_j + \\lambda 2y\\sum^p_{j =1}x_ib_j$ \n",
    "$+ \\lambda 2(\\sum^p_{j =1}x_ia_j\\sum^p_{j =1}x_ib_j) - \\lambda^2 2(\\sum^p_{j =1}x_ia_j\\sum^p_{j =1}x_ib_j)+ ((\\sum^p_{j =1}x_ib_j)^2$ \n",
    "$- \\lambda2(\\sum^p_{j =1}x_ib_j)^2 + \\lambda^2 (\\sum^p_{j =1}x_ib_j)^2)$\n",
    "\n",
    "$= (y^2 -\\lambda 2y\\sum^p_{j =1}x_ia_j + \\lambda^2 (\\sum^p_{j =1}x_ia_j)^2)- 2y\\sum^p_{j =1}x_ib_j + \\lambda 2y\\sum^p_{j =1}x_ib_j$\n",
    "$+ (\\lambda  - \\lambda^2)(2(\\sum^p_{j =1}x_ia_j\\sum^p_{j =1}x_ib_j)\n",
    "+ ((\\sum^p_{j =1}x_ib_j)^2 - \\lambda2(\\sum^p_{j =1}x_ib_j)^2$ \n",
    "$+\\lambda^2 (\\sum^p_{j =1}x_ib_j)^2)$\n",
    "\n",
    "$\\le (y^2 -\\lambda 2y\\sum^p_{j =1}x_ia_j + \\lambda^2 (\\sum^p_{j =1}x_ia_j)^2)$ \n",
    "$- 2y\\sum^p_{j =1}x_ib_j + \\lambda 2y\\sum^p_{j =1}x_ib_j + (\\lambda  - \\lambda^2)((\\sum^p_{j =1}x_ia_j)^2 + (\\sum^p_{j =1}x_ib_j)^2) $\n",
    "$+ ( (\\sum^p_{j =1}x_ib_j)^2 - \\lambda2(\\sum^p_{j =1}x_ib_j)^2 + \\lambda^2 (\\sum^p_{j =1}x_ib_j)^2)$, by Young's Inequality\n",
    "\n",
    "$\\le (y^2 -\\lambda 2y\\sum^p_{j =1}x_ia_j + \\lambda^2 (\\sum^p_{j =1}x_ia_j)^2) - 2y\\sum^p_{j =1}x_ib_j + \\lambda 2y\\sum^p_{j =1}x_ib_j + \\lambda(\\sum^p_{j =1}x_ia_j)^2 + \\lambda(\\sum^p_{j =1}x_ib_j)^2 - \\lambda^2(\\sum^p_{j =1}x_ia_j)^2 - \\lambda^2(\\sum^p_{j =1}x_ib_j)^2 $\n",
    "$+ ( (\\sum^p_{j =1}x_ib_j)^2 - \\lambda2(\\sum^p_{j =1}x_ib_j)^2 + \\lambda^2 (\\sum^p_{j =1}x_ib_j)^2)$\n",
    "\n",
    "$\\le y^2 -\\lambda 2y\\sum^p_{j =1}x_ia_j +  \\cancel{\\lambda^2 (\\sum^p_{j =1}x_ia_j)^2}- 2y\\sum^p_{j =1}x_ib_j + \\lambda 2y\\sum^p_{j =1}x_ib_j $\n",
    "$+ \\lambda(\\sum^p_{j =1}x_ia_j)^2 + \\lambda(\\sum^p_{j =1}x_ib_j)^2  \\cancel{- \\lambda^2(\\sum^p_{j =1}x_ia_j)^2}  \\cancel{- \\lambda^2(\\sum^p_{j =1}x_ib_j)^2} $\n",
    "$+  (\\sum^p_{j =1}x_ib_j)^2 - \\lambda2(\\sum^p_{j =1}x_ib_j)^2 +  \\cancel{\\lambda^2 (\\sum^p_{j =1}x_ib_j)^2}$\n",
    "\n",
    "$\\le y^2 -\\lambda 2y\\sum^p_{j =1}x_ia_j- 2y\\sum^p_{j =1}x_ib_j + \\lambda 2y\\sum^p_{j =1}x_ib_j$ \n",
    "$+ \\lambda(\\sum^p_{j =1}x_ia_j)^2 - \\lambda(\\sum^p_{j =1}x_ib_j)^2  +  (\\sum^p_{j =1}x_ib_j)^2$\n",
    "\n",
    "Collect like terms:\n",
    "\n",
    "$\\le  -\\lambda 2y\\sum^p_{j =1}x_ia_j + \\lambda(\\sum^p_{j =1}x_ia_j)^2+ y^2 - 2y\\sum^p_{j =1}x_ib_j +  (\\sum^p_{j =1}x_ib_j)^2 $\n",
    "$+ \\lambda 2y\\sum^p_{j =1}x_ib_j- \\lambda(\\sum^p_{j =1}x_ib_j)^2 $\n",
    "\n",
    "\n",
    "Add and substract $\\lambda y^2$:\n",
    "\n",
    "\n",
    "$ \\le \\pmb{\\lambda y^2} -\\lambda 2y\\sum^p_{j =1}x_ia_j + \\lambda(\\sum^p_{j =1}x_ia_j)^2+ y^2 - 2y\\sum^p_{j =1}x_ib_j +  (\\sum^p_{j =1}x_ib_j)^2 -\\pmb{\\lambda y^2}+ \\lambda 2y\\sum^p_{j =1}x_ib_j - \\lambda(\\sum^p_{j =1}x_ib_j)^2 $\n",
    "\n",
    "\n",
    "$ \\le \\lambda(y^2 - 2y\\sum^p_{j =1}x_ia_j + (\\sum^p_{j =1}x_ia_j)^2) + (1 - \\lambda)(y^2 - 2y\\sum^p_{j =1}x_ib_j + (\\sum^p_{j =1}x_ib_j)^2) $\n",
    "\n",
    "\n",
    "$ \\le \\lambda(y - \\sum^p_{j =1}x_ia_j)^2 + (1 - \\lambda)(y - \\sum^p_{j =1}x_ib_j)^2 $\n",
    "\n",
    "$ \\le \\lambda(g_{x,y}(a))^2 + (1 - \\lambda)(g_{x,y}(b))^2 $\n",
    "\n",
    "$ \\le \\lambda h(g_{x,y}(a)) + (1 - \\lambda)h(g_{x,y}(b))$ ///\n",
    "\n"
   ]
  },
  {
   "cell_type": "markdown",
   "id": "3a5f7bf2",
   "metadata": {},
   "source": [
    "### PART 4"
   ]
  },
  {
   "cell_type": "markdown",
   "id": "60841bdd",
   "metadata": {},
   "source": [
    "$t(\\lambda x + (1 - \\lambda)y)$ \n",
    "\n",
    "$= r(\\lambda x + (1 - \\lambda)y) + s(\\lambda x + (1 - \\lambda)y)$\n",
    "\n",
    "$\\le \\lambda r(x) + (1 - \\lambda)r(y) + \\lambda s(x) + (1 - \\lambda)s(y)$ since $r(.)$ and $s(.)$ are convex\n",
    "\n",
    "$\\le \\lambda (r(x) +s(x)) + (1 - \\lambda)(r(y) + s(y))$\n",
    "\n",
    "$\\le \\lambda t(x) + (1 - \\lambda) t(y)$\n",
    "\n",
    "which is convex"
   ]
  },
  {
   "cell_type": "markdown",
   "id": "7826db7c",
   "metadata": {},
   "source": [
    "### PART 5"
   ]
  },
  {
   "cell_type": "markdown",
   "id": "a6d940ad",
   "metadata": {},
   "source": [
    "Claim:\n",
    "$$\\begin{equation}\n",
    "v(z) = \\sum^{n}_{i=1}v_i(z)\n",
    "\\end{equation}$$\n",
    "\n",
    "is convex.\n",
    "\n",
    "Proof by induction:\n",
    "\n",
    "<u>Base Case</u>\n",
    "\n",
    "From part 4 above, we saw that:\n",
    "\n",
    "$r(\\lambda x + (1 - \\lambda)y) + s(\\lambda x + (1 - \\lambda)y) \\le \\lambda (r(x) +s(x)) + (1 - \\lambda)(r(y) + s(y))$\n",
    "\n",
    "let $r(z) = v_1(z)$ and $s(z) = v_2(z)$. Thus, for n = 2,\n",
    "\n",
    "$v_1(\\lambda x + (1 - \\lambda)y) + v_2(\\lambda x + (1 - \\lambda)y) \\le \\lambda (v_1(x) +v_2(x)) + (1 - \\lambda)(v_1(y) + v_2(y))$\n",
    "\n",
    "<u>Inductive Hypothesis</u>\n",
    "\n",
    "$\\sum^m_{i=1}v_i(\\lambda x + (1 - \\lambda)y) \\le \\lambda \\sum^m_{i=1}v_i(x) + (1 - \\lambda)\\sum^m_{i=1}v_i(y)$ for some finite m\n",
    "\n",
    "<u>Inductive Step</u>\n",
    "\n",
    "Consider:\n",
    "\n",
    "$$\\begin{equation}\n",
    "\\sum^{m+1}_{i=1}v_i(\\lambda x + (1 - \\lambda)y)\n",
    "\\end{equation}$$\n",
    "\n",
    "$= \\sum^m_{i=1}v_i(\\lambda x + (1 - \\lambda)y) + v_{m+1}(\\lambda x + (1-\\lambda)y)$\n",
    "\n",
    "$\\le \\underbrace{\\lambda \\sum^m_{i=1}v_i(x) + (1 - \\lambda)\\sum^m_{i=1}v_i(y)}_{\\text{by the inductive hypothesis}} + \\underbrace{\\lambda v_{m+1}(x)+ (1-\\lambda)v_{m+1}(y)}_{\\text{since $v_i(z)$ is convex}}$\n",
    "\n",
    "collect like terms:\n",
    "\n",
    "$\\le \\lambda (\\sum^m_{i=1}v_i(x) + v_{m+1}(x)) + (1 - \\lambda)(\\sum^m_{i=1}v_i(y) + v_{m+1}(y))$\n",
    "\n",
    "$\\le \\lambda \\sum^{m+1}_{i=1}v_i(x) + (1 - \\lambda)\\sum^{m+1}_{i=1}v_i(y)$\n",
    "\n",
    "Thus by induction, $v(z) = \\sum^{n}_{i=1}v_i(z)$ is convex"
   ]
  },
  {
   "cell_type": "markdown",
   "id": "7b6d5a94",
   "metadata": {},
   "source": [
    "### PART 6"
   ]
  },
  {
   "cell_type": "markdown",
   "id": "b43bbe11",
   "metadata": {},
   "source": [
    "$$\n",
    "\\begin{equation}\n",
    "f(\\beta) = \\sum^n_{i = 1} (y_i - \\sum^p_{j =1} x_i\\beta_j)^2\n",
    "\\end{equation}\n",
    "$$\n",
    "\n",
    "is convex if:\n",
    "\n",
    "$f(\\lambda a + (1-\\lambda)b) \\le \\lambda f(a) + (1-\\lambda)f(b)$\n",
    "\n",
    "Proof:\n",
    "\n",
    "$f(\\lambda a + (1-\\lambda)b)$\n",
    "\n",
    "\n",
    "$= \\sum^n_{i = 1} [y_i - \\sum^p_{j =1}x_i(\\lambda a + (1-\\lambda)b)_j]^2$\n",
    "\n",
    "$= \\sum^n_{i = 1} (y_i - \\lambda \\sum^p_{j =1}x_ia_j - \\sum^p_{j =1}x_ib_j +\\lambda \\sum^p_{j =1}x_ib_j)^2$\n",
    "\n",
    "$= \\sum^n_{i = 1} (( y_i - \\lambda \\sum^p_{j =1}x_ia_j)- (\\sum^p_{j =1}x_ib_j - \\lambda \\sum^p_{j =1}x_ib_j))^2$\n",
    "\n",
    "\n",
    "$=\\sum^n_{i =1} [(y_i - \\lambda \\sum^p_{j =1}x_ia_j)^2 -2(y - \\lambda \\sum^p_{j =1}x_ia_j)(\\sum^p_{j =1}x_ib_j - \\lambda \\sum^p_{j =1}x_ib_j)$\n",
    "$+ (\\sum^p_{j =1}x_ib_j - \\lambda \\sum^p_{j =1}x_ib_j)^2]$\n",
    "\n",
    "\n",
    "$=\\sum^n_{i =1} [(y^2 -\\lambda 2y\\sum^p_{j =1}x_ia_j + \\lambda^2 (\\sum^p_{j =1}x_ia_j)^2) - 2y\\sum^p_{j =1}x_ib_j + \\lambda 2y\\sum^p_{j =1}x_ib_j$ \n",
    "$+ \\lambda 2(\\sum^p_{j =1}x_ia_j\\sum^p_{j =1}x_ib_j) - \\lambda^2 2(\\sum^p_{j =1}x_ia_j\\sum^p_{j =1}x_ib_j)+ ((\\sum^p_{j =1}x_ib_j)^2$ \n",
    "$- \\lambda2(\\sum^p_{j =1}x_ib_j)^2 + \\lambda^2 (\\sum^p_{j =1}x_ib_j)^2)]$\n",
    "\n",
    "$=\\sum^n_{i =1} [(y^2 -\\lambda 2y\\sum^p_{j =1}x_ia_j + \\lambda^2 (\\sum^p_{j =1}x_ia_j)^2)- 2y\\sum^p_{j =1}x_ib_j + \\lambda 2y\\sum^p_{j =1}x_ib_j$ $+ (\\lambda  - \\lambda^2)(2(\\sum^p_{j =1}x_ia_j\\sum^p_{j =1}x_ib_j)\n",
    "+ ((\\sum^p_{j =1}x_ib_j)^2 - \\lambda2(\\sum^p_{j =1}x_ib_j)^2+\\lambda^2 (\\sum^p_{j =1}x_ib_j)^2)]$\n",
    "\n",
    "$\\le \\sum^n_{i =1} [(y^2 -\\lambda 2y\\sum^p_{j =1}x_ia_j + \\lambda^2 (\\sum^p_{j =1}x_ia_j)^2)$ \n",
    "$- 2y\\sum^p_{j =1}x_ib_j + \\lambda 2y\\sum^p_{j =1}x_ib_j + (\\lambda  - \\lambda^2)((\\sum^p_{j =1}x_ia_j)^2 + (\\sum^p_{j =1}x_ib_j)^2) $\n",
    "$+ ( (\\sum^p_{j =1}x_ib_j)^2 - \\lambda2(\\sum^p_{j =1}x_ib_j)^2 + \\lambda^2 (\\sum^p_{j =1}x_ib_j)^2)]$, by Young's Inequality\n",
    "\n",
    "$\\le \\sum^n_{i =1}[(y^2 -\\lambda 2y\\sum^p_{j =1}x_ia_j + \\lambda^2 (\\sum^p_{j =1}x_ia_j)^2) - 2y\\sum^p_{j =1}x_ib_j + \\lambda 2y\\sum^p_{j =1}x_ib_j + \\lambda(\\sum^p_{j =1}x_ia_j)^2 + \\lambda(\\sum^p_{j =1}x_ib_j)^2 - \\lambda^2(\\sum^p_{j =1}x_ia_j)^2 - \\lambda^2(\\sum^p_{j =1}x_ib_j)^2 $\n",
    "$+ ( (\\sum^p_{j =1}x_ib_j)^2 - \\lambda2(\\sum^p_{j =1}x_ib_j)^2 + \\lambda^2 (\\sum^p_{j =1}x_ib_j)^2)]$\n",
    "\n",
    "$\\le \\sum^n_{i =1}[y^2 -\\lambda 2y\\sum^p_{j =1}x_ia_j +  \\cancel{\\lambda^2 (\\sum^p_{j =1}x_ia_j)^2}- 2y\\sum^p_{j =1}x_ib_j + \\lambda 2y\\sum^p_{j =1}x_ib_j $\n",
    "$+ \\lambda(\\sum^p_{j =1}x_ia_j)^2 + \\lambda(\\sum^p_{j =1}x_ib_j)^2  \\cancel{- \\lambda^2(\\sum^p_{j =1}x_ia_j)^2}  \\cancel{- \\lambda^2(\\sum^p_{j =1}x_ib_j)^2} $\n",
    "$+  (\\sum^p_{j =1}x_ib_j)^2 - \\lambda2(\\sum^p_{j =1}x_ib_j)^2 +  \\cancel{\\lambda^2 (\\sum^p_{j =1}x_ib_j)^2}]$\n",
    "\n",
    "$\\le \\sum^n_{i =1} [y^2 -\\lambda 2y\\sum^p_{j =1}x_ia_j- 2y\\sum^p_{j =1}x_ib_j + \\lambda 2y\\sum^p_{j =1}x_ib_j$ \n",
    "$+ \\lambda(\\sum^p_{j =1}x_ia_j)^2 - \\lambda(\\sum^p_{j =1}x_ib_j)^2  +  (\\sum^p_{j =1}x_ib_j)^2]$\n",
    "\n",
    "Collect like terms:\n",
    "\n",
    "$\\le \\sum^n_{i =1} [ -\\lambda 2y\\sum^p_{j =1}x_ia_j + \\lambda(\\sum^p_{j =1}x_ia_j)^2+ y^2 - 2y\\sum^p_{j =1}x_ib_j +  (\\sum^p_{j =1}x_ib_j)^2 $\n",
    "$+ \\lambda 2y\\sum^p_{j =1}x_ib_j- \\lambda(\\sum^p_{j =1}x_ib_j)^2 ]$\n",
    "\n",
    "\n",
    "Add and substract $\\lambda y^2$:\n",
    "\n",
    "$ \\le \\sum^n_{i =1} (\\pmb{\\lambda y^2} -\\lambda 2y\\sum^p_{j =1}x_ia_j + \\lambda(\\sum^p_{j =1}x_ia_j)^2) + \\sum^n_{i =1} (y^2 - 2y\\sum^p_{j =1}x_ib_j +  (\\sum^p_{j =1}x_ib_j)^2) + \\sum^n_{i =1} (-\\pmb{\\lambda y^2}+ \\lambda 2y\\sum^p_{j =1}x_ib_j - \\lambda(\\sum^p_{j =1}x_ib_j)^2) $\n",
    "\n",
    "$ \\le \\sum^n_{i =1} \\lambda(y^2 - 2y\\sum^p_{j =1}x_ia_j + (\\sum^p_{j =1}x_ia_j)^2) +$ $ \\sum^n_{i =1}(y^2 - 2y\\sum^p_{j =1}x_ib_j + (\\sum^p_{j =1}x_ib_j)^2)$ $- \\lambda\\sum^n_{i =1}(y^2 - 2y\\sum^p_{j =1}x_ib_j + (\\sum^p_{j =1}x_ib_j)^2) $\n",
    "\n",
    "\n",
    "\n",
    "$ \\le \\sum^n_{i =1} \\lambda(y^2 - 2y\\sum^p_{j =1}x_ia_j + (\\sum^p_{j =1}x_ia_j)^2)$ \n",
    "$+ (1 - \\lambda)\\sum^n_{i =1}(y^2 - 2y\\sum^p_{j =1}x_ib_j + (\\sum^p_{j =1}x_ib_j)^2) $\n",
    "\n",
    "$ \\le \\lambda\\sum^n_{i =1}(y - \\sum^p_{j =1}x_ia_j)^2 + (1 - \\lambda)\\sum^n_{i =1}(y - \\sum^p_{j =1}x_ib_j)^2 $\n",
    "\n",
    "$ \\le \\lambda f(a) + (1 - \\lambda)f(a) $///\n",
    "\n"
   ]
  },
  {
   "cell_type": "markdown",
   "id": "be2de106",
   "metadata": {},
   "source": [
    "### PART 7"
   ]
  },
  {
   "cell_type": "markdown",
   "id": "1869f941",
   "metadata": {},
   "source": [
    "Blah Blah Blah...."
   ]
  },
  {
   "cell_type": "markdown",
   "id": "7f4047bb",
   "metadata": {},
   "source": [
    "## PROBLEM 3"
   ]
  },
  {
   "cell_type": "markdown",
   "id": "0efb9665",
   "metadata": {},
   "source": [
    "### PART 1"
   ]
  },
  {
   "cell_type": "markdown",
   "id": "a4bbddee",
   "metadata": {},
   "source": [
    "Optimization is good in Machine Learning because it helps to blah blah blah"
   ]
  },
  {
   "cell_type": "markdown",
   "id": "fbe6ed9a",
   "metadata": {},
   "source": [
    "### PART 2"
   ]
  },
  {
   "cell_type": "markdown",
   "id": "a54ba69b",
   "metadata": {},
   "source": [
    "$MSE(f(X)) = $"
   ]
  },
  {
   "cell_type": "markdown",
   "id": "261e6cac",
   "metadata": {},
   "source": [
    "### PART 3"
   ]
  },
  {
   "cell_type": "markdown",
   "id": "6a8d37df",
   "metadata": {},
   "source": [
    "if $f(x)$ is convex, then:\n",
    "\n",
    "$f(\\lambda x + (1 - \\lambda)y) = \\lambda f(x) + (1 - \\lambda)f(y)$\n",
    "\n",
    "Proof:\n",
    "\n",
    "$f(\\lambda x + (1 - \\lambda)y)$\n",
    "\n",
    "$\\le f(\\lambda x) + f((1 - \\lambda)y)$, by the $f(x + y) \\le f(x) + f(y)$ property  \n",
    "\n",
    "$\\le \\lambda f(x) + (1 - \\lambda)f(y)$, by the $f(ax) = af(x)$ property\n",
    "\n",
    "///"
   ]
  },
  {
   "cell_type": "markdown",
   "id": "14451dd0",
   "metadata": {},
   "source": [
    "### PART 4"
   ]
  },
  {
   "cell_type": "code",
   "execution_count": null,
   "id": "3da31bda",
   "metadata": {},
   "outputs": [],
   "source": []
  }
 ],
 "metadata": {
  "kernelspec": {
   "display_name": "Python 3 (ipykernel)",
   "language": "python",
   "name": "python3"
  },
  "language_info": {
   "codemirror_mode": {
    "name": "ipython",
    "version": 3
   },
   "file_extension": ".py",
   "mimetype": "text/x-python",
   "name": "python",
   "nbconvert_exporter": "python",
   "pygments_lexer": "ipython3",
   "version": "3.10.9"
  }
 },
 "nbformat": 4,
 "nbformat_minor": 5
}
