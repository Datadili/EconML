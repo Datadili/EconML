{
 "cells": [
  {
   "cell_type": "markdown",
   "id": "2138e135",
   "metadata": {},
   "source": [
    "**problem 2**"
   ]
  },
  {
   "cell_type": "markdown",
   "id": "71cd0fa2",
   "metadata": {},
   "source": [
    "It's enough to show that when $Y$ is binary, the squared loss is equal to the 0-1 loss\n",
    "\n",
    "Squared loss\n",
    "\n",
    "$$\n",
    "\\begin{equation}\n",
    "\\frac{1}{n}\\sum (\\hat y_i - y_i)^2\n",
    "\\end{equation}\n",
    "$$\n",
    "\n",
    "0-1 loss\n",
    "\n",
    "$$\n",
    "\\begin{equation}\n",
    "\\frac{1}{n}\\sum \\mathbb 1(\\hat y_i \\neq y_i) \n",
    "\\end{equation}\n",
    "$$\n",
    "\n"
   ]
  },
  {
   "cell_type": "markdown",
   "id": "36532a2c",
   "metadata": {},
   "source": [
    "Let $G$ via a binary $Y$. Then $\\hat f(X)$ = $E[Y|X] = P(\\hat y_i = y_i|X) \\text{ if } Y = 1$\n",
    "\n",
    "$$\n",
    "G =\n",
    "\\begin{cases}\n",
    "G_1 = 1 \n",
    "\\end{cases}\n",
    "$$"
   ]
  },
  {
   "cell_type": "code",
   "execution_count": 22,
   "id": "5a96e26a",
   "metadata": {},
   "outputs": [
    {
     "data": {
      "text/html": [
       "<div>\n",
       "<style scoped>\n",
       "    .dataframe tbody tr th:only-of-type {\n",
       "        vertical-align: middle;\n",
       "    }\n",
       "\n",
       "    .dataframe tbody tr th {\n",
       "        vertical-align: top;\n",
       "    }\n",
       "\n",
       "    .dataframe thead th {\n",
       "        text-align: right;\n",
       "    }\n",
       "</style>\n",
       "<table border=\"1\" class=\"dataframe\">\n",
       "  <thead>\n",
       "    <tr style=\"text-align: right;\">\n",
       "      <th></th>\n",
       "      <th>Y_1i</th>\n",
       "      <th>Y_0i</th>\n",
       "      <th>D_i</th>\n",
       "    </tr>\n",
       "  </thead>\n",
       "  <tbody>\n",
       "    <tr>\n",
       "      <th>0</th>\n",
       "      <td>1</td>\n",
       "      <td>2</td>\n",
       "      <td>0</td>\n",
       "    </tr>\n",
       "    <tr>\n",
       "      <th>1</th>\n",
       "      <td>6</td>\n",
       "      <td>7</td>\n",
       "      <td>0</td>\n",
       "    </tr>\n",
       "    <tr>\n",
       "      <th>2</th>\n",
       "      <td>2</td>\n",
       "      <td>4</td>\n",
       "      <td>0</td>\n",
       "    </tr>\n",
       "    <tr>\n",
       "      <th>3</th>\n",
       "      <td>10</td>\n",
       "      <td>2</td>\n",
       "      <td>0</td>\n",
       "    </tr>\n",
       "    <tr>\n",
       "      <th>4</th>\n",
       "      <td>10</td>\n",
       "      <td>4</td>\n",
       "      <td>0</td>\n",
       "    </tr>\n",
       "  </tbody>\n",
       "</table>\n",
       "</div>"
      ],
      "text/plain": [
       "   Y_1i  Y_0i  D_i\n",
       "0     1     2    0\n",
       "1     6     7    0\n",
       "2     2     4    0\n",
       "3    10     2    0\n",
       "4    10     4    0"
      ]
     },
     "execution_count": 22,
     "metadata": {},
     "output_type": "execute_result"
    }
   ],
   "source": [
    "import random\n",
    "import pandas as pd\n",
    "\n",
    "Y_1i = []\n",
    "Y_0i = []\n",
    "D_i = []\n",
    "for _ in range(1000):\n",
    "    #random numbers between 1 to 10, treated group\n",
    "    Y_1i.append(random.randint(1, 10))\n",
    "    #control group\n",
    "    Y_0i.append(random.randint(1, 10))\n",
    "    #treatment\n",
    "    D_i.append(random.randint(0, 1))\n",
    "    \n",
    "# Creating a DataFrame\n",
    "data = pd.DataFrame(list(zip(Y_1i, Y_0i, D_i)), columns=['Y_1i', 'Y_0i', 'D_i'])\n",
    "\n",
    "# Displaying the first few rows of the DataFrame\n",
    "data.head()"
   ]
  },
  {
   "cell_type": "code",
   "execution_count": 26,
   "id": "64432745",
   "metadata": {},
   "outputs": [
    {
     "data": {
      "text/html": [
       "<div>\n",
       "<style scoped>\n",
       "    .dataframe tbody tr th:only-of-type {\n",
       "        vertical-align: middle;\n",
       "    }\n",
       "\n",
       "    .dataframe tbody tr th {\n",
       "        vertical-align: top;\n",
       "    }\n",
       "\n",
       "    .dataframe thead th {\n",
       "        text-align: right;\n",
       "    }\n",
       "</style>\n",
       "<table border=\"1\" class=\"dataframe\">\n",
       "  <thead>\n",
       "    <tr style=\"text-align: right;\">\n",
       "      <th></th>\n",
       "      <th>Y_1i</th>\n",
       "      <th>Y_0i</th>\n",
       "      <th>D_i</th>\n",
       "    </tr>\n",
       "  </thead>\n",
       "  <tbody>\n",
       "    <tr>\n",
       "      <th>0</th>\n",
       "      <td>5</td>\n",
       "      <td>1</td>\n",
       "      <td>1</td>\n",
       "    </tr>\n",
       "    <tr>\n",
       "      <th>1</th>\n",
       "      <td>1</td>\n",
       "      <td>9</td>\n",
       "      <td>0</td>\n",
       "    </tr>\n",
       "    <tr>\n",
       "      <th>2</th>\n",
       "      <td>7</td>\n",
       "      <td>1</td>\n",
       "      <td>1</td>\n",
       "    </tr>\n",
       "    <tr>\n",
       "      <th>3</th>\n",
       "      <td>8</td>\n",
       "      <td>6</td>\n",
       "      <td>1</td>\n",
       "    </tr>\n",
       "    <tr>\n",
       "      <th>4</th>\n",
       "      <td>3</td>\n",
       "      <td>10</td>\n",
       "      <td>1</td>\n",
       "    </tr>\n",
       "  </tbody>\n",
       "</table>\n",
       "</div>"
      ],
      "text/plain": [
       "   Y_1i  Y_0i  D_i\n",
       "0     5     1    1\n",
       "1     1     9    0\n",
       "2     7     1    1\n",
       "3     8     6    1\n",
       "4     3    10    1"
      ]
     },
     "execution_count": 26,
     "metadata": {},
     "output_type": "execute_result"
    }
   ],
   "source": [
    "import random\n",
    "import pandas as pd\n",
    "\n",
    "Y_1i = []\n",
    "Y_0i = []\n",
    "D_i = []\n",
    "for _ in range(1000):\n",
    "    #random numbers between 1 to 10, treated group\n",
    "    Y_1i.append(random.randint(1, 10))\n",
    "    #control group\n",
    "    Y_0i.append(random.randint(1, 10))\n",
    "    #treatment\n",
    "    D_i.append(random.randint(0, 1))\n",
    "    \n",
    "# Creating a DataFrame\n",
    "data = pd.DataFrame(list(zip(Y_1i, Y_0i, D_i)), columns=['Y_1i', 'Y_0i', 'D_i'])\n",
    "\n",
    "# Displaying the first few rows of the DataFrame\n",
    "data.head()"
   ]
  },
  {
   "cell_type": "code",
   "execution_count": 27,
   "id": "7d8af215",
   "metadata": {},
   "outputs": [
    {
     "data": {
      "text/html": [
       "<div>\n",
       "<style scoped>\n",
       "    .dataframe tbody tr th:only-of-type {\n",
       "        vertical-align: middle;\n",
       "    }\n",
       "\n",
       "    .dataframe tbody tr th {\n",
       "        vertical-align: top;\n",
       "    }\n",
       "\n",
       "    .dataframe thead th {\n",
       "        text-align: right;\n",
       "    }\n",
       "</style>\n",
       "<table border=\"1\" class=\"dataframe\">\n",
       "  <thead>\n",
       "    <tr style=\"text-align: right;\">\n",
       "      <th></th>\n",
       "      <th>Y_1i</th>\n",
       "      <th>Y_0i</th>\n",
       "      <th>D_i</th>\n",
       "    </tr>\n",
       "  </thead>\n",
       "  <tbody>\n",
       "    <tr>\n",
       "      <th>0</th>\n",
       "      <td>7</td>\n",
       "      <td>1</td>\n",
       "      <td>1</td>\n",
       "    </tr>\n",
       "    <tr>\n",
       "      <th>1</th>\n",
       "      <td>1</td>\n",
       "      <td>9</td>\n",
       "      <td>0</td>\n",
       "    </tr>\n",
       "    <tr>\n",
       "      <th>2</th>\n",
       "      <td>9</td>\n",
       "      <td>1</td>\n",
       "      <td>1</td>\n",
       "    </tr>\n",
       "    <tr>\n",
       "      <th>3</th>\n",
       "      <td>10</td>\n",
       "      <td>6</td>\n",
       "      <td>1</td>\n",
       "    </tr>\n",
       "    <tr>\n",
       "      <th>4</th>\n",
       "      <td>5</td>\n",
       "      <td>10</td>\n",
       "      <td>1</td>\n",
       "    </tr>\n",
       "  </tbody>\n",
       "</table>\n",
       "</div>"
      ],
      "text/plain": [
       "   Y_1i  Y_0i  D_i\n",
       "0     7     1    1\n",
       "1     1     9    0\n",
       "2     9     1    1\n",
       "3    10     6    1\n",
       "4     5    10    1"
      ]
     },
     "execution_count": 27,
     "metadata": {},
     "output_type": "execute_result"
    }
   ],
   "source": [
    "#Change values \"loc\" changes the rows in place\n",
    "df = data.copy()\n",
    "# only add 2 to outcomes that were treated\n",
    "df.loc[df['D_i'] == 1, 'Y_1i'] = df.loc[df['D_i'] == 1, 'Y_1i'] + 2\n",
    "df.head()"
   ]
  },
  {
   "cell_type": "code",
   "execution_count": 28,
   "id": "5415a252",
   "metadata": {},
   "outputs": [
    {
     "name": "stdout",
     "output_type": "stream",
     "text": [
      "Mean of Y_1 when D_i is 1: 7.59\n",
      "Mean of Y_0 when D_i is 0: 5.45\n",
      "The ATE = 2.14\n"
     ]
    }
   ],
   "source": [
    "# Calculating the mean of Y_1 when D_i is 1\n",
    "mean_Y_1_given_D_1 = df[df['D_i'] == 1]['Y_1i'].mean()\n",
    "\n",
    "# Calculating the mean of Y_0 when D_i is 0\n",
    "mean_Y_0_given_D_0 = df[df['D_i'] == 0]['Y_0i'].mean()\n",
    "\n",
    "# Displaying the results\n",
    "print(\"Mean of Y_1 when D_i is 1:\", round(mean_Y_1_given_D_1, 2))\n",
    "print(\"Mean of Y_0 when D_i is 0:\", round(mean_Y_0_given_D_0, 2))\n",
    "print(f\"The ATE = {round(mean_Y_1_given_D_1 - mean_Y_0_given_D_0, 2)}\")"
   ]
  },
  {
   "cell_type": "markdown",
   "id": "7784afb0",
   "metadata": {},
   "source": [
    "Ans: this is not the ATE since the potential outcome for those not treated is inherently smaller (aka not the same)"
   ]
  },
  {
   "cell_type": "markdown",
   "id": "34296332",
   "metadata": {},
   "source": [
    "part 2"
   ]
  },
  {
   "cell_type": "code",
   "execution_count": 30,
   "id": "924a5807",
   "metadata": {},
   "outputs": [
    {
     "name": "stdout",
     "output_type": "stream",
     "text": [
      "Mean of Y_1 when D_i is 1: 5.59\n",
      "Mean of Y_0 when D_i is 0: 5.45\n",
      "The ATE = 0.1, which is as good as 0\n"
     ]
    }
   ],
   "source": [
    "# Calculating the mean of Y_1 when D_i is 1\n",
    "mean_Y_1_given_D_1 = data[data['D_i'] == 1]['Y_1i'].mean()\n",
    "\n",
    "# Calculating the mean of Y_0 when D_i is 0\n",
    "mean_Y_0_given_D_0 = data[data['D_i'] == 0]['Y_0i'].mean()\n",
    "\n",
    "# Displaying the results\n",
    "print(\"Mean of Y_1 when D_i is 1:\", round(mean_Y_1_given_D_1, 2))\n",
    "print(\"Mean of Y_0 when D_i is 0:\", round(mean_Y_0_given_D_0, 2))\n",
    "print(f\"The ATE = {round(mean_Y_1_given_D_1 - mean_Y_0_given_D_0, 1)}, which is as good as 0\")"
   ]
  },
  {
   "cell_type": "markdown",
   "id": "0cc909ef",
   "metadata": {},
   "source": [
    "Problem 4"
   ]
  },
  {
   "cell_type": "markdown",
   "id": "32bd3f25",
   "metadata": {},
   "source": [
    "$E[\\frac{1}{n}\\sum E[L(x^*_i, y^*_i)|D, x^*]]$"
   ]
  },
  {
   "cell_type": "code",
   "execution_count": null,
   "id": "0393d71d",
   "metadata": {},
   "outputs": [],
   "source": [
    "It's enough to show that when $Y$ is binary, the squared loss is equal to the 0-1 loss\n",
    "\n",
    "Squared loss:\n",
    "\n",
    "$$\n",
    "\\begin{equation}\n",
    "\\frac{1}{n}\\sum (\\hat y_i - y_i)^2\n",
    "\\end{equation}\n",
    "$$\n",
    "\n",
    "0-1 loss:\n",
    "\n",
    "$$\n",
    "\\begin{equation}\n",
    "\\frac{1}{n}\\sum \\mathbb 1(\\hat y_i \\neq y_i) = \\frac{1}{n}\\sum 1 - \\mathbb 1(\\hat y_i =  y_i) \n",
    "\\end{equation}\n",
    "$$\n",
    "\n",
    "$= 1 - \\frac{1}{n}\\sum \\mathbb 1(\\hat y_i \\neq y_i)$ \\\\\n",
    "\n",
    "$ = 1 - P(\\hat y_i =  y_i|X)$\n",
    "\n",
    "Case 1, When y is 1:\n",
    "\n",
    "Then $P(\\hat y_i =  y_i|X) = E[Y|X] = \\hat y_i$\n"
   ]
  }
 ],
 "metadata": {
  "kernelspec": {
   "display_name": "Python 3 (ipykernel)",
   "language": "python",
   "name": "python3"
  },
  "language_info": {
   "codemirror_mode": {
    "name": "ipython",
    "version": 3
   },
   "file_extension": ".py",
   "mimetype": "text/x-python",
   "name": "python",
   "nbconvert_exporter": "python",
   "pygments_lexer": "ipython3",
   "version": "3.10.9"
  }
 },
 "nbformat": 4,
 "nbformat_minor": 5
}
