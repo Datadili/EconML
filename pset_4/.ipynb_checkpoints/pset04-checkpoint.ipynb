{
 "cells": [
  {
   "cell_type": "markdown",
   "id": "3949b79e-fc73-4639-b62c-4e23d4b25a04",
   "metadata": {},
   "source": [
    "# econ566 - pset04 - Dili Maduabum, Joshua Bailey"
   ]
  },
  {
   "cell_type": "markdown",
   "id": "74e7af3a-2b1d-46c7-a7a5-9347ebaa936c",
   "metadata": {},
   "source": [
    "## problem 1"
   ]
  },
  {
   "cell_type": "markdown",
   "id": "d058df15-c31e-4ba6-a944-ff3c3397dfcd",
   "metadata": {},
   "source": [
    "## problem 2"
   ]
  },
  {
   "cell_type": "markdown",
   "id": "e015937b-e0d3-41ff-a876-5029cc757bed",
   "metadata": {},
   "source": [
    "## problem 3"
   ]
  },
  {
   "cell_type": "markdown",
   "id": "f4499d8f-f9ce-4eb6-9598-9dbabc07621e",
   "metadata": {},
   "source": [
    "### 3.1"
   ]
  },
  {
   "cell_type": "markdown",
   "id": "ccbc6dc5-c3a5-4054-aa94-3d102abfb42a",
   "metadata": {},
   "source": [
    "**NEED ANSWER**"
   ]
  },
  {
   "cell_type": "markdown",
   "id": "4f13e29c-a120-40a7-a7de-950f8dfb5a17",
   "metadata": {},
   "source": [
    "### 3.2"
   ]
  },
  {
   "cell_type": "markdown",
   "id": "cca1e23c-9351-4014-9734-f92c9bd3d844",
   "metadata": {},
   "source": [
    "### 3.2.a"
   ]
  },
  {
   "cell_type": "markdown",
   "id": "4b87270f-2099-40f0-a5d8-81eeabbba1ed",
   "metadata": {},
   "source": [
    "The headline is clearly based on a simple comparison of *exyr* means. This is clearly a misleading comparison because it does not account for other sources of potential heterogeneity in the groups. "
   ]
  },
  {
   "cell_type": "code",
   "execution_count": 1,
   "id": "036fc214-a5e9-4870-8835-2bf406d3b218",
   "metadata": {},
   "outputs": [
    {
     "name": "stdout",
     "output_type": "stream",
     "text": [
      "   Unnamed: 0       exyr  smoking        age\n",
      "0           1  47.368238        1  25.195272\n",
      "1           2  11.487626        0  66.839859\n",
      "2           3  28.746626        0  48.190247\n",
      "3           4  37.317359        1  35.605114\n",
      "4           5  26.160615        0  50.138735\n",
      "smoking\n",
      "0    28.788753\n",
      "1    36.763548\n",
      "Name: exyr, dtype: float64\n"
     ]
    }
   ],
   "source": [
    "import pandas as pd\n",
    "\n",
    "# Load the data\n",
    "data = pd.read_csv('/Users/joshuabailey/Documents/GitHub/EconML/pset_4/soo.csv')\n",
    "print(data.head())\n",
    "\n",
    "# Calculate the mean expected years of life (exyr) for smokers and non-smokers\n",
    "mean_exyr_by_smoking_status = data.groupby('smoking')['exyr'].mean()\n",
    "\n",
    "print(mean_exyr_by_smoking_status)"
   ]
  },
  {
   "cell_type": "markdown",
   "id": "d3f32969-84c2-443f-aaa7-075b3f083760",
   "metadata": {},
   "source": [
    "### 3.2.b"
   ]
  },
  {
   "cell_type": "markdown",
   "id": "2ae85524-7dd2-444f-9fb5-d39209c906bb",
   "metadata": {},
   "source": [
    "Looking at mean age for smokers and non-smokers shows that the average age of non-smokers in the dataset is approximately 47.22 years, while the average age of smokers is approximately 35.54 years. This significant difference in age between smokers and non-smokers could indeed be a problem for the causal interpretation of the difference in expected years of life (exyr) observed in the previous question.\n",
    "\n",
    "Without controlling for age, we cannot conclusively say that smoking increases life expectancy, as the observed difference might be influenced by the age composition of the groups rather than the effect of smoking itself."
   ]
  },
  {
   "cell_type": "code",
   "execution_count": 2,
   "id": "018b214b-47f5-4d5c-86d2-d075919c39da",
   "metadata": {},
   "outputs": [
    {
     "name": "stdout",
     "output_type": "stream",
     "text": [
      "smoking\n",
      "0    47.217696\n",
      "1    35.542983\n",
      "Name: age, dtype: float64\n"
     ]
    }
   ],
   "source": [
    "# Calculate the mean age for smokers and non-smokers\n",
    "mean_age_by_smoking_status = data.groupby('smoking')['age'].mean()\n",
    "\n",
    "# Display the means\n",
    "print(mean_age_by_smoking_status)"
   ]
  },
  {
   "cell_type": "markdown",
   "id": "3d1cde33-9df5-45a6-8adf-8b796dbd30f2",
   "metadata": {},
   "source": [
    "### 3.2.c"
   ]
  },
  {
   "cell_type": "markdown",
   "id": "259a2f03-a2fa-4858-9406-17db324ff0be",
   "metadata": {},
   "source": [
    "**CLEAN THIS UP**\n",
    "\n",
    "Assumption (3) refers to the concept of conditional independence between the treatment assignment (in this case, the act of smoking, denoted as \\(D\\)) and the potential outcomes (\\(Y(0)\\) for non-smoking and \\(Y(1)\\) for smoking) given a covariate (\\(X\\), which is age in this context). In formal terms, the assumption \\( (Y(0), Y(1)) \\perp D \\mid X \\) means that once we control for age, the potential outcomes of an individual's expected years remaining are independent of whether they are a smoker or a non-smoker. This is a statement about the unconfoundedness or ignorability of the treatment assignment given age.\n",
    "\n",
    "In simpler terms, this assumption implies that within groups of individuals of the same age, whether an individual chooses to smoke or not is as good as randomly assigned with respect to their potential outcomes in terms of expected years remaining. This means that any difference in outcomes within these age groups can be causally attributed to the effect of smoking, rather than being confounded by age.\n",
    "\n",
    "In the context of health data and smoking, this assumption might be challenging to justify for several reasons:\n",
    "\n",
    "1. **Other Confounding Variables**: There are likely other variables besides age that influence both the likelihood of an individual being a smoker and their expected life years. These can include factors like socioeconomic status, genetic predispositions, lifestyle choices besides smoking (e.g., diet, physical activity), environmental exposures, and more.\n",
    "2. **Self-selection**: Individuals do not randomly decide to smoke or not; this decision can be influenced by various unmeasured factors that might also affect their health outcomes.\n",
    "\n",
    "However, for the purpose of analysis and following the assumption as true, Rosenbaum and Rubin's result introduces the concept of the propensity score, \\(P=E[D \\mid X]\\), which is the probability of being treated (smoking, in this case) conditional on covariates (age). The statement \\((Y(0), Y(1)) \\perp D \\mid P\\) implies that conditional on the propensity score, the potential outcomes are independent of the treatment assignment. This essentially means that if we can match individuals on their propensity score, we can account for all observed confounding influenced by age, thus making the groups (smokers and non-smokers) comparable in terms of their potential outcomes.\n",
    "\n",
    "The propensity score condenses all the relevant information contained in the covariates (age, in this case) that predict treatment assignment into a single scalar, facilitating the control of confounding in observational studies. It's a powerful tool for causal inference, allowing for the estimation of treatment effects even in the presence of confounding variables, under the assumption that all relevant confounders are measured and included in the model to estimate the propensity score.\n"
   ]
  },
  {
   "cell_type": "markdown",
   "id": "cf9220ce-35b3-4afa-925b-c80af4fc7a55",
   "metadata": {},
   "source": [
    "### 3.2.d"
   ]
  },
  {
   "cell_type": "markdown",
   "id": "dd01175e-f219-4d5c-817d-603860c656d8",
   "metadata": {},
   "source": [
    "#### 3.2.d.i"
   ]
  },
  {
   "cell_type": "code",
   "execution_count": 3,
   "id": "9b33119a-398f-4c08-bc1d-f1284144338f",
   "metadata": {},
   "outputs": [],
   "source": [
    "from sklearn.preprocessing import PolynomialFeatures\n",
    "from sklearn.linear_model import LinearRegression\n",
    "import numpy as np\n",
    "\n",
    "# Prepare the data\n",
    "X_smokers = data[data['smoking'] == 1]['age'].values.reshape(-1, 1)\n",
    "X_nonsmokers = data[data['smoking'] == 0]['age'].values.reshape(-1, 1)\n",
    "y_smokers = data[data['smoking'] == 1]['exyr']\n",
    "y_nonsmokers = data[data['smoking'] == 0]['exyr']\n",
    "\n",
    "# Polynomial features\n",
    "poly = PolynomialFeatures(degree=3)\n",
    "\n",
    "# Smokers\n",
    "X_smokers_poly = poly.fit_transform(X_smokers)\n",
    "model_smokers = LinearRegression().fit(X_smokers_poly, y_smokers)\n",
    "\n",
    "# Non-smokers\n",
    "X_nonsmokers_poly = poly.fit_transform(X_nonsmokers)\n",
    "model_nonsmokers = LinearRegression().fit(X_nonsmokers_poly, y_nonsmokers)\n"
   ]
  },
  {
   "cell_type": "markdown",
   "id": "8cd0bcaa-c83b-4c03-bdb5-ab2184898a39",
   "metadata": {},
   "source": [
    "#### 3.2.d.ii"
   ]
  },
  {
   "cell_type": "code",
   "execution_count": 4,
   "id": "64890c2c-4771-496d-9385-734c4ca2df40",
   "metadata": {},
   "outputs": [
    {
     "data": {
      "image/png": "[encoded data removed]",
      "text/plain": [
       "<Figure size 1000x600 with 1 Axes>"
      ]
     },
     "metadata": {},
     "output_type": "display_data"
    }
   ],
   "source": [
    "import matplotlib.pyplot as plt\n",
    "\n",
    "# Generate a range of ages\n",
    "ages = np.linspace(data['age'].min(), data['age'].max(), 100).reshape(-1, 1)\n",
    "ages_poly = poly.transform(ages)\n",
    "\n",
    "# Predict using the models\n",
    "y_pred_smokers = model_smokers.predict(ages_poly)\n",
    "y_pred_nonsmokers = model_nonsmokers.predict(ages_poly)\n",
    "\n",
    "# Calculate CATE\n",
    "cate = y_pred_smokers - y_pred_nonsmokers\n",
    "\n",
    "# Plot\n",
    "plt.figure(figsize=(10, 6))\n",
    "plt.plot(ages, cate, label='CATE')\n",
    "plt.xlabel('Age')\n",
    "plt.ylabel('Conditional Average Treatment Effect')\n",
    "plt.title('CATE as a Function of Age')\n",
    "plt.legend()\n",
    "plt.show()\n"
   ]
  },
  {
   "cell_type": "markdown",
   "id": "f435a0bd-2de3-43ae-9166-3ef2f7c53dd9",
   "metadata": {},
   "source": [
    "The plot of the Conditional Average Treatment Effect (CATE) as a function of age illustrates how the effect of smoking on expected years remaining varies across different ages. The line represents the difference in predicted life expectancy between smokers and non-smokers at various ages, based on a polynomial regression model of degree 3.\n",
    "\n",
    "- **Treatment Effect**: If the CATE line is above zero at certain ages, it suggests that smoking is associated with an increase in expected years remaining at those ages, according to the model. Conversely, if the line is below zero, it implies a negative effect of smoking on life expectancy at those ages.\n",
    "- **Heterogeneity of Treatment Effect**: The variation in the CATE across ages indicates heterogeneity in the treatment effect of smoking. This means the impact of smoking on life expectancy is not uniform across all ages; it may vary significantly depending on how old the individual is.\n",
    "- **Interpretation of Treatment Effect Heterogeneity**: The observed heterogeneity could reflect biological, behavioral, or social mechanisms that make the health impact of smoking more or less severe at different life stages. For example, the cumulative effect of smoking might not manifest uniformly across all ages, or younger individuals might have a different physiological response to smoking compared to older individuals.\n"
   ]
  },
  {
   "cell_type": "markdown",
   "id": "a164cec2-f482-4a59-a699-68265c62b23b",
   "metadata": {},
   "source": [
    "#### 3.2.d.iii"
   ]
  },
  {
   "cell_type": "code",
   "execution_count": 5,
   "id": "a3fdf9bc-6b31-46e3-a4c2-7e578fa98acc",
   "metadata": {},
   "outputs": [
    {
     "name": "stdout",
     "output_type": "stream",
     "text": [
      "Estimated ATE: -0.04819040427789073\n"
     ]
    }
   ],
   "source": [
    "import pandas as pd\n",
    "import numpy as np\n",
    "from sklearn.preprocessing import PolynomialFeatures\n",
    "from sklearn.linear_model import LinearRegression\n",
    "\n",
    "\n",
    "X_smokers = data[data['smoking'] == 1]['age'].values.reshape(-1, 1)\n",
    "X_nonsmokers = data[data['smoking'] == 0]['age'].values.reshape(-1, 1)\n",
    "y_smokers = data[data['smoking'] == 1]['exyr']\n",
    "y_nonsmokers = data[data['smoking'] == 0]['exyr']\n",
    "\n",
    "# Polynomial transformation\n",
    "poly = PolynomialFeatures(degree=3)\n",
    "X_smokers_poly = poly.fit_transform(X_smokers)\n",
    "model_smokers = LinearRegression().fit(X_smokers_poly, y_smokers)\n",
    "\n",
    "X_nonsmokers_poly = poly.fit_transform(X_nonsmokers)\n",
    "model_nonsmokers = LinearRegression().fit(X_nonsmokers_poly, y_nonsmokers)\n",
    "\n",
    "# Define the kernel density estimation function with bandwidth h\n",
    "def kde(a, ages, h=5):\n",
    "    n = ages.size\n",
    "    return (1/n) * np.sum(np.exp(-(a - ages)**2 / (2 * h**2)) / (h * np.sqrt(2 * np.pi)))\n",
    "\n",
    "# Generate ages over the support of age in the population\n",
    "a_j = np.linspace(data['age'].min(), data['age'].max(), 100)\n",
    "p_hat = np.array([kde(a, data['age'], h=5) for a in a_j])\n",
    "\n",
    "# Recalculate the predictions for smokers and non-smokers across the age range\n",
    "X_a_j_poly = poly.transform(a_j.reshape(-1, 1))\n",
    "f_1_a_j = model_smokers.predict(X_a_j_poly)\n",
    "f_0_a_j = model_nonsmokers.predict(X_a_j_poly)\n",
    "\n",
    "# Compute the ATE using the approximation\n",
    "ate = np.sum((f_1_a_j - f_0_a_j) * p_hat) / len(a_j)\n",
    "\n",
    "print(f\"Estimated ATE: {ate}\")\n"
   ]
  },
  {
   "cell_type": "markdown",
   "id": "f2acc35a-41ce-408f-bfd9-7eef3e178acc",
   "metadata": {},
   "source": [
    "The estimated Average Treatment Effect (ATE) from part iii, approximately \\(-0.048\\), represents the average effect of smoking on the expected years remaining across the entire age distribution within the dataset, based on a kernel density estimation approach with a bandwidth of \\(h=5\\).\n",
    "\n",
    "- **Negative ATE**: The negative value of the ATE suggests that, on average, smoking is associated with a slight decrease in the expected years remaining. This implies that, when considering the entire population in the dataset and averaging the effects across all ages, smoking has a detrimental impact on life expectancy.\n",
    "- **Magnitude of the Effect**: The magnitude of the effect (\\(-0.048\\)) is relatively small. This could indicate that while smoking has a negative impact on life expectancy, the effect size estimated by this model and method is modest. It's important to note that this estimate is conditional on the model assumptions and the method used for estimation.\n",
    "- **Use of Kernel Density Estimation**: The approach used for estimating the ATE incorporates a kernel density estimate of age to weight the contribution of each age to the overall average. This method attempts to account for the distribution of ages in the dataset, providing a more nuanced estimate of the ATE that reflects the age composition of the population.\n",
    "- **Implications for Public Understanding**: Presenting a single number like the ATE to the public, as requested by The New Haven Times, simplifies the complex relationship between smoking, age, and life expectancy. While it offers a concise summary, it masks the heterogeneity and the varying impacts at different ages highlighted by the CATE analysis.\n",
    "\n",
    "### Caveats:\n",
    "\n",
    "- **Simplification**: The ATE provides a simplified summary of the effect of smoking across all ages, which can be useful for communication purposes but might oversimplify the nuanced reality.\n",
    "- **Model Dependence**: The estimate is dependent on the accuracy and appropriateness of the model used, including the polynomial degree selected for age and the bandwidth chosen for the kernel density estimate.\n",
    "- **Confounding and Bias**: As with any observational study analysis, there's a potential for confounding and bias that might influence the estimated ATE. The estimate assumes that all relevant variables are accounted for in the model, which may not be the case.\n",
    "\n",
    "In conclusion, the ATE estimation offers a valuable summary metric for the impact of smoking on life expectancy, indicating a slight overall negative effect. However, it's crucial to remember that this single number abstracts from the detailed and varied picture captured by more comprehensive analyses, such as the CATE across different ages."
   ]
  },
  {
   "cell_type": "markdown",
   "id": "152e31cb-55ff-4a3e-9033-35d74bd2ea16",
   "metadata": {},
   "source": [
    "### 3.2.e"
   ]
  },
  {
   "cell_type": "markdown",
   "id": "ff28c2f2-4ae1-49e1-83ad-b89e27bb4588",
   "metadata": {},
   "source": [
    "#### 3.2.e.i"
   ]
  },
  {
   "cell_type": "code",
   "execution_count": 6,
   "id": "fa08b76c-0126-4961-821f-3b4a2d5b1f91",
   "metadata": {},
   "outputs": [
    {
     "data": {
      "image/png": "[encoded data removed]",
      "text/plain": [
       "<Figure size 1000x600 with 1 Axes>"
      ]
     },
     "metadata": {},
     "output_type": "display_data"
    }
   ],
   "source": [
    "from sklearn.preprocessing import PolynomialFeatures\n",
    "from sklearn.linear_model import LogisticRegression\n",
    "import matplotlib.pyplot as plt\n",
    "import numpy as np\n",
    "import pandas as pd\n",
    "\n",
    "# Prepare the third-degree polynomial features of age\n",
    "poly = PolynomialFeatures(degree=3)\n",
    "X_age_poly = poly.fit_transform(data['age'].values.reshape(-1, 1))\n",
    "D = data['smoking']\n",
    "\n",
    "# Fit a logistic regression model for propensity score estimation\n",
    "logistic_model = LogisticRegression(max_iter=1000)\n",
    "logistic_model.fit(X_age_poly, D)\n",
    "\n",
    "# Predict the propensity scores\n",
    "propensity_scores = logistic_model.predict_proba(X_age_poly)[:, 1]\n",
    "\n",
    "# Plot the propensity scores as a function of age\n",
    "plt.figure(figsize=(10, 6))\n",
    "plt.scatter(data['age'], propensity_scores, alpha=0.2)\n",
    "plt.xlabel('Age')\n",
    "plt.ylabel('Propensity Score')\n",
    "plt.title('Propensity Score as a Function of Age')\n",
    "plt.show()"
   ]
  },
  {
   "cell_type": "markdown",
   "id": "8fa87f9c-f211-4aa1-b4cf-51fef187c6a5",
   "metadata": {},
   "source": [
    "The plot shows the propensity score, which represents the conditional probability of an individual being a smoker given their age, approximated using a third-degree polynomial model. The propensity scores vary across different ages, indicating how the likelihood of smoking changes with age.\n",
    "\n",
    "- **Variation in Propensity Score**: The plot reveals that the propensity to smoke is not uniform across ages, suggesting that certain age groups are more likely to smoke than others. This variation could reflect demographic, social, or health-related trends that influence smoking behavior.\n",
    "- **Use of Third-Degree Polynomial**: The model captures non-linear relationships between age and the likelihood of smoking, allowing for a more nuanced understanding of how smoking propensity changes with age.\n"
   ]
  },
  {
   "cell_type": "markdown",
   "id": "2bfe1aee-8a2a-42d0-b2ed-63ae2889210f",
   "metadata": {},
   "source": [
    "#### 3.2.e.ii"
   ]
  },
  {
   "cell_type": "code",
   "execution_count": 7,
   "id": "0533a9fe-c249-40af-b0f6-0d4a523ff11d",
   "metadata": {},
   "outputs": [
    {
     "name": "stdout",
     "output_type": "stream",
     "text": [
      "Intercept: 6.063699533633216, Coefficient for D (smoking): -3.5501144950946353, Coefficient for P (propensity score): 114.09683841956625\n"
     ]
    }
   ],
   "source": [
    "from sklearn.linear_model import LinearRegression\n",
    "\n",
    "# Prepare the data with propensity scores as an additional covariate\n",
    "X_with_p = np.hstack([D.values.reshape(-1, 1), propensity_scores.reshape(-1, 1)])\n",
    "Y = data['exyr'].values\n",
    "\n",
    "# Fit a linear regression model to estimate the effect of D on Y, controlling for P\n",
    "model_with_p = LinearRegression().fit(X_with_p, Y)\n",
    "\n",
    "# Extract the coefficients \n",
    "intercept, coef_D, coef_P = model_with_p.intercept_, model_with_p.coef_[0], model_with_p.coef_[1]\n",
    "\n",
    "print(f\"Intercept: {intercept}, Coefficient for D (smoking): {coef_D}, Coefficient for P (propensity score): {coef_P}\")\n"
   ]
  },
  {
   "cell_type": "markdown",
   "id": "7031b2b0-fd44-44f0-b059-0ea489f35fe1",
   "metadata": {},
   "source": [
    "When replacing age (\\(X\\)) with the propensity score (\\(P\\)) in the analysis:\n",
    "\n",
    "- **Differences Observed**: The use of propensity scores aims to control for confounding by summarizing all observed covariates (in this case, age) that influence treatment assignment into a single metric. This can potentially provide a clearer insight into the causal effect of smoking by balancing the observed covariates across treatment groups.\n",
    "- **Preference**: The preference between using \\(X\\) directly or the propensity score (\\(P\\)) depends on the analysis's context and objectives. The propensity score approach is particularly beneficial when there are multiple covariates to control for, as it simplifies the control of confounding into a single dimension. However, it requires careful consideration of the model used for the propensity score estimation and how well it captures the treatment assignment mechanism.\n",
    "- **Impact of Multiple \\(X\\)'s**: With multiple covariates (\\(X\\)'s), the propensity score becomes even more valuable as it compresses all the covariates' confounding effects into a single score, simplifying the analysis and potentially reducing the dimensionality bias.\n",
    "\n",
    "- **Intercept (6.06)**: This value represents the expected value of the dependent variable (expected years remaining, \\(Y\\)) when both the smoking status (\\(D\\)) and the propensity score (\\(P\\)) are 0. Given the nature of the variables, especially the propensity score, this interpretation is more theoretical than practical, as \\(P\\) cannot be 0 in the context of this analysis.\n",
    "  \n",
    "- **Coefficient for \\(D\\) (smoking) (-3.55)**: This coefficient indicates that, controlling for the propensity score (\\(P\\)), being a smoker is associated with a decrease of approximately 3.55 years in the expected years remaining compared to non-smokers. This is a substantial negative impact, highlighting the detrimental effect of smoking on life expectancy in the dataset, after adjusting for the likelihood of being a smoker as captured by the propensity score.\n",
    "\n",
    "- **Coefficient for \\(P\\) (propensity score) (114.10)**: This large positive coefficient suggests that as the propensity to smoke increases (which is modeled as a function of age in this case), the expected years remaining increases significantly. This result might seem counterintuitive at first, especially considering the negative connotations associated with smoking. However, it reflects the complex relationship encoded in the propensity score, which captures not just the direct effect of age but also the modeled likelihood of smoking. The positive sign could be indicative of underlying patterns in the data where age, or factors associated with a higher propensity to smoke, are positively correlated with longer life expectancy, when controlling for actual smoking behavior.\n"
   ]
  },
  {
   "cell_type": "markdown",
   "id": "573deecd-35d2-43ca-a10e-ee94cc118370",
   "metadata": {},
   "source": [
    "#### 3.2.e.iii"
   ]
  },
  {
   "cell_type": "code",
   "execution_count": 8,
   "id": "1159a0a1-b3f6-4922-b797-f8efdd0513f0",
   "metadata": {},
   "outputs": [
    {
     "name": "stdout",
     "output_type": "stream",
     "text": [
      "Estimated ATE from matching: -3.6836797551246296\n"
     ]
    }
   ],
   "source": [
    "from scipy.spatial import cKDTree\n",
    "import numpy as np\n",
    "\n",
    "# Separate datasets for smokers and non-smokers\n",
    "smokers = data[data['smoking'] == 1]\n",
    "nonsmokers = data[data['smoking'] == 0]\n",
    "\n",
    "# Use cKDTree for fast nearest neighbor search based on age\n",
    "tree = cKDTree(nonsmokers[['age']].values)\n",
    "\n",
    "# Find the closest non-smoker in age for each smoker\n",
    "distances, indices = tree.query(smokers[['age']].values, k=1)\n",
    "\n",
    "# Calculate the difference in expected years remaining for matched pairs\n",
    "matched_diffs = smokers['exyr'].values - nonsmokers.iloc[indices]['exyr'].values\n",
    "\n",
    "# Compute the ATE as the average of these differences\n",
    "ate_matching = np.mean(matched_diffs)\n",
    "\n",
    "print(f\"Estimated ATE from matching: {ate_matching}\")"
   ]
  },
  {
   "cell_type": "markdown",
   "id": "521fd6e4-9148-4082-aa30-3cb525387da9",
   "metadata": {},
   "source": [
    "The Average Treatment Effect (ATE) estimated through the matching approach, comparing each smoking individual to the closest (in age) non-smoking individual, is approximately \\(-3.68\\). This suggests that, on average, smoking is associated with a decrease of about 3.68 years in the expected remaining life years, based on this specific age-matched comparison.\n",
    "\n",
    "Matching each smoking individual to the closest (in age) non-smoking individual to approximate the CATE for specific ages involves a direct comparison that doesn't rely on modeling assumptions to the same extent. This can provide a more intuitive and direct method of estimating the causal effect of smoking on life expectancy.\n",
    "\n",
    "- **Differences Noticed**: This matching approach might yield different insights compared to regression-based methods because it directly compares individuals who are similar in age but differ in their smoking status. It can potentially reveal more localized treatment effects but might be more sensitive to the availability and selection of match pairs.\n",
    "- **Preference**: The preference between regression-based control for propensity scores and direct matching can depend on the research question, the distribution of covariates, and the treatment variable in the population. Matching is appealing for its simplicity and directness but may not always be practical or sufficient when there are multiple relevant covariates or when exact matches are hard to find.\n",
    "- **Comparison and Choice**: While matching provides a clear and straightforward way to estimate causal effects, its effectiveness relies heavily on the ability to find close matches for all treated individuals, which can be challenging in heterogeneous populations or when considering multiple covariates. Regression methods that control for propensity scores offer a more flexible and comprehensive way to adjust for confounders, especially in more complex scenarios.\n",
    "\n"
   ]
  },
  {
   "cell_type": "markdown",
   "id": "49d245f1-bf7a-4f28-88fb-b7252f4958dd",
   "metadata": {},
   "source": [
    "## problem 4"
   ]
  }
 ],
 "metadata": {
  "kernelspec": {
   "display_name": "Python 3 (ipykernel)",
   "language": "python",
   "name": "python3"
  },
  "language_info": {
   "codemirror_mode": {
    "name": "ipython",
    "version": 3
   },
   "file_extension": ".py",
   "mimetype": "text/x-python",
   "name": "python",
   "nbconvert_exporter": "python",
   "pygments_lexer": "ipython3",
   "version": "3.11.5"
  }
 },
 "nbformat": 4,
 "nbformat_minor": 5
}
