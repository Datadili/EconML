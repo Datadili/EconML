{
 "cells": [
  {
   "cell_type": "markdown",
   "id": "74e7af3a-2b1d-46c7-a7a5-9347ebaa936c",
   "metadata": {},
   "source": [
    "### problem 1"
   ]
  },
  {
   "cell_type": "markdown",
   "id": "d058df15-c31e-4ba6-a944-ff3c3397dfcd",
   "metadata": {},
   "source": [
    "### problem 2"
   ]
  },
  {
   "cell_type": "markdown",
   "id": "e015937b-e0d3-41ff-a876-5029cc757bed",
   "metadata": {},
   "source": [
    "### problem 3"
   ]
  },
  {
   "cell_type": "markdown",
   "id": "49d245f1-bf7a-4f28-88fb-b7252f4958dd",
   "metadata": {},
   "source": [
    "### problem 4"
   ]
  }
 ],
 "metadata": {
  "kernelspec": {
   "display_name": "Python 3 (ipykernel)",
   "language": "python",
   "name": "python3"
  },
  "language_info": {
   "codemirror_mode": {
    "name": "ipython",
    "version": 3
   },
   "file_extension": ".py",
   "mimetype": "text/x-python",
   "name": "python",
   "nbconvert_exporter": "python",
   "pygments_lexer": "ipython3",
   "version": "3.10.8"
  }
 },
 "nbformat": 4,
 "nbformat_minor": 5
}
