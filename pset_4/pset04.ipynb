{
 "cells": [
  {
   "cell_type": "markdown",
   "id": "3949b79e-fc73-4639-b62c-4e23d4b25a04",
   "metadata": {},
   "source": [
    "# econ566 - pset04 - Dili Maduabum, Joshua Bailey"
   ]
  },
  {
   "cell_type": "markdown",
   "id": "74e7af3a-2b1d-46c7-a7a5-9347ebaa936c",
   "metadata": {},
   "source": [
    "## problem 1"
   ]
  },
  {
   "cell_type": "code",
   "execution_count": 3,
   "id": "6e2f2247",
   "metadata": {},
   "outputs": [
    {
     "data": {
      "text/html": [
       "<div>\n",
       "<style scoped>\n",
       "    .dataframe tbody tr th:only-of-type {\n",
       "        vertical-align: middle;\n",
       "    }\n",
       "\n",
       "    .dataframe tbody tr th {\n",
       "        vertical-align: top;\n",
       "    }\n",
       "\n",
       "    .dataframe thead th {\n",
       "        text-align: right;\n",
       "    }\n",
       "</style>\n",
       "<table border=\"1\" class=\"dataframe\">\n",
       "  <thead>\n",
       "    <tr style=\"text-align: right;\">\n",
       "      <th></th>\n",
       "      <th>Unnamed: 0</th>\n",
       "      <th>y</th>\n",
       "      <th>x1</th>\n",
       "      <th>x2</th>\n",
       "      <th>x3</th>\n",
       "      <th>x4</th>\n",
       "      <th>x5</th>\n",
       "      <th>x6</th>\n",
       "      <th>x7</th>\n",
       "      <th>x8</th>\n",
       "      <th>...</th>\n",
       "      <th>x11</th>\n",
       "      <th>x12</th>\n",
       "      <th>x13</th>\n",
       "      <th>x14</th>\n",
       "      <th>x15</th>\n",
       "      <th>x16</th>\n",
       "      <th>x17</th>\n",
       "      <th>x18</th>\n",
       "      <th>x19</th>\n",
       "      <th>x20</th>\n",
       "    </tr>\n",
       "  </thead>\n",
       "  <tbody>\n",
       "    <tr>\n",
       "      <th>0</th>\n",
       "      <td>1</td>\n",
       "      <td>3.866695</td>\n",
       "      <td>-0.626454</td>\n",
       "      <td>-0.804332</td>\n",
       "      <td>0.235349</td>\n",
       "      <td>0.617922</td>\n",
       "      <td>-0.221257</td>\n",
       "      <td>0.525891</td>\n",
       "      <td>0.341334</td>\n",
       "      <td>-1.002036</td>\n",
       "      <td>...</td>\n",
       "      <td>0.791442</td>\n",
       "      <td>0.014572</td>\n",
       "      <td>0.866364</td>\n",
       "      <td>-0.160443</td>\n",
       "      <td>0.249371</td>\n",
       "      <td>-1.252015</td>\n",
       "      <td>2.315093</td>\n",
       "      <td>0.441441</td>\n",
       "      <td>0.824856</td>\n",
       "      <td>1.370865</td>\n",
       "    </tr>\n",
       "    <tr>\n",
       "      <th>1</th>\n",
       "      <td>2</td>\n",
       "      <td>14.616419</td>\n",
       "      <td>0.183643</td>\n",
       "      <td>-1.056526</td>\n",
       "      <td>0.244825</td>\n",
       "      <td>0.893506</td>\n",
       "      <td>0.351793</td>\n",
       "      <td>-0.487544</td>\n",
       "      <td>0.413666</td>\n",
       "      <td>0.025908</td>\n",
       "      <td>...</td>\n",
       "      <td>0.392168</td>\n",
       "      <td>1.785404</td>\n",
       "      <td>-0.947695</td>\n",
       "      <td>-0.924185</td>\n",
       "      <td>-0.335347</td>\n",
       "      <td>-0.335131</td>\n",
       "      <td>1.060380</td>\n",
       "      <td>0.413086</td>\n",
       "      <td>0.744021</td>\n",
       "      <td>0.545696</td>\n",
       "    </tr>\n",
       "    <tr>\n",
       "      <th>2</th>\n",
       "      <td>3</td>\n",
       "      <td>10.061252</td>\n",
       "      <td>-0.835629</td>\n",
       "      <td>-1.035396</td>\n",
       "      <td>-0.642187</td>\n",
       "      <td>-0.427756</td>\n",
       "      <td>0.160602</td>\n",
       "      <td>1.138251</td>\n",
       "      <td>0.122036</td>\n",
       "      <td>-0.448142</td>\n",
       "      <td>...</td>\n",
       "      <td>-0.472667</td>\n",
       "      <td>0.000300</td>\n",
       "      <td>0.452243</td>\n",
       "      <td>-1.556175</td>\n",
       "      <td>0.004405</td>\n",
       "      <td>0.108068</td>\n",
       "      <td>-0.397067</td>\n",
       "      <td>0.866078</td>\n",
       "      <td>-0.690097</td>\n",
       "      <td>-1.624463</td>\n",
       "    </tr>\n",
       "    <tr>\n",
       "      <th>3</th>\n",
       "      <td>4</td>\n",
       "      <td>17.490807</td>\n",
       "      <td>1.595281</td>\n",
       "      <td>-1.185560</td>\n",
       "      <td>-1.934809</td>\n",
       "      <td>-0.299901</td>\n",
       "      <td>-0.124052</td>\n",
       "      <td>1.215134</td>\n",
       "      <td>-1.589381</td>\n",
       "      <td>0.843233</td>\n",
       "      <td>...</td>\n",
       "      <td>-0.457952</td>\n",
       "      <td>0.435695</td>\n",
       "      <td>0.278241</td>\n",
       "      <td>0.881220</td>\n",
       "      <td>0.986768</td>\n",
       "      <td>-0.471705</td>\n",
       "      <td>0.484003</td>\n",
       "      <td>-2.261571</td>\n",
       "      <td>1.769007</td>\n",
       "      <td>-0.062473</td>\n",
       "    </tr>\n",
       "    <tr>\n",
       "      <th>4</th>\n",
       "      <td>5</td>\n",
       "      <td>14.639634</td>\n",
       "      <td>0.329508</td>\n",
       "      <td>-0.500440</td>\n",
       "      <td>1.038696</td>\n",
       "      <td>-0.531983</td>\n",
       "      <td>0.659874</td>\n",
       "      <td>-0.424831</td>\n",
       "      <td>-0.787439</td>\n",
       "      <td>-0.218463</td>\n",
       "      <td>...</td>\n",
       "      <td>-0.168132</td>\n",
       "      <td>-1.407645</td>\n",
       "      <td>1.417595</td>\n",
       "      <td>-0.526359</td>\n",
       "      <td>0.543576</td>\n",
       "      <td>2.507061</td>\n",
       "      <td>-1.358415</td>\n",
       "      <td>-0.178702</td>\n",
       "      <td>-0.552156</td>\n",
       "      <td>0.570213</td>\n",
       "    </tr>\n",
       "  </tbody>\n",
       "</table>\n",
       "<p>5 rows × 22 columns</p>\n",
       "</div>"
      ],
      "text/plain": [
       "   Unnamed: 0          y        x1        x2        x3        x4        x5  \\\n",
       "0           1   3.866695 -0.626454 -0.804332  0.235349  0.617922 -0.221257   \n",
       "1           2  14.616419  0.183643 -1.056526  0.244825  0.893506  0.351793   \n",
       "2           3  10.061252 -0.835629 -1.035396 -0.642187 -0.427756  0.160602   \n",
       "3           4  17.490807  1.595281 -1.185560 -1.934809 -0.299901 -0.124052   \n",
       "4           5  14.639634  0.329508 -0.500440  1.038696 -0.531983  0.659874   \n",
       "\n",
       "         x6        x7        x8  ...       x11       x12       x13       x14  \\\n",
       "0  0.525891  0.341334 -1.002036  ...  0.791442  0.014572  0.866364 -0.160443   \n",
       "1 -0.487544  0.413666  0.025908  ...  0.392168  1.785404 -0.947695 -0.924185   \n",
       "2  1.138251  0.122036 -0.448142  ... -0.472667  0.000300  0.452243 -1.556175   \n",
       "3  1.215134 -1.589381  0.843233  ... -0.457952  0.435695  0.278241  0.881220   \n",
       "4 -0.424831 -0.787439 -0.218463  ... -0.168132 -1.407645  1.417595 -0.526359   \n",
       "\n",
       "        x15       x16       x17       x18       x19       x20  \n",
       "0  0.249371 -1.252015  2.315093  0.441441  0.824856  1.370865  \n",
       "1 -0.335347 -0.335131  1.060380  0.413086  0.744021  0.545696  \n",
       "2  0.004405  0.108068 -0.397067  0.866078 -0.690097 -1.624463  \n",
       "3  0.986768 -0.471705  0.484003 -2.261571  1.769007 -0.062473  \n",
       "4  0.543576  2.507061 -1.358415 -0.178702 -0.552156  0.570213  \n",
       "\n",
       "[5 rows x 22 columns]"
      ]
     },
     "execution_count": 3,
     "metadata": {},
     "output_type": "execute_result"
    }
   ],
   "source": [
    "import pandas as pd\n",
    "import numpy as np\n",
    "reg = pd.read_csv(\"reg.csv\")\n",
    "\n",
    "reg.head()"
   ]
  },
  {
   "cell_type": "code",
   "execution_count": 4,
   "id": "f8b38c06",
   "metadata": {},
   "outputs": [
    {
     "data": {
      "text/html": [
       "<div>\n",
       "<style scoped>\n",
       "    .dataframe tbody tr th:only-of-type {\n",
       "        vertical-align: middle;\n",
       "    }\n",
       "\n",
       "    .dataframe tbody tr th {\n",
       "        vertical-align: top;\n",
       "    }\n",
       "\n",
       "    .dataframe thead th {\n",
       "        text-align: right;\n",
       "    }\n",
       "</style>\n",
       "<table border=\"1\" class=\"dataframe\">\n",
       "  <thead>\n",
       "    <tr style=\"text-align: right;\">\n",
       "      <th></th>\n",
       "      <th>Unnamed: 0</th>\n",
       "      <th>y</th>\n",
       "      <th>ones</th>\n",
       "      <th>x1</th>\n",
       "      <th>x2</th>\n",
       "      <th>x3</th>\n",
       "      <th>x4</th>\n",
       "      <th>x5</th>\n",
       "      <th>x6</th>\n",
       "      <th>x7</th>\n",
       "      <th>...</th>\n",
       "      <th>x11</th>\n",
       "      <th>x12</th>\n",
       "      <th>x13</th>\n",
       "      <th>x14</th>\n",
       "      <th>x15</th>\n",
       "      <th>x16</th>\n",
       "      <th>x17</th>\n",
       "      <th>x18</th>\n",
       "      <th>x19</th>\n",
       "      <th>x20</th>\n",
       "    </tr>\n",
       "  </thead>\n",
       "  <tbody>\n",
       "    <tr>\n",
       "      <th>0</th>\n",
       "      <td>1</td>\n",
       "      <td>3.866695</td>\n",
       "      <td>1.0</td>\n",
       "      <td>-0.626454</td>\n",
       "      <td>-0.804332</td>\n",
       "      <td>0.235349</td>\n",
       "      <td>0.617922</td>\n",
       "      <td>-0.221257</td>\n",
       "      <td>0.525891</td>\n",
       "      <td>0.341334</td>\n",
       "      <td>...</td>\n",
       "      <td>0.791442</td>\n",
       "      <td>0.014572</td>\n",
       "      <td>0.866364</td>\n",
       "      <td>-0.160443</td>\n",
       "      <td>0.249371</td>\n",
       "      <td>-1.252015</td>\n",
       "      <td>2.315093</td>\n",
       "      <td>0.441441</td>\n",
       "      <td>0.824856</td>\n",
       "      <td>1.370865</td>\n",
       "    </tr>\n",
       "    <tr>\n",
       "      <th>1</th>\n",
       "      <td>2</td>\n",
       "      <td>14.616419</td>\n",
       "      <td>1.0</td>\n",
       "      <td>0.183643</td>\n",
       "      <td>-1.056526</td>\n",
       "      <td>0.244825</td>\n",
       "      <td>0.893506</td>\n",
       "      <td>0.351793</td>\n",
       "      <td>-0.487544</td>\n",
       "      <td>0.413666</td>\n",
       "      <td>...</td>\n",
       "      <td>0.392168</td>\n",
       "      <td>1.785404</td>\n",
       "      <td>-0.947695</td>\n",
       "      <td>-0.924185</td>\n",
       "      <td>-0.335347</td>\n",
       "      <td>-0.335131</td>\n",
       "      <td>1.060380</td>\n",
       "      <td>0.413086</td>\n",
       "      <td>0.744021</td>\n",
       "      <td>0.545696</td>\n",
       "    </tr>\n",
       "    <tr>\n",
       "      <th>2</th>\n",
       "      <td>3</td>\n",
       "      <td>10.061252</td>\n",
       "      <td>1.0</td>\n",
       "      <td>-0.835629</td>\n",
       "      <td>-1.035396</td>\n",
       "      <td>-0.642187</td>\n",
       "      <td>-0.427756</td>\n",
       "      <td>0.160602</td>\n",
       "      <td>1.138251</td>\n",
       "      <td>0.122036</td>\n",
       "      <td>...</td>\n",
       "      <td>-0.472667</td>\n",
       "      <td>0.000300</td>\n",
       "      <td>0.452243</td>\n",
       "      <td>-1.556175</td>\n",
       "      <td>0.004405</td>\n",
       "      <td>0.108068</td>\n",
       "      <td>-0.397067</td>\n",
       "      <td>0.866078</td>\n",
       "      <td>-0.690097</td>\n",
       "      <td>-1.624463</td>\n",
       "    </tr>\n",
       "    <tr>\n",
       "      <th>3</th>\n",
       "      <td>4</td>\n",
       "      <td>17.490807</td>\n",
       "      <td>1.0</td>\n",
       "      <td>1.595281</td>\n",
       "      <td>-1.185560</td>\n",
       "      <td>-1.934809</td>\n",
       "      <td>-0.299901</td>\n",
       "      <td>-0.124052</td>\n",
       "      <td>1.215134</td>\n",
       "      <td>-1.589381</td>\n",
       "      <td>...</td>\n",
       "      <td>-0.457952</td>\n",
       "      <td>0.435695</td>\n",
       "      <td>0.278241</td>\n",
       "      <td>0.881220</td>\n",
       "      <td>0.986768</td>\n",
       "      <td>-0.471705</td>\n",
       "      <td>0.484003</td>\n",
       "      <td>-2.261571</td>\n",
       "      <td>1.769007</td>\n",
       "      <td>-0.062473</td>\n",
       "    </tr>\n",
       "    <tr>\n",
       "      <th>4</th>\n",
       "      <td>5</td>\n",
       "      <td>14.639634</td>\n",
       "      <td>1.0</td>\n",
       "      <td>0.329508</td>\n",
       "      <td>-0.500440</td>\n",
       "      <td>1.038696</td>\n",
       "      <td>-0.531983</td>\n",
       "      <td>0.659874</td>\n",
       "      <td>-0.424831</td>\n",
       "      <td>-0.787439</td>\n",
       "      <td>...</td>\n",
       "      <td>-0.168132</td>\n",
       "      <td>-1.407645</td>\n",
       "      <td>1.417595</td>\n",
       "      <td>-0.526359</td>\n",
       "      <td>0.543576</td>\n",
       "      <td>2.507061</td>\n",
       "      <td>-1.358415</td>\n",
       "      <td>-0.178702</td>\n",
       "      <td>-0.552156</td>\n",
       "      <td>0.570213</td>\n",
       "    </tr>\n",
       "  </tbody>\n",
       "</table>\n",
       "<p>5 rows × 23 columns</p>\n",
       "</div>"
      ],
      "text/plain": [
       "   Unnamed: 0          y  ones        x1        x2        x3        x4  \\\n",
       "0           1   3.866695   1.0 -0.626454 -0.804332  0.235349  0.617922   \n",
       "1           2  14.616419   1.0  0.183643 -1.056526  0.244825  0.893506   \n",
       "2           3  10.061252   1.0 -0.835629 -1.035396 -0.642187 -0.427756   \n",
       "3           4  17.490807   1.0  1.595281 -1.185560 -1.934809 -0.299901   \n",
       "4           5  14.639634   1.0  0.329508 -0.500440  1.038696 -0.531983   \n",
       "\n",
       "         x5        x6        x7  ...       x11       x12       x13       x14  \\\n",
       "0 -0.221257  0.525891  0.341334  ...  0.791442  0.014572  0.866364 -0.160443   \n",
       "1  0.351793 -0.487544  0.413666  ...  0.392168  1.785404 -0.947695 -0.924185   \n",
       "2  0.160602  1.138251  0.122036  ... -0.472667  0.000300  0.452243 -1.556175   \n",
       "3 -0.124052  1.215134 -1.589381  ... -0.457952  0.435695  0.278241  0.881220   \n",
       "4  0.659874 -0.424831 -0.787439  ... -0.168132 -1.407645  1.417595 -0.526359   \n",
       "\n",
       "        x15       x16       x17       x18       x19       x20  \n",
       "0  0.249371 -1.252015  2.315093  0.441441  0.824856  1.370865  \n",
       "1 -0.335347 -0.335131  1.060380  0.413086  0.744021  0.545696  \n",
       "2  0.004405  0.108068 -0.397067  0.866078 -0.690097 -1.624463  \n",
       "3  0.986768 -0.471705  0.484003 -2.261571  1.769007 -0.062473  \n",
       "4  0.543576  2.507061 -1.358415 -0.178702 -0.552156  0.570213  \n",
       "\n",
       "[5 rows x 23 columns]"
      ]
     },
     "execution_count": 4,
     "metadata": {},
     "output_type": "execute_result"
    }
   ],
   "source": [
    "#make a new dataset\n",
    "n = reg.shape[0] #shape returns dimensions, shape[0] is the rows\n",
    "reg2 = reg.copy() #making a copy to manipulate\n",
    "ones_column = np.ones((n, 1)) #10,000 by 1 column vector of ones (for the intercept)\n",
    "\n",
    "#inserting the 'ones' column at the 3rd column (index = 2), naming it ones\n",
    "reg2.insert(loc = 2, column = 'ones', value = ones_column)\n",
    "\n",
    "reg2.head()"
   ]
  },
  {
   "cell_type": "code",
   "execution_count": 9,
   "id": "1ffaff4a",
   "metadata": {},
   "outputs": [],
   "source": [
    "# subseting y and making it a column vector\n",
    "y = np.array(reg2[\"y\"]).reshape(-1, 1) \n",
    "\n",
    "#all rows, column 3 and above, including a column of ones for our intercept\n",
    "X = np.array(reg2.iloc[:, 2:])\n",
    "\n",
    "# intializing beta vector\n",
    "B_0 = np.zeros((21, 1)) #21 rows representing 21 features\n",
    "\n",
    "#training error function----------------------------------------------------\n",
    "def mse(X, y, beta):\n",
    "    \"\"\"\n",
    "    Compute the mean squared error (MSE) between predicted and true target values.\n",
    "\n",
    "    Parameters:\n",
    "    - X: Input feature matrix of shape [N, p].\n",
    "    - y: True target values of shape [N, 1].\n",
    "    - beta: Weights vector of shape [p, 1].\n",
    "\n",
    "    Returns:\n",
    "    - mse: Mean squared error between predicted and true target values.\n",
    "    \"\"\"\n",
    "    # Compute predicted target values\n",
    "    y_pred = np.dot(X, beta)\n",
    "\n",
    "    # Compute mean squared error\n",
    "    mse = np.mean((y_pred - y) ** 2)\n",
    "\n",
    "    return mse\n",
    "\n",
    "#making the gradient (derivative) of the loss function (mse)----------------------------------------------------\n",
    "def mse_gradient(X, y, beta):\n",
    "    \"\"\"\n",
    "    Compute the gradient of Mean Squared Error (MSE) with respect to weights (beta).\n",
    "\n",
    "    Given:\n",
    "    - N: number of samples\n",
    "    - X: input feature matrix of shape [N, p]\n",
    "    - y: true target values of shape [N, 1]\n",
    "    - beta: weights vector of shape [p, 1]\n",
    "\n",
    "    Computes the gradient as:\n",
    "    grad = (2 / N) * X.T * [(X * beta) - y]\n",
    "\n",
    "    Where:\n",
    "    - X.T: transpose of input feature matrix\n",
    "    - X * beta: makes predicted y values\n",
    "    - (X * beta - y): error between predicted and true target values\n",
    "    \n",
    "    returns a 21 by 1 column vector\n",
    "    \"\"\"\n",
    "    N = X.shape[0]\n",
    "    y_pred = np.dot(X, beta) \n",
    "    # X.T = 21 by 10,000 X 10,000 by 1\n",
    "    mse_grad =  (2 / N) * np.dot(X.T, y_pred - y)\n",
    "    return mse_grad \n",
    "\n",
    "# step function----------------------------------------------------\n",
    "def step_1_k(k):\n",
    "    return 1/(k+1) #to handle zero division error\n",
    " \n",
    "#gradient descent function----------------------------------------------------\n",
    "def gradient_descent(mse, mse_gradient_at_B_k, B_0, step_function, batch, X, y, epilson = 0.1, gamma = 0.9):\n",
    "    k = 0 # initial value for iteration\n",
    "    B_k = B_0 #iniitial \n",
    "    objective_function = [] #to store our mse\n",
    "    \n",
    "    #initial, random, indices, #from 0 to 9999, choose n random indices\n",
    "    inds = np.random.choice(range(n), size=batch)\n",
    "    \n",
    "    #initial norm of gradient of mse at B_k\n",
    "    grad_norm = np.linalg.norm(mse_gradient_at_B_k(X, y, B_k)) \n",
    "    \n",
    "    #while norm of the gradient is greater than epilson, update the parameter (till it is below epilson)\n",
    "    while grad_norm >= epilson:\n",
    "\n",
    "        #keeping track of the mse (training) at each iteration\n",
    "        objective_function.append(mse(X, y, B_k))\n",
    "\n",
    "        #getting the step size\n",
    "        sz = step_1_k(k)\n",
    "\n",
    "        #updating beta vector (subtracting the step size*grad_norm of the batch)\n",
    "        B_k = B_k - sz * mse_gradient_at_B_k(X[inds], y[inds], B_k)\n",
    "\n",
    "        # to count iterations it takes to converge\n",
    "        k = k + 1 \n",
    "\n",
    "        #from 0 to 9999, choose n random indices of size batch\n",
    "        inds = np.random.choice(range(n), size=batch) #choose another random indices\n",
    "        \n",
    "        #update the gradient norm\n",
    "        grad_norm = np.linalg.norm(mse_gradient_at_B_k(X, y, B_k))\n",
    "        \n",
    "    #return the optimal betas, the number of iterations, and the list of mse\n",
    "    return B_k, k, objective_function\n"
   ]
  },
  {
   "cell_type": "code",
   "execution_count": 10,
   "id": "da9453ab",
   "metadata": {
    "scrolled": false
   },
   "outputs": [
    {
     "data": {
      "image/png": "[encoded data removed]",
      "text/plain": [
       "<Figure size 1200x1000 with 4 Axes>"
      ]
     },
     "metadata": {},
     "output_type": "display_data"
    }
   ],
   "source": [
    "import matplotlib.pyplot as plt\n",
    "import math\n",
    "import time\n",
    "\n",
    "batch = [1, 10, 100, 1000]\n",
    "\n",
    "# Set a larger figure size\n",
    "plt.figure(figsize=(12, 10))\n",
    "\n",
    "for i, B in enumerate(batch, 1):\n",
    "    # Record the start time\n",
    "    start_time = time.time()\n",
    "    \n",
    "    #Takes in betas, iterations, objective functions\n",
    "    Betas, iteration, obj_func = gradient_descent(mse, mse_gradient, B_0, step_1_k, B, X, y)\n",
    "    \n",
    "    # Calculate the elapsed time\n",
    "    elapsed_time = time.time() - start_time\n",
    "    \n",
    "    # Create a new subplot\n",
    "    plt.subplot(2, 2, i)\n",
    "    \n",
    "    # Plot the (logged) mse\n",
    "    plt.plot(range(iteration), [math.log(i) for i in obj_func])\n",
    "    plt.xlabel('Iteration')\n",
    "    plt.ylabel('Log(Objective Function)')\n",
    "    plt.title(f'Batch Size: {B}, k = {iteration}, time = {round(elapsed_time, 4)} secs')\n",
    "    \n",
    "plt.tight_layout()  # Adjust layout to prevent overlapping subplots\n",
    "plt.show()"
   ]
  },
  {
   "cell_type": "markdown",
   "id": "6ba80839",
   "metadata": {},
   "source": [
    "- The objective function does not decrease at every step for B = 1000. After the 2 iteration or so, it starts to decrease.\n",
    "\n",
    "- The objective function does not decrease at every step for B = 1. We see that at the second iteration, there is sharp increase in the training error.\n",
    "\n",
    "- The times and iterations for each batch size are shown in the plot. We can see that time decreases and iteration increases as we increase the batch size"
   ]
  },
  {
   "cell_type": "markdown",
   "id": "d058df15-c31e-4ba6-a944-ff3c3397dfcd",
   "metadata": {},
   "source": [
    "## problem 2"
   ]
  },
  {
   "cell_type": "markdown",
   "id": "c8b3d1d1",
   "metadata": {},
   "source": [
    "### 2.1"
   ]
  },
  {
   "cell_type": "markdown",
   "id": "f8ddca83",
   "metadata": {},
   "source": [
    "To show that $h_{0}(\\beta)$ is not convex in $\\beta$, we need to demonstrate that there exists at least one case where the convexity condition does not hold. The convexity condition for a function $f: \\mathbb{R}^n \\rightarrow \\mathbb{R}$ is defined as:\n",
    "\n",
    "$$\n",
    "f(\\theta x + (1 - \\theta) y) \\leq \\theta f(x) + (1 - \\theta) f(y) \\quad \\text{for all } x, y \\in \\mathbb{R}^n \\text{ and } \\theta \\in [0, 1].\n",
    "$$\n",
    "\n",
    "The $L_0$ norm, $h_{0}(\\beta)$, counts the number of non-zero elements in $\\beta$, which means it's equal to the number of coefficients $\\beta_j$ that are not equal to zero.\n",
    "\n",
    "Consider two vectors $\\beta^{(1)}$ and $\\beta^{(2)}$ in $\\mathbb{R}^p$ where $\\beta^{(1)}$ has all elements equal to zero except for one, so $h_{0}(\\beta^{(1)} = 1$, and $\\beta^{(2)}$ has all elements equal to zero except for a different one, so $h_{0}(\\beta^{(2)}) = 1$ and $\\beta^{(1)}_j \\neq \\beta^{(2)}_j$ for the non-zero elements.\n",
    "\n",
    "Now, consider a convex combination of these two vectors with $\\theta = 1/2$:\n",
    "\n",
    "$$\n",
    "\\beta^{(3)} = \\frac{1}{2}\\beta^{(1)} + \\frac{1}{2}\\beta^{(2)}.\n",
    "$$\n",
    "\n",
    "Since $\\beta^{(1)}$ and $\\beta^{(2)}$ have their non-zero elements at different positions, $\\beta^{(3)}$ will have non-zero elements at both of these positions, making $h_{0}(\\beta^{(3)}) = 2$.\n",
    "\n",
    "However, for the convexity condition to hold, we need:\n",
    "\n",
    "$$\n",
    "h_{0}\\left(\\frac{1}{2}\\beta^{(1)} + \\frac{1}{2}\\beta^{(2)}\\right) \\leq \\frac{1}{2}h_{0}(\\beta^{(1)}) + \\frac{1}{2}h_{0}(\\beta^{(2)}).\n",
    "$$\n",
    "\n",
    "Substituting the values, we find:\n",
    "\n",
    "$$\n",
    "2 \\leq \\frac{1}{2}(1) + \\frac{1}{2}(1) = 1,\n",
    "$$\n",
    "\n",
    "which is a contradiction. Therefore, $h_{0}(\\beta)$ is not convex in $\\beta$."
   ]
  },
  {
   "cell_type": "markdown",
   "id": "631b9932",
   "metadata": {},
   "source": [
    "### 2.2"
   ]
  },
  {
   "cell_type": "markdown",
   "id": "c89851f9",
   "metadata": {},
   "source": [
    "To show that $h_{0}(\\beta)$, the $L_0$ norm, is not a true mathematical norm, we need to demonstrate that it violates at least one of the properties that define a norm. A function $||\\cdot||: \\mathbb{R}^n \\rightarrow \\mathbb{R}$ is a norm if it satisfies the following properties for all vectors $x, y \\in \\mathbb{R}^n$ and all scalars $\\alpha \\in \\mathbb{R}$:\n",
    "\n",
    "1. **Non-negativity**: $||x|| \\geq 0$, and $||x|| = 0$ if and only if $x = 0$.\n",
    "2. **Absolute scalability**: $||\\alpha x|| = |\\alpha| \\cdot ||x||$.\n",
    "3. **Triangle inequality**: $||x + y|| \\leq ||x|| + ||y||$.\n",
    "\n",
    "**Non-negativity**.\n",
    "$h_{0}(\\beta)$ satisfies the non-negativity property since it counts the number of non-zero elements in $\\beta$, resulting in a value that is always non-negative, and $h_{0}(\\beta) = 0$ if and only if $\\beta = 0$.\n",
    "\n",
    "**Absolute Scalability**.\n",
    "Let $\\alpha$ be a non-zero scalar and $\\beta$ a vector in $\\mathbb{R}^n$ with at least one non-zero element (so that $h_{0}(\\beta) > 0$. According to the definition of $h_{0}$, scaling $\\beta$ by $\\alpha$ does not change the number of non-zero elements in $\\beta$. Therefore, $h_{0}(\\alpha \\beta) = h_{0}(\\beta)$, which violates the absolute scalability property unless $|\\alpha| = 1$. For example, if $\\alpha = 2$, then $h_{0}(\\alpha \\beta) = h_{0}(\\beta)$ does not equal $2 \\cdot h_{0}(\\beta)$ unless $h_{0}(\\beta) = 0$.\n",
    "\n",
    "**Triangle Inequality**.\n",
    "The triangle inequality property can be challenged by selecting specific vectors $x$ and $y$ in $\\mathbb{R}^n$ such that $x$ and $y$ have non-zero elements in different positions. For instance, if $x$ has a non-zero element in position 1 and $y$ has a non-zero element in position 2 (and all other elements are zero), then $h_{0}(x) = 1$, $h_{0}(y) = 1$, and $h_{0}(x + y) = 2$, implying $h_{0}(x + y) > h_{0}(x) + h_{0}(y)$, which violates the triangle inequality.\n",
    "\n",
    "Since $h_{0}$ violates the absolute scalability property (and potentially the triangle inequality depending on the vectors chosen), it does not satisfy all the criteria to be a norm. Therefore, $h_{0}$ is not a norm."
   ]
  },
  {
   "cell_type": "markdown",
   "id": "fc9468db",
   "metadata": {},
   "source": [
    "### 2.3"
   ]
  },
  {
   "cell_type": "markdown",
   "id": "47942552",
   "metadata": {},
   "source": [
    "To show that $h_{1}(\\beta)$, the $L_1$ norm, is convex in $\\beta$, we need to demonstrate that it satisfies the convexity condition for any two vectors $\\beta^{(1)}$ and $\\beta^{(2)}$ in $\\mathbb{R}^p$ and for any $\\theta$ in the interval [0, 1]. The convexity condition for a function $f: \\mathbb{R}^n \\rightarrow \\mathbb{R}$ is defined as:\n",
    "\n",
    "$$\n",
    "f(\\theta \\beta^{(1)} + (1 - \\theta) \\beta^{(2)}) \\leq \\theta f(\\beta^{(1)}) + (1 - \\theta) f(\\beta^{(2)}).\n",
    "$$\n",
    "\n",
    "The $L_1$ norm of $\\beta$, $h_{1}(\\beta)$, is defined as the sum of the absolute values of the coefficients in $\\beta$:\n",
    "\n",
    "$$\n",
    "h_{1}(\\beta) = \\sum_{j=1}^{p} |\\beta_j|.\n",
    "$$\n",
    "\n",
    "\n",
    "Consider two vectors $\\beta^{(1)}, \\beta^{(2)} \\in \\mathbb{R}^p$ and let $\\theta \\in [0, 1]$. We want to show that:\n",
    "\n",
    "$$\n",
    "h_{1}(\\theta \\beta^{(1)} + (1 - \\theta) \\beta^{(2)}) \\leq \\theta h_{1}(\\beta^{(1)}) + (1 - \\theta) h_{1}(\\beta^{(2)}).\n",
    "$$\n",
    "\n",
    "By the definition of $h_{1}$, we have:\n",
    "\n",
    "$$\n",
    "\\begin{align*}\n",
    "h_{1}(\\theta \\beta^{(1)} + (1 - \\theta) \\beta^{(2)}) &= \\sum_{j=1}^{p} |\\theta \\beta^{(1)}_j + (1 - \\theta) \\beta^{(2)}_j| \\\\\n",
    "&\\leq \\sum_{j=1}^{p} (\\theta |\\beta^{(1)}_j| + (1 - \\theta) |\\beta^{(2)}_j|) \\\\\n",
    "&= \\theta \\sum_{j=1}^{p} |\\beta^{(1)}_j| + (1 - \\theta) \\sum_{j=1}^{p} |\\beta^{(2)}_j| \\\\\n",
    "&= \\theta h_{1}(\\beta^{(1)}) + (1 - \\theta) h_{1}(\\beta^{(2)}).\n",
    "\\end{align*}\n",
    "$$\n",
    "\n",
    "The inequality:\n",
    "\n",
    "$$\n",
    "|\\theta \\beta^{(1)}_j + (1 - \\theta) \\beta^{(2)}_j| \\leq \\theta |\\beta^{(1)}_j| + (1 - \\theta) |\\beta^{(2)}_j|\n",
    "$$\n",
    "\n",
    "follows from the triangle inequality for absolute values, which states that for any real numbers $a$ and $b$, $|a + b| \\leq |a| + |b|$. This property ensures that the weighted sum of absolute values (the $L_1$ norm) is indeed convex.\n",
    "\n",
    "Therefore, $h_{1}(\\beta)$ is convex in $\\beta$.\n"
   ]
  },
  {
   "cell_type": "markdown",
   "id": "4ea66d72",
   "metadata": {},
   "source": [
    "### 2.4"
   ]
  },
  {
   "cell_type": "markdown",
   "id": "7fb9aa25",
   "metadata": {},
   "source": [
    "To demonstrate the convexity of $h_{2}(\\beta) = \\sum_{j=1}^{p} \\beta_j^2$, we will use the definition of convexity for a function $f$, which requires that for any two points $\\beta^{(1)}$ and $\\beta^{(2)}$ in $\\mathbb{R}^p$, and for any $\\theta$ in the interval $[0, 1]$, the following inequality holds:\n",
    "\n",
    "$$\n",
    "f(\\theta \\beta^{(1)} + (1 - \\theta) \\beta^{(2)}) \\leq \\theta f(\\beta^{(1)}) + (1 - \\theta) f(\\beta^{(2)}).\n",
    "$$\n",
    "\n",
    "Given:\n",
    "\n",
    "$$\n",
    "h_{2}(\\beta) = \\sum_{j=1}^{p} \\beta_j^2.\n",
    "$$\n",
    "\n",
    "For $\\beta^{(1)}, \\beta^{(2)} \\in \\mathbb{R}^p$ and $\\theta \\in [0, 1]$, consider:\n",
    "\n",
    "$$\n",
    "h_{2}(\\theta \\beta^{(1)} + (1 - \\theta) \\beta^{(2)}) = \\sum_{j=1}^{p} (\\theta \\beta^{(1)}_j + (1 - \\theta) \\beta^{(2)}_j)^2.\n",
    "$$\n",
    "\n",
    "Expanding the square:\n",
    "\n",
    "$$\n",
    "= \\sum_{j=1}^{p} (\\theta^2 (\\beta^{(1)}_j)^2 + 2\\theta(1-\\theta) \\beta^{(1)}_j \\beta^{(2)}_j + (1-\\theta)^2 (\\beta^{(2)}_j)^2).\n",
    "$$\n",
    "\n",
    "By applying the definition of convexity to the quadratic function, which is inherently convex (as its second derivative is positive), we understand that for any $\\beta_j$, the function $f(\\beta_j) = \\beta_j^2$ is convex. Therefore, the sum of convex functions, $h_{2}(\\beta)$, is also convex.\n",
    "\n",
    "A simpler argument involves acknowledging that the quadratic function's convexity implies:\n",
    "\n",
    "$$\n",
    "\\theta f(\\beta^{(1)}) + (1 - \\theta) f(\\beta^{(2)}) - f(\\theta \\beta^{(1)} + (1 - \\theta) \\beta^{(2)}) \\geq 0,\n",
    "$$\n",
    "\n",
    "for $f(\\beta) = \\beta^2$, due to the inherent property of quadratic functions. Consequently, $h_{2}(\\beta)$, as a sum of such quadratic functions ($\\beta_j^2$), adheres to the convexity condition without the need to separately consider the cross-terms $2\\theta(1-\\theta) \\beta^{(1)}_j \\beta^{(2)}_j$, as the direct application of convexity to each squared term is sufficient.\n",
    "\n",
    "\n",
    "Thus, $h_{2}(\\beta) = \\sum_{j=1}^{p} \\beta_j^2$ is convex in $\\beta$ because it is a sum of convex functions ($\\beta_j^2$), satisfying the convexity condition for any combination of $\\beta^{(1)}$, $\\beta^{(2)}$, and $\\theta$. This aligns directly with the fundamental properties of convex functions, making $h_{2}(\\beta)$ a convex function in $\\beta$.\n"
   ]
  },
  {
   "cell_type": "markdown",
   "id": "fce2b932",
   "metadata": {},
   "source": [
    "### 2.5"
   ]
  },
  {
   "cell_type": "markdown",
   "id": "474397d3",
   "metadata": {},
   "source": [
    "To show that $h_{1,2}(\\beta)$ is convex in $\\beta$, we'll demonstrate that it satisfies the convexity condition. The function $h_{1,2}(\\beta)$ is defined as:\n",
    "\n",
    "$$\n",
    "h_{1,2}(\\beta) = \\alpha h_{1}(\\beta) + (1-\\alpha) h_{2}(\\beta),\n",
    "$$\n",
    "\n",
    "where $h_{1}(\\beta) = \\sum_{j=1}^{p} |\\beta_j|$ and $h_{2}(\\beta) = \\sum_{j=1}^{p} \\beta_j^2$, for $\\alpha \\in [0, 1]$.\n",
    "\n",
    "\n",
    "A function $f: \\mathbb{R}^n \\rightarrow \\mathbb{R}$ is convex if for any two points $x, y \\in \\mathbb{R}^n$ and any $\\theta \\in [0, 1]$, the following holds:\n",
    "\n",
    "$$\n",
    "f(\\theta x + (1 - \\theta) y) \\leq \\theta f(x) + (1 - \\theta) f(y).\n",
    "$$\n",
    "\n",
    "Since both $h_{1}(\\beta)$ and $h_{2}(\\beta)$ are convex in $\\beta$ (as shown in previous answers), their linear combination $h_{1,2}(\\beta)$ will also be convex if $\\alpha$ and $1-\\alpha$ are non-negative, which is true by definition since $\\alpha \\in [0, 1]$.\n",
    "\n",
    "\n",
    "Given:\n",
    "\n",
    "- $h_{1}(\\beta)$ is convex.\n",
    "- $h_{2}(\\beta)$ is also convex.\n",
    "\n",
    "For any $\\beta^{(1)}, \\beta^{(2)} \\in \\mathbb{R}^p$ and any $\\theta \\in [0, 1]$, we have:\n",
    "\n",
    "$$\n",
    "\\begin{align*}\n",
    "h_{1,2}(\\theta \\beta^{(1)} + (1 - \\theta) \\beta^{(2)}) &= \\alpha h_{1}(\\theta \\beta^{(1)} + (1 - \\theta) \\beta^{(2)}) + (1-\\alpha) h_{2}(\\theta \\beta^{(1)} + (1 - \\theta) \\beta^{(2)}) \\\\\n",
    "&\\leq \\alpha [\\theta h_{1}(\\beta^{(1)}) + (1 - \\theta) h_{1}(\\beta^{(2)})] + (1-\\alpha) [\\theta h_{2}(\\beta^{(1)}) + (1 - \\theta) h_{2}(\\beta^{(2)})] \\\\\n",
    "&= \\theta [\\alpha h_{1}(\\beta^{(1)}) + (1-\\alpha) h_{2}(\\beta^{(1)})] + (1 - \\theta) [\\alpha h_{1}(\\beta^{(2)}) + (1-\\alpha) h_{2}(\\beta^{(2)})] \\\\\n",
    "&= \\theta h_{1,2}(\\beta^{(1)}) + (1 - \\theta) h_{1,2}(\\beta^{(2)}).\n",
    "\\end{align*}\n",
    "$$\n",
    "\n",
    "This inequality demonstrates the convexity of $h_{1,2}(\\beta)$ because it adheres to the definition of convex functions. The convexity properties of $h_{1}(\\beta)$ and $h_{2}(\\beta)$, allows us to distribute the convex combination inside the functions and then reassemble them under the weights $\\alpha$ and $1-\\alpha$, thus proving $h_{1,2}(\\beta)$ is convex in $\\beta$.\n"
   ]
  },
  {
   "cell_type": "markdown",
   "id": "2c8a3db3",
   "metadata": {},
   "source": [
    "### 2.6"
   ]
  },
  {
   "cell_type": "markdown",
   "id": "d57293a8",
   "metadata": {},
   "source": [
    "To determine which penalization functions make the penalized regression problem convex, we need to consider both the loss function and the penalty term. The loss function in (2) is the sum of squared residuals, which is convex in $\\beta$. For the overall penalized regression problem to be convex, the penalty term $h(\\beta)$ also needs to be convex, as the sum of convex functions is convex.\n",
    "\n",
    "1. **$h_{0}(\\beta)$**: As previously discussed, $h_{0}(\\beta)$ is not convex because it violates the convexity condition. Therefore, the penalized regression problem with $h_{0}(\\beta)$ as the penalty term is not convex.\n",
    "\n",
    "2. **$h_{1}(\\beta)$**: The $L_1$ norm, represented by $h_{1}(\\beta)$, is convex. Therefore, the penalized regression problem with $h_{1}(\\beta)$ as the penalty term is convex, as the sum of the convex loss function and the convex $L_1$ penalty remains convex.\n",
    "\n",
    "3. **$h_{2}(\\beta)$**: The squared $L_2$ norm, $h_{2}(\\beta)$, is also convex. Consequently, the penalized regression problem with $h_{2}(\\beta)$ as the penalty term is convex, given that both the loss function and the squared $L_2$ penalty are convex.\n",
    "\n",
    "4. **$h_{1,2}(\\beta)$**: This penalization function is a linear combination of $h_{1}(\\beta)$ and $h_{2}(\\beta)$, both of which are convex. Since linear combinations of convex functions (with non-negative coefficients) are convex, $h_{1,2}(\\beta)$ is convex. Therefore, the penalized regression problem with $h_{1,2}(\\beta)$ as the penalty term is convex.\n",
    "\n",
    "The penalized regression problem is therefore convex for the penalization functions $h_{1}(\\beta)$, $h_{2}(\\beta)$, and $h_{1,2}(\\beta)$. Each of these penalty terms preserves the convexity of the overall objective function when combined with the convex loss function."
   ]
  },
  {
   "cell_type": "markdown",
   "id": "e015937b-e0d3-41ff-a876-5029cc757bed",
   "metadata": {},
   "source": [
    "## problem 3"
   ]
  },
  {
   "cell_type": "markdown",
   "id": "f4499d8f-f9ce-4eb6-9598-9dbabc07621e",
   "metadata": {},
   "source": [
    "### 3.1"
   ]
  },
  {
   "cell_type": "markdown",
   "id": "ccbc6dc5-c3a5-4054-aa94-3d102abfb42a",
   "metadata": {},
   "source": [
    "Rosenbaum and Rubin's result demonstrates that if the potential outcomes $(Y(0), Y(1))$ are independent of the treatment assignment $D$ given covariates $X$ (denoted as $(Y(0), Y(1)) \\perp D \\mid X$), then the potential outcomes are also independent of the treatment assignment given the propensity score $P = E[D \\mid X]$ (denoted as $(Y(0), Y(1)) \\perp D \\mid P$). Formally, this means:\n",
    "\n",
    "Given:\n",
    "\n",
    "1. $(Y(0), Y(1)) \\perp D \\mid X$, which means the treatment assignment is independent of the potential outcomes conditioned on covariates $X$.\n",
    "2. The propensity score $P = E[D \\mid X]$ is the probability of receiving the treatment given the covariates $X$.\n",
    "\n",
    "\n",
    "$(Y(0), Y(1)) \\perp D \\mid P$, implying that conditioning on the propensity score is sufficient to ensure the treatment assignment is independent of the potential outcomes.\n",
    "\n",
    "\n",
    "By the properties of conditional expectation and probability, the propensity score $P(X)$ encapsulates all relevant information in $X$ that affects the probability of receiving treatment $D$. Thus, within levels of $P$, the distribution of $X$ is the same for treated and untreated units.\n",
    "\n",
    "\n",
    "Given $(Y(0), Y(1)) \\perp D \\mid X$ and recognizing that $P$ is a function of $X$, we leverage the balancing property of the propensity score. This property ensures that, conditional on $P$, the treatment assignment $D$ is as good as random. Therefore, any two individuals with the same propensity score $P$ have, on average, the same probability of being treated, regardless of their specific values of $X$. This implies:\n",
    "\n",
    "$$\n",
    "(Y(0), Y(1)) \\perp D \\mid P(X),\n",
    "$$\n",
    "\n",
    "because conditioning on $P$ effectively controls for all confounding information contained in $X$ that influences the treatment assignment.\n",
    "\n",
    "For any function of potential outcomes $g(Y(0), Y(1))$ and any treatment assignment $D$, the expectation $E[g(Y(0), Y(1)) \\mid D, P] = E[g(Y(0), Y(1)) \\mid P]$, because within levels of $P$, the assignment to treatment $D$ is independent of the potential outcomes.\n"
   ]
  },
  {
   "cell_type": "markdown",
   "id": "4f13e29c-a120-40a7-a7de-950f8dfb5a17",
   "metadata": {},
   "source": [
    "### 3.2"
   ]
  },
  {
   "cell_type": "markdown",
   "id": "cca1e23c-9351-4014-9734-f92c9bd3d844",
   "metadata": {},
   "source": [
    "### 3.2.a"
   ]
  },
  {
   "cell_type": "markdown",
   "id": "4b87270f-2099-40f0-a5d8-81eeabbba1ed",
   "metadata": {},
   "source": [
    "The headline is clearly based on a simple comparison of *exyr* means. This is clearly a misleading comparison because it does not account for other sources of potential heterogeneity in the groups. "
   ]
  },
  {
   "cell_type": "code",
   "execution_count": 5,
   "id": "036fc214-a5e9-4870-8835-2bf406d3b218",
   "metadata": {},
   "outputs": [
    {
     "name": "stdout",
     "output_type": "stream",
     "text": [
      "   Unnamed: 0       exyr  smoking        age\n",
      "0           1  47.368238        1  25.195272\n",
      "1           2  11.487626        0  66.839859\n",
      "2           3  28.746626        0  48.190247\n",
      "3           4  37.317359        1  35.605114\n",
      "4           5  26.160615        0  50.138735\n",
      "smoking\n",
      "0    28.788753\n",
      "1    36.763548\n",
      "Name: exyr, dtype: float64\n"
     ]
    }
   ],
   "source": [
    "import pandas as pd\n",
    "\n",
    "# Load the data\n",
    "data = pd.read_csv('soo.csv')\n",
    "print(data.head())\n",
    "\n",
    "# Calculate the mean expected years of life (exyr) for smokers and non-smokers\n",
    "mean_exyr_by_smoking_status = data.groupby('smoking')['exyr'].mean()\n",
    "\n",
    "print(mean_exyr_by_smoking_status)"
   ]
  },
  {
   "cell_type": "markdown",
   "id": "d3f32969-84c2-443f-aaa7-075b3f083760",
   "metadata": {},
   "source": [
    "### 3.2.b"
   ]
  },
  {
   "cell_type": "markdown",
   "id": "2ae85524-7dd2-444f-9fb5-d39209c906bb",
   "metadata": {},
   "source": [
    "Looking at mean age for smokers and non-smokers shows that the average age of non-smokers in the dataset is approximately 47.22 years, while the average age of smokers is approximately 35.54 years. This significant difference in age between smokers and non-smokers could (and will be shown) to be a problem for the causal interpretation of the difference in expected years of life from the previous question.\n",
    "\n",
    "Without controlling for age, we cannot say that smoking increases life expectancy, as the observed difference might be influenced by the age composition of the groups rather than the effect of smoking itself."
   ]
  },
  {
   "cell_type": "code",
   "execution_count": 6,
   "id": "018b214b-47f5-4d5c-86d2-d075919c39da",
   "metadata": {},
   "outputs": [
    {
     "name": "stdout",
     "output_type": "stream",
     "text": [
      "smoking\n",
      "0    47.217696\n",
      "1    35.542983\n",
      "Name: age, dtype: float64\n"
     ]
    }
   ],
   "source": [
    "# Calculate the mean age for smokers and non-smokers\n",
    "mean_age_by_smoking_status = data.groupby('smoking')['age'].mean()\n",
    "\n",
    "print(mean_age_by_smoking_status)"
   ]
  },
  {
   "cell_type": "markdown",
   "id": "3d1cde33-9df5-45a6-8adf-8b796dbd30f2",
   "metadata": {},
   "source": [
    "### 3.2.c"
   ]
  },
  {
   "cell_type": "markdown",
   "id": "259a2f03-a2fa-4858-9406-17db324ff0be",
   "metadata": {},
   "source": [
    "Per (3), the idea of conditional independence between the treatment assignment (in this case, the act of smoking, denoted as $D$) and the potential outcomes ($Y(0)$ for non-smoking and $Y(1)$ for smoking) given a covariate ($X$, which is age in this context). In formal terms, the assumption $ (Y(0), Y(1)) \\perp D \\mid X $ means that once we control for age, the potential outcomes of an individual's expected years remaining are independent of whether they are a smoker or a non-smoker. This is a statement about the unconfoundedness or ignorability of the treatment assignment given age.\n",
    "\n",
    "In simpler terms, this assumption implies that within groups of individuals of the same age, whether an individual chooses to smoke or not is as good as randomly assigned with respect to their potential outcomes in terms of expected years remaining. This means that any difference in outcomes within these age groups can be causally attributed to the effect of smoking, rather than being confounded by age.\n",
    "\n",
    "In the context of health data and smoking, this assumption might be challenging to justify for several reasons. For instance, there are likely other variables besides age that influence both the likelihood of an individual being a smoker and their expected life years. These can include factors like socioeconomic status, genetic predispositions, lifestyle choices besides smoking (e.g., diet, physical activity), environmental exposures, and more. Moreover, individuals do not randomly decide to smoke or not; this decision can be influenced by various unmeasured factors that might also affect their health outcomes.\n",
    "\n",
    "However, for the purpose of analysis and following the assumption as true, Rosenbaum and Rubin's result (as discussed above) introduces the concept of the propensity score, $P= E[D \\mid X]$, which is the probability of being treated (smoking, in this case) conditional on covariates (age). The statement $(Y(0), Y(1)) \\perp D \\mid P$ implies that conditional on the propensity score, the potential outcomes are independent of the treatment assignment. This essentially means that if we can match individuals on their propensity score, we can account for all observed confounding influenced by age, thus making the groups (smokers and non-smokers) comparable in terms of their potential outcomes.\n"
   ]
  },
  {
   "cell_type": "markdown",
   "id": "cf9220ce-35b3-4afa-925b-c80af4fc7a55",
   "metadata": {},
   "source": [
    "### 3.2.d"
   ]
  },
  {
   "cell_type": "markdown",
   "id": "dd01175e-f219-4d5c-817d-603860c656d8",
   "metadata": {},
   "source": [
    "#### 3.2.d.i"
   ]
  },
  {
   "cell_type": "code",
   "execution_count": 7,
   "id": "9b33119a-398f-4c08-bc1d-f1284144338f",
   "metadata": {},
   "outputs": [],
   "source": [
    "from sklearn.preprocessing import PolynomialFeatures\n",
    "from sklearn.linear_model import LinearRegression\n",
    "import numpy as np\n",
    "\n",
    "# Prepare the data\n",
    "X_smokers = data[data['smoking'] == 1]['age'].values.reshape(-1, 1)\n",
    "X_nonsmokers = data[data['smoking'] == 0]['age'].values.reshape(-1, 1)\n",
    "y_smokers = data[data['smoking'] == 1]['exyr']\n",
    "y_nonsmokers = data[data['smoking'] == 0]['exyr']\n",
    "\n",
    "# Polynomial features\n",
    "poly = PolynomialFeatures(degree=3)\n",
    "\n",
    "# Smokers\n",
    "X_smokers_poly = poly.fit_transform(X_smokers)\n",
    "model_smokers = LinearRegression().fit(X_smokers_poly, y_smokers)\n",
    "\n",
    "# Non-smokers\n",
    "X_nonsmokers_poly = poly.fit_transform(X_nonsmokers)\n",
    "model_nonsmokers = LinearRegression().fit(X_nonsmokers_poly, y_nonsmokers)\n"
   ]
  },
  {
   "cell_type": "markdown",
   "id": "8cd0bcaa-c83b-4c03-bdb5-ab2184898a39",
   "metadata": {},
   "source": [
    "#### 3.2.d.ii"
   ]
  },
  {
   "cell_type": "code",
   "execution_count": 8,
   "id": "64890c2c-4771-496d-9385-734c4ca2df40",
   "metadata": {},
   "outputs": [
    {
     "data": {
      "image/png": "[encoded data removed]",
      "text/plain": [
       "<Figure size 1000x600 with 1 Axes>"
      ]
     },
     "metadata": {},
     "output_type": "display_data"
    }
   ],
   "source": [
    "import matplotlib.pyplot as plt\n",
    "\n",
    "# Generate a range of ages\n",
    "ages = np.linspace(data['age'].min(), data['age'].max(), 100).reshape(-1, 1)\n",
    "ages_poly = poly.transform(ages)\n",
    "\n",
    "# Predict using the models\n",
    "y_pred_smokers = model_smokers.predict(ages_poly)\n",
    "y_pred_nonsmokers = model_nonsmokers.predict(ages_poly)\n",
    "\n",
    "# Calculate CATE\n",
    "cate = y_pred_smokers - y_pred_nonsmokers\n",
    "\n",
    "# Plot\n",
    "plt.figure(figsize=(10, 6))\n",
    "plt.plot(ages, cate, label='CATE')\n",
    "plt.xlabel('Age')\n",
    "plt.ylabel('Conditional Average Treatment Effect')\n",
    "plt.title('CATE as a Function of Age')\n",
    "plt.legend()\n",
    "plt.show()\n"
   ]
  },
  {
   "cell_type": "markdown",
   "id": "f435a0bd-2de3-43ae-9166-3ef2f7c53dd9",
   "metadata": {},
   "source": [
    "The plot of the CATE as a function of age illustrates how the effect of smoking on expected years remaining varies across different ages. The line represents the difference in predicted life expectancy between smokers and non-smokers at various ages, based on a polynomial regression model of degree 3.\n",
    "\n",
    "The function implies a negative effect of smoking on life expectancy across ages. The variation in the CATE across ages indicates heterogeneity in the treatment effect of smoking. This means the impact of smoking on life expectancy is not uniform across all ages; it may vary significantly depending on how old the individual is. The observed heterogeneity could reflect biological, behavioral, or social mechanisms that make the health impact of smoking more or less severe at different life stages. For example, the cumulative effect of smoking might not manifest uniformly across all ages, or younger individuals might have a different physiological response to smoking compared to older individuals.\n"
   ]
  },
  {
   "cell_type": "markdown",
   "id": "a164cec2-f482-4a59-a699-68265c62b23b",
   "metadata": {},
   "source": [
    "#### 3.2.d.iii"
   ]
  },
  {
   "cell_type": "code",
   "execution_count": 16,
   "id": "81d1084b",
   "metadata": {},
   "outputs": [
    {
     "name": "stdout",
     "output_type": "stream",
     "text": [
      "Estimated ATE: -2.9921216746572115\n"
     ]
    }
   ],
   "source": [
    "# Separate data into smokers and non-smokers\n",
    "non_smokers_data = data[data['smoking'] == 0]\n",
    "smokers_data = data[data['smoking'] == 1]\n",
    "\n",
    "# Polynomial features of degree 3\n",
    "poly = PolynomialFeatures(degree=3)\n",
    "\n",
    "# Model fitting for non-smokers\n",
    "X_non_smokers = poly.fit_transform(non_smokers_data[['age']])\n",
    "y_non_smokers = non_smokers_data['exyr']\n",
    "model_non_smokers = LinearRegression().fit(X_non_smokers, y_non_smokers)\n",
    "\n",
    "# Model fitting for smokers\n",
    "X_smokers = poly.fit_transform(smokers_data[['age']])\n",
    "y_smokers = smokers_data['exyr']\n",
    "model_smokers = LinearRegression().fit(X_smokers, y_smokers)\n",
    "\n",
    "# Generate a range of ages for prediction\n",
    "ages_range = np.linspace(data['age'].min(), data['age'].max(), 100).reshape(-1, 1)\n",
    "ages_poly = poly.fit_transform(ages_range)\n",
    "\n",
    "# Predictions for non-smokers and smokers\n",
    "predicted_non_smokers = model_non_smokers.predict(ages_poly)\n",
    "predicted_smokers = model_smokers.predict(ages_poly)\n",
    "\n",
    "# Calculate CATE as the difference in predicted expected years remaining\n",
    "cate = predicted_smokers - predicted_non_smokers\n",
    "\n",
    "# KDE calculation\n",
    "n = len(data['age'])\n",
    "h = 5  # Bandwidth for KDE\n",
    "ages = data['age'].values\n",
    "\n",
    "def manual_kde(a, ages, h):\n",
    "    return np.sum((1 / (n * h * np.sqrt(2 * np.pi))) * np.exp(-((a - ages) ** 2) / (2 * h ** 2)))\n",
    "\n",
    "# Compute KDE for each age in ages_range\n",
    "kde_estimates = np.array([manual_kde(a, ages, h) for a in ages_range.flatten()])\n",
    "\n",
    "# Normalize KDE estimates to ensure they sum to 1\n",
    "kde_estimates_normalized = kde_estimates / np.trapz(kde_estimates, ages_range.flatten())\n",
    "\n",
    "# Compute weighted ATE using normalized KDE\n",
    "ate = np.trapz(cate * kde_estimates_normalized, ages_range.flatten())\n",
    "\n",
    "print(f\"Estimated ATE: {ate}\")\n"
   ]
  },
  {
   "cell_type": "markdown",
   "id": "f2acc35a-41ce-408f-bfd9-7eef3e178acc",
   "metadata": {},
   "source": [
    "The estimated ATE of $-2.99$, represents the average effect of smoking on the expected years remaining across the entire age distribution within the dataset, based on a kernel density estimation approach with a bandwidth of $h=5$."
   ]
  },
  {
   "cell_type": "markdown",
   "id": "152e31cb-55ff-4a3e-9033-35d74bd2ea16",
   "metadata": {},
   "source": [
    "### 3.2.e"
   ]
  },
  {
   "cell_type": "markdown",
   "id": "ff28c2f2-4ae1-49e1-83ad-b89e27bb4588",
   "metadata": {},
   "source": [
    "#### 3.2.e.i"
   ]
  },
  {
   "cell_type": "code",
   "execution_count": 10,
   "id": "fa08b76c-0126-4961-821f-3b4a2d5b1f91",
   "metadata": {},
   "outputs": [
    {
     "data": {
      "image/png": "[encoded data removed]",
      "text/plain": [
       "<Figure size 1000x600 with 1 Axes>"
      ]
     },
     "metadata": {},
     "output_type": "display_data"
    }
   ],
   "source": [
    "from sklearn.linear_model import LogisticRegression\n",
    "\n",
    "# Third-degree polynomial features of age\n",
    "poly = PolynomialFeatures(degree=3)\n",
    "X_age_poly = poly.fit_transform(data['age'].values.reshape(-1, 1))\n",
    "D = data['smoking']\n",
    "\n",
    "# Fit a logistic regression model for propensity score estimation\n",
    "logistic_model = LogisticRegression(max_iter=1000)\n",
    "logistic_model.fit(X_age_poly, D)\n",
    "\n",
    "# Predict the propensity scores\n",
    "propensity_scores = logistic_model.predict_proba(X_age_poly)[:, 1]\n",
    "\n",
    "# Plot propensity scores as a function of age\n",
    "plt.figure(figsize=(10, 6))\n",
    "plt.scatter(data['age'], propensity_scores, alpha=0.2)\n",
    "plt.xlabel('Age')\n",
    "plt.ylabel('Propensity Score')\n",
    "plt.title('Propensity Score as a Function of Age')\n",
    "plt.show()"
   ]
  },
  {
   "cell_type": "markdown",
   "id": "8fa87f9c-f211-4aa1-b4cf-51fef187c6a5",
   "metadata": {},
   "source": [
    "The plot shows that the propensity to smoke is not uniform across ages, suggesting that certain age groups are more likely to smoke than others. This variation could reflect demographic, social, or health-related trends that influence smoking behavior. The model captures non-linear relationships between age and the likelihood of smoking, allowing for a more nuanced understanding of how smoking propensity changes with age.\n"
   ]
  },
  {
   "cell_type": "markdown",
   "id": "2bfe1aee-8a2a-42d0-b2ed-63ae2889210f",
   "metadata": {},
   "source": [
    "#### 3.2.e.ii"
   ]
  },
  {
   "cell_type": "code",
   "execution_count": 11,
   "id": "0533a9fe-c249-40af-b0f6-0d4a523ff11d",
   "metadata": {},
   "outputs": [
    {
     "name": "stdout",
     "output_type": "stream",
     "text": [
      "Intercept: 7.279708736228571, Coefficient for D (smoking): -3.4637067644453845, Coefficient for P (propensity score): 106.52839423489853\n"
     ]
    }
   ],
   "source": [
    "# Prepare the data with propensity scores as an additional covariate\n",
    "X_with_p = np.hstack([D.values.reshape(-1, 1), propensity_scores.reshape(-1, 1)])\n",
    "Y = data['exyr'].values\n",
    "\n",
    "# Fit a linear regression model to estimate the effect of D on Y, controlling for P\n",
    "model_with_p = LinearRegression().fit(X_with_p, Y)\n",
    "\n",
    "# Extract the coefficients \n",
    "intercept, coef_D, coef_P = model_with_p.intercept_, model_with_p.coef_[0], model_with_p.coef_[1]\n",
    "\n",
    "print(f\"Intercept: {intercept}, Coefficient for D (smoking): {coef_D}, Coefficient for P (propensity score): {coef_P}\")\n"
   ]
  },
  {
   "cell_type": "markdown",
   "id": "7031b2b0-fd44-44f0-b059-0ea489f35fe1",
   "metadata": {},
   "source": [
    "When replacing age $X$ with the propensity score $P$ in the analysis, the use of propensity scores aims to control for confounding by summarizing all observed covariates (in this case, age) that influence treatment assignment into a single metric. This can potentially provide a clearer insight into the causal effect of smoking by balancing the observed covariates across treatment groups. The propensity score approach is particularly beneficial when there are multiple covariates to control for, as it simplifies the control of confounding into a single dimension. With multiple covariates, the propensity score becomes even more valuable as it compresses all the covariates' confounding effects into a single score, simplifying the analysis and potentially reducing the dimensionality bias.\n"
   ]
  },
  {
   "cell_type": "markdown",
   "id": "573deecd-35d2-43ca-a10e-ee94cc118370",
   "metadata": {},
   "source": [
    "#### 3.2.e.iii"
   ]
  },
  {
   "cell_type": "code",
   "execution_count": 17,
   "id": "1159a0a1-b3f6-4922-b797-f8efdd0513f0",
   "metadata": {},
   "outputs": [
    {
     "name": "stdout",
     "output_type": "stream",
     "text": [
      "Estimated ATE from matching: -3.6836797551246296\n"
     ]
    }
   ],
   "source": [
    "from scipy.spatial import cKDTree\n",
    "\n",
    "# Separate datasets for smokers and non-smokers\n",
    "smokers = data[data['smoking'] == 1]\n",
    "nonsmokers = data[data['smoking'] == 0]\n",
    "\n",
    "# Use cKDTree for fast nearest neighbor search based on age\n",
    "tree = cKDTree(nonsmokers[['age']].values)\n",
    "\n",
    "# Find the closest non-smoker in age for each smoker\n",
    "distances, indices = tree.query(smokers[['age']].values, k=1)\n",
    "\n",
    "# Calculate the difference in expected years remaining for matched pairs\n",
    "matched_diffs = smokers['exyr'].values - nonsmokers.iloc[indices]['exyr'].values\n",
    "\n",
    "# Compute the ATE as the average of these differences\n",
    "ate_matching = np.mean(matched_diffs)\n",
    "\n",
    "print(f\"Estimated ATE from matching: {ate_matching}\")"
   ]
  },
  {
   "cell_type": "markdown",
   "id": "521fd6e4-9148-4082-aa30-3cb525387da9",
   "metadata": {},
   "source": [
    "The ATE estimated through the matching approach, comparing each smoking individual to the closest (in age) non-smoking individual, is approximately $-3.68$. This suggests that, on average, smoking is associated with a decrease of about $3.68$ years in the expected remaining life years, based on this specific age-matched comparison.\n",
    "\n",
    "Matching each smoking individual to the closest (in age) non-smoking individual to approximate the CATE for specific ages involves a direct comparison that doesn't rely on modeling assumptions to the same extent. This can provide a more intuitive and direct method of estimating the causal effect of smoking on life expectancy.\n",
    "\n",
    "Matching is appealing for its simplicity and directness but may not always be practical when there are multiple relevant covariates or when exact matches are hard to find. Regression methods that control for propensity scores offer a more flexible and comprehensive way to adjust for confounders, especially in more complex scenarios.\n"
   ]
  },
  {
   "cell_type": "markdown",
   "id": "68997a5f",
   "metadata": {},
   "source": [
    "### 3.3"
   ]
  },
  {
   "cell_type": "markdown",
   "id": "fdcb863d",
   "metadata": {},
   "source": [
    "a) Title: \"Estimating the Payoff to Attending a More Selective College: An Application of Selection on Observables and Unobservables\"\n",
    "- Authors: Stacy Berg Dale and Alan B. Krueger\n",
    "- Journal: Quarterly Journal of Economics\n",
    "- Publication Date: November 2002\n",
    "\n",
    "(b) They ask the question, \"Does the 'quality' of the college that students attend influence their subsequent earnings?\"\n",
    "- Treatment: Students who applied to and were accepted by both selective and less selective schools but chose to go to the less selective school.\n",
    "- Outcome: Students who attended more selective colleges do not earn more than other students who were accepted by comparable schools but attended less selective colleges.\n",
    "\n",
    "c) The authors expect selection into treatment for lots of reasons. The major one was specific interests. A student may decide to go to a less selective engineering school soon than Williams College, for example, which doesn't offer engineering.\n",
    "\n",
    "d) They control for the school's average SAT score, which is an indicator of school quality, family characteristics, and income. They also control for the number of schools a student applies to (to control for student \"motivation\")."
   ]
  },
  {
   "cell_type": "markdown",
   "id": "49d245f1-bf7a-4f28-88fb-b7252f4958dd",
   "metadata": {},
   "source": [
    "## problem 4"
   ]
  },
  {
   "cell_type": "code",
   "execution_count": 13,
   "id": "9e2b3bfd",
   "metadata": {},
   "outputs": [
    {
     "data": {
      "text/html": [
       "<div>\n",
       "<style scoped>\n",
       "    .dataframe tbody tr th:only-of-type {\n",
       "        vertical-align: middle;\n",
       "    }\n",
       "\n",
       "    .dataframe tbody tr th {\n",
       "        vertical-align: top;\n",
       "    }\n",
       "\n",
       "    .dataframe thead th {\n",
       "        text-align: right;\n",
       "    }\n",
       "</style>\n",
       "<table border=\"1\" class=\"dataframe\">\n",
       "  <thead>\n",
       "    <tr style=\"text-align: right;\">\n",
       "      <th></th>\n",
       "      <th>Unnamed: 0</th>\n",
       "      <th>Y</th>\n",
       "      <th>R</th>\n",
       "    </tr>\n",
       "  </thead>\n",
       "  <tbody>\n",
       "    <tr>\n",
       "      <th>0</th>\n",
       "      <td>1</td>\n",
       "      <td>0.055582</td>\n",
       "      <td>0.001315</td>\n",
       "    </tr>\n",
       "    <tr>\n",
       "      <th>1</th>\n",
       "      <td>2</td>\n",
       "      <td>-0.031362</td>\n",
       "      <td>0.001837</td>\n",
       "    </tr>\n",
       "    <tr>\n",
       "      <th>2</th>\n",
       "      <td>3</td>\n",
       "      <td>-0.251850</td>\n",
       "      <td>0.001933</td>\n",
       "    </tr>\n",
       "    <tr>\n",
       "      <th>3</th>\n",
       "      <td>4</td>\n",
       "      <td>0.071840</td>\n",
       "      <td>0.004766</td>\n",
       "    </tr>\n",
       "    <tr>\n",
       "      <th>4</th>\n",
       "      <td>5</td>\n",
       "      <td>0.337993</td>\n",
       "      <td>0.008128</td>\n",
       "    </tr>\n",
       "  </tbody>\n",
       "</table>\n",
       "</div>"
      ],
      "text/plain": [
       "   Unnamed: 0         Y         R\n",
       "0           1  0.055582  0.001315\n",
       "1           2 -0.031362  0.001837\n",
       "2           3 -0.251850  0.001933\n",
       "3           4  0.071840  0.004766\n",
       "4           5  0.337993  0.008128"
      ]
     },
     "execution_count": 13,
     "metadata": {},
     "output_type": "execute_result"
    }
   ],
   "source": [
    "rd = pd.read_csv(\"rd.csv\")\n",
    "\n",
    "rd.head()"
   ]
  },
  {
   "cell_type": "markdown",
   "id": "7ba133a6",
   "metadata": {},
   "source": [
    "### 4.1"
   ]
  },
  {
   "cell_type": "code",
   "execution_count": 14,
   "id": "91172c61",
   "metadata": {},
   "outputs": [
    {
     "data": {
      "image/png": "[encoded data removed]",
      "text/plain": [
       "<Figure size 640x480 with 1 Axes>"
      ]
     },
     "metadata": {},
     "output_type": "display_data"
    }
   ],
   "source": [
    "#plot data points\n",
    "plt.scatter(rd['R'], rd['Y'])\n",
    "\n",
    "# Add a vertical line at x = 0.5\n",
    "plt.axvline(x=0.5, color='red', linestyle='--')\n",
    "plt.show()"
   ]
  },
  {
   "cell_type": "markdown",
   "id": "00b19f61",
   "metadata": {},
   "source": [
    "Yes there is a jump at R = 0.5"
   ]
  },
  {
   "cell_type": "markdown",
   "id": "9fd9fc69",
   "metadata": {},
   "source": [
    "### 4.2"
   ]
  },
  {
   "cell_type": "code",
   "execution_count": 51,
   "id": "ce21e1ce",
   "metadata": {},
   "outputs": [
    {
     "data": {
      "image/png": "[encoded data removed]",
      "text/plain": [
       "<Figure size 640x480 with 1 Axes>"
      ]
     },
     "metadata": {},
     "output_type": "display_data"
    }
   ],
   "source": [
    "# subsetting the data, h = 0.2\n",
    "h_range = [0.1, 0.15, 0.2, 0.25, 0.3, 0.35, 0.4]\n",
    "\n",
    "for h in h_range:\n",
    "    # subsetting the data\n",
    "    rd_top_half = rd[(rd['R'] > 0.5) & (rd['R'] <= 0.5 + h)]\n",
    "    rd_bttm_half = rd[(rd['R'] <= 0.5 - h) & (rd['R'] < 0.5)]\n",
    "\n",
    "    # getting the top Y's\n",
    "    Y_top = rd_top_half['Y']\n",
    "    R_top = rd_top_half[['R']]  # Need to reshape to (n_samples, n_features) format\n",
    "\n",
    "    # getting the bottom Y's\n",
    "    Y_bttm = rd_bttm_half['Y']\n",
    "    R_bttm = rd_bttm_half[['R']]  # Need to reshape to (n_samples, n_features) format\n",
    "\n",
    "    # Initialize the linear regression model\n",
    "    model_top = LinearRegression()\n",
    "    model_bttm = LinearRegression()\n",
    "\n",
    "    # Fit the model to the data\n",
    "    model_top.fit(R_top.values, Y_top) #.values to get the numbers from the dataframe\n",
    "    model_bttm.fit(R_bttm.values, Y_bttm)\n",
    "\n",
    "    # Predict Y = 0.5 for both top and bottom models\n",
    "    predicted_Y_top = model_top.predict([[0.5]])\n",
    "    predicted_Y_bttm = model_bttm.predict([[0.5]])\n",
    "\n",
    "    # Calculate treatment effect\n",
    "    treatment_effect = predicted_Y_top - predicted_Y_bttm\n",
    "    \n",
    "    plt.scatter(h, treatment_effect[0])\n",
    "    plt.xlabel('bandwidth (h)')\n",
    "    plt.ylabel('Treatment Effect')"
   ]
  },
  {
   "cell_type": "markdown",
   "id": "07bd88db",
   "metadata": {},
   "source": [
    "Ans: We see that as we increase the bandwidth, the treatment effect becomes smaller (even becoming negative). This may signal an increase in bias (but a reduction in variance)."
   ]
  },
  {
   "cell_type": "markdown",
   "id": "f0c0806d",
   "metadata": {},
   "source": [
    "### 4.3"
   ]
  },
  {
   "cell_type": "code",
   "execution_count": 53,
   "id": "098c936d",
   "metadata": {},
   "outputs": [
    {
     "name": "stdout",
     "output_type": "stream",
     "text": [
      "The estimated treatment effect (when h = 0.25) is -0.6482858846206381\n"
     ]
    }
   ],
   "source": [
    "# subsetting the data\n",
    "rd_top_half = rd[(rd['R'] > 0.5) & (rd['R'] <= 0.5 + h)]\n",
    "rd_bttm_half = rd[(rd['R'] <= 0.5 - h) & (rd['R'] < 0.5)]\n",
    "\n",
    "# getting the top Y's\n",
    "Y_top = rd_top_half['Y']\n",
    "R_top = rd_top_half[['R']]  # Need to reshape to (n_samples, n_features) format\n",
    "\n",
    "# getting the bottom Y's\n",
    "Y_bttm = rd_bttm_half['Y']\n",
    "R_bttm = rd_bttm_half[['R']]  # Need to reshape to (n_samples, n_features) format\n",
    "\n",
    "# Initialize the linear regression model\n",
    "model_top = LinearRegression()\n",
    "model_bttm = LinearRegression()\n",
    "\n",
    "# Fit the model to the data\n",
    "model_top.fit(R_top.values, Y_top) #.values to get the numbers from the dataframe\n",
    "model_bttm.fit(R_bttm.values, Y_bttm)\n",
    "\n",
    "# Predict Y = 0.5 for both top and bottom models\n",
    "predicted_Y_top = model_top.predict([[0.5]])\n",
    "predicted_Y_bttm = model_bttm.predict([[0.5]])\n",
    "\n",
    "# Calculate treatment effect\n",
    "treatment_effect = predicted_Y_top - predicted_Y_bttm\n",
    "    \n",
    "print(f\"The estimated treatment effect (when h = 0.25) is {treatment_effect[0]}\")"
   ]
  },
  {
   "cell_type": "markdown",
   "id": "46f4e9f2",
   "metadata": {},
   "source": [
    "### 4.4"
   ]
  },
  {
   "cell_type": "markdown",
   "id": "a3914453",
   "metadata": {},
   "source": [
    "a) Title: \"Will Studying Economics Make You Rich? A Regression Discontinuity Analysis of the Returns to College Major\" \n",
    "- Authors: Zachary Bleemer and Aashish Mehta \n",
    "- Journal: American Economic Journal: Applied Economics \n",
    "- Publication Date: April 2022 \n",
    "\n",
    "b) They ask the question, \"What are the returns to an economics degree (undergraduate)?\n",
    "- Treatment: UCSC students who majored in economics (within the \"compliers\" subset, aka the set of people who scored a high gpa and majored in economics, who would not have majored in economics had they gotten a lower gpa)\n",
    "- Outcome: Students who majored in economics saw a 46% increase in their mid-20 career income. The increase mainly comes from undergraduates who went into finance and investment careers.\n",
    "\n",
    "c) They expect selection into treatment based on the nature of the treatment group—people who score a high enough GPA and major in economics. If there was no selection into the treatment, that would mean that no one with a high GPA would major in economics, which isn't the case because students are attracted to economics because it is a lucrative field (according to the paper).\n",
    "\n",
    "d) The authors expect a discountinuity in the treatment assignment so that they can claim that the discountinuity is the causal effect of studying economics (assuming potential outcomes are the same, aka no discountinuity in income if they did not study economics). \n"
   ]
  }
 ],
 "metadata": {
  "kernelspec": {
   "display_name": "Python 3 (ipykernel)",
   "language": "python",
   "name": "python3"
  },
  "language_info": {
   "codemirror_mode": {
    "name": "ipython",
    "version": 3
   },
   "file_extension": ".py",
   "mimetype": "text/x-python",
   "name": "python",
   "nbconvert_exporter": "python",
   "pygments_lexer": "ipython3",
   "version": "3.10.9"
  }
 },
 "nbformat": 4,
 "nbformat_minor": 5
}
