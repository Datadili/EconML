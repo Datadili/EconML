{
 "cells": [
  {
   "cell_type": "code",
   "execution_count": 32,
   "id": "e0ef3037",
   "metadata": {},
   "outputs": [],
   "source": [
    "import numpy as np\n",
    "def activition_function(vector, activation_func:str):\n",
    "    if activation_func == \"ReLU\":\n",
    "        #loops through elements in vector to see the maximum btw the element and 0\n",
    "        g_x = np.maximum(vector, 0)\n",
    "        \n",
    "    elif activation_func == \"sigmoid\":\n",
    "        g_x = 1/(1 + np.exp(-vector))\n",
    "    return g_x"
   ]
  },
  {
   "cell_type": "code",
   "execution_count": 34,
   "id": "cc8b362d",
   "metadata": {},
   "outputs": [
    {
     "data": {
      "text/plain": [
       "array([3.35350130e-04, 4.74258732e-02, 9.99954602e-01, 9.99876605e-01,\n",
       "       9.11051194e-04, 1.19202922e-01, 8.80797078e-01, 4.53978687e-05,\n",
       "       3.35350130e-04, 9.11051194e-04])"
      ]
     },
     "execution_count": 34,
     "metadata": {},
     "output_type": "execute_result"
    }
   ],
   "source": [
    "# vectors between 1 to 10 of size n\n",
    "n = 10\n",
    "vector = np.random.randint(-10, 11, size=n)\n",
    "\n",
    "activition_function(vector, \"sigmoid\")"
   ]
  },
  {
   "cell_type": "code",
   "execution_count": 20,
   "id": "f2dba8e8",
   "metadata": {},
   "outputs": [
    {
     "data": {
      "text/plain": [
       "array([0, 2, 6, 0, 6, 0, 5, 7, 0, 4])"
      ]
     },
     "execution_count": 20,
     "metadata": {},
     "output_type": "execute_result"
    }
   ],
   "source": [
    "np.maximum(vector, 0)"
   ]
  },
  {
   "cell_type": "code",
   "execution_count": 21,
   "id": "f21b6781",
   "metadata": {},
   "outputs": [
    {
     "data": {
      "text/plain": [
       "7"
      ]
     },
     "execution_count": 21,
     "metadata": {},
     "output_type": "execute_result"
    }
   ],
   "source": [
    "np.max(vector)"
   ]
  },
  {
   "cell_type": "code",
   "execution_count": 22,
   "id": "135057c8",
   "metadata": {},
   "outputs": [
    {
     "data": {
      "text/plain": [
       "array([-7,  2,  6, -5,  6, -2,  5,  7, -6,  4])"
      ]
     },
     "execution_count": 22,
     "metadata": {},
     "output_type": "execute_result"
    }
   ],
   "source": [
    "vector"
   ]
  },
  {
   "cell_type": "code",
   "execution_count": 24,
   "id": "355fc87c",
   "metadata": {},
   "outputs": [
    {
     "data": {
      "text/plain": [
       "array([9.99088949e-01, 1.19202922e-01, 2.47262316e-03, 9.93307149e-01,\n",
       "       2.47262316e-03, 8.80797078e-01, 6.69285092e-03, 9.11051194e-04,\n",
       "       9.97527377e-01, 1.79862100e-02])"
      ]
     },
     "execution_count": 24,
     "metadata": {},
     "output_type": "execute_result"
    }
   ],
   "source": [
    "1/(1 + np.exp(-vector))"
   ]
  },
  {
   "cell_type": "code",
   "execution_count": null,
   "id": "ac9af239",
   "metadata": {},
   "outputs": [],
   "source": []
  }
 ],
 "metadata": {
  "kernelspec": {
   "display_name": "Python 3 (ipykernel)",
   "language": "python",
   "name": "python3"
  },
  "language_info": {
   "codemirror_mode": {
    "name": "ipython",
    "version": 3
   },
   "file_extension": ".py",
   "mimetype": "text/x-python",
   "name": "python",
   "nbconvert_exporter": "python",
   "pygments_lexer": "ipython3",
   "version": "3.10.9"
  }
 },
 "nbformat": 4,
 "nbformat_minor": 5
}
